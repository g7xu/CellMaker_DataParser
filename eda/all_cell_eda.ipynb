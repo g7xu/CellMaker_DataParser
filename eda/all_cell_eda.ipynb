{
 "cells": [
  {
   "cell_type": "code",
   "execution_count": 148,
   "metadata": {},
   "outputs": [],
   "source": [
    "import pandas as pd\n",
    "import numpy as np\n",
    "import matplotlib.pylab as plt"
   ]
  },
  {
   "cell_type": "code",
   "execution_count": 149,
   "metadata": {},
   "outputs": [
    {
     "name": "stderr",
     "output_type": "stream",
     "text": [
      "/opt/anaconda3/envs/scripps_microbiome/lib/python3.8/site-packages/pandas/util/_decorators.py:311: ParserWarning: Falling back to the 'python' engine because the 'c' engine does not support regex separators (separators > 1 char and different from '\\s+' are interpreted as regex); you can avoid this warning by specifying engine='python'.\n",
      "  return func(*args, **kwargs)\n"
     ]
    }
   ],
   "source": [
    "# importing data\n",
    "all_cell_markers_df = pd.read_csv('../data/all_cell_markers.txt', sep = r'\\t')\n",
    "all_human_markers_df = pd.read_csv('../data/Human_cell_markers.txt', sep = r'\\t')\n",
    "all_mouse_markers_df = pd.read_csv('../data/Mouse_cell_markers.txt', sep = r'\\t')\n",
    "all_singleCell_markers_df = pd.read_csv('../data/Single_cell_markers.txt', sep = r'\\t')"
   ]
  },
  {
   "cell_type": "markdown",
   "metadata": {},
   "source": [
    "# Data Schema\n",
    "- **speciesType**: the species from which the data originates\n",
    "    - there are only two data type, either `Human` or `Mouse`\n",
    "- **tissueType**: the type of tissues from which data originates\n",
    "    - in total 181 different kinds of cells\n",
    "    - a lot of them are undefined\n",
    "- **UberonOntologyID**: The universal unique identifier of the anatomy structure found in animals \n",
    "    - needs to confirm with the team\n",
    "    - contain missing value\n",
    "- **cancerType**: the association of the cell marker with the cancer name\n",
    "    - no cancer cell are named as `Normal`\n",
    "- **cellName**: the English name of the cell that marker belong to\n",
    "- **CellOntologyID**: The universal unique identifier of the cell that marker belong to\n",
    "    - contain missing value\n",
    "- **cellMarker**: a marker molecule of the cell\n",
    "    - in string list, can be convert to list\n",
    "- **geneSymbol**: gene expression of the cell marker\n",
    "- **geneID**: The universal unique identifier of the gene\n",
    "    - contain missing value\n",
    "- **proteinName**: name of the protein\n",
    "    - contain missing value\n",
    "- **proteinID**: The universal unique identifier of the protein\n",
    "- **markerResource**: the type of resouce or methologoy used to identify the marker\n",
    "    - there are only four data type, either `Experiment` or `Single-cell sequencing` or `Company` or `Review`\n",
    "- **PMID**: The PudMed ID for the publication or study where the marker data was reported\n",
    "    - abnormal value contain `company`\n",
    "- **Company**: the company associated with the resouces"
   ]
  },
  {
   "cell_type": "markdown",
   "metadata": {},
   "source": [
    "# Missingness of the vlaues"
   ]
  },
  {
   "cell_type": "code",
   "execution_count": 150,
   "metadata": {},
   "outputs": [
    {
     "data": {
      "text/plain": [
       "speciesType         0.000000\n",
       "tissueType          0.000000\n",
       "UberonOntologyID    0.180936\n",
       "cancerType          0.000000\n",
       "cellType            0.000000\n",
       "cellName            0.000000\n",
       "CellOntologyID      0.210526\n",
       "cellMarker          0.000000\n",
       "geneSymbol          0.012127\n",
       "geneID              0.012127\n",
       "proteinName         0.013582\n",
       "proteinID           0.013582\n",
       "markerResource      0.000000\n",
       "PMID                0.000000\n",
       "Company             0.913898\n",
       "dtype: float64"
      ]
     },
     "execution_count": 150,
     "metadata": {},
     "output_type": "execute_result"
    }
   ],
   "source": [
    "all_cell_markers_df.isna().mean()"
   ]
  },
  {
   "cell_type": "markdown",
   "metadata": {},
   "source": [
    "# Exploration on all_cell_markers\n",
    "Notes: all codes a modulerized, which means you can directly jump to a specific section without running previous sections\n",
    "\n",
    "EDA outlines:\n",
    "- Confirming hypothesis: `all_cell_markers` contain all the data from `all_human_markers`, `all_mouse_markers`\n",
    "- Confirming hypothesis: None of the data from `all_singleCell_markers` exist in `all_cell_markers`\n",
    "- Revealing trend: assoication between missing `UberonOntologyID` and `tissueType`\n",
    "- Revealing trend: assoication between missing `CellOntologyID` and `cellName`\n",
    "- Confirming hypothesis: if `geneSymbol` is missing, then `geneID` is not missing\n",
    "- Confirming hypothesis: if `proteinName` is missing, then `proteinID` is not missing\n",
    "- Revealing trend: find the the pattern of the mistached elements of all the list-like str columns\n",
    "- Confirming hypothesis: if markerResource is `company`, then `PMID` is company and `Company` is not missing"
   ]
  },
  {
   "cell_type": "markdown",
   "metadata": {},
   "source": [
    "## Confirm Hypothesis\n",
    "`all_cell_markers` contain all the data from `all_human_markers`, `all_mouse_markers`"
   ]
  },
  {
   "cell_type": "code",
   "execution_count": 151,
   "metadata": {},
   "outputs": [
    {
     "name": "stdout",
     "output_type": "stream",
     "text": [
      "all value in all_human_marker dataset exist in all_cell_marker dataset\n",
      "all value in all_mouse_markers dataset exist in all_cell_marker dataset\n"
     ]
    }
   ],
   "source": [
    "all_cell_marker_tuple = all_cell_markers_df.apply(tuple, axis=1)\n",
    "all_human_marker_tuple = all_human_markers_df.apply(tuple, axis=1)\n",
    "all_mouse_markers_tuple = all_mouse_markers_df.apply(tuple, axis=1)\n",
    "\n",
    "# check if all value in human_marker exist in cell_marker\n",
    "if all(all_human_marker_tuple.isin(all_cell_marker_tuple)):\n",
    "    print(\"all value in all_human_marker dataset exist in all_cell_marker dataset\")\n",
    "else:\n",
    "    mismatch_value = sum(all_human_marker_tuple.isin(all_cell_marker_tuple) == False)\n",
    "    print(f\"there are {mismatch_value} from all_human_marker that does not exist in all_cell_marker dataset\")\n",
    "\n",
    "# check if all value in mouse_marker exist in cell_marker\n",
    "if all(all_mouse_markers_tuple.isin(all_cell_marker_tuple)):\n",
    "    print(\"all value in all_mouse_markers dataset exist in all_cell_marker dataset\")\n",
    "else:\n",
    "    mismatch_value = sum(all_mouse_markers_tuple.isin(all_cell_marker_tuple) == False)\n",
    "    print(f\"there are {mismatch_value} from all_mouse_markers that does not exist in all_cell_marker dataset\")\n",
    "\n"
   ]
  },
  {
   "cell_type": "markdown",
   "metadata": {},
   "source": [
    "## Confirm Hypothesis\n",
    "None of the data from `all_singleCell_markers` exist in `all_cell_markers`"
   ]
  },
  {
   "cell_type": "code",
   "execution_count": 152,
   "metadata": {},
   "outputs": [
    {
     "name": "stdout",
     "output_type": "stream",
     "text": [
      "there are in total 535 records in all_singleCell_markers\n",
      "there are 535 from all_singleCell_markers that does not exist in all_cell_marker dataset\n"
     ]
    }
   ],
   "source": [
    "all_cell_marker_tuple = all_cell_markers_df.apply(tuple, axis=1)\n",
    "all_singleCell_markers_tuple = all_singleCell_markers_df.apply(tuple, axis=1)\n",
    "\n",
    "# check if all value in singleCell_marker exist in cell_marker\n",
    "if all(all_singleCell_markers_tuple.isin(all_cell_marker_tuple)):\n",
    "    print(\"all value in all_singleCell_markers dataset exist in all_cell_marker dataset\")\n",
    "else:\n",
    "    mismatch_value = sum(all_singleCell_markers_tuple.isin(all_cell_marker_tuple) == False)\n",
    "    print(f'there are in total {mismatch_value} records in all_singleCell_markers')\n",
    "    print(f\"there are {mismatch_value} from all_singleCell_markers that does not exist in all_cell_marker dataset\")"
   ]
  },
  {
   "cell_type": "markdown",
   "metadata": {},
   "source": [
    "## Revealing trend\n",
    "assoication between missing `UberonOntologyID` and `tissueType`\n",
    "\n",
    "most of the tissue with missing ID is undefined tissue"
   ]
  },
  {
   "cell_type": "code",
   "execution_count": 153,
   "metadata": {},
   "outputs": [
    {
     "data": {
      "text/plain": [
       "Undefined                      701\n",
       "Fetal liver                     29\n",
       "Fetal gonad                     26\n",
       "Embryonic prefrontal cortex     12\n",
       "Bladder                          5\n",
       "Sinonasal mucosa                 2\n",
       "Fetal brain                      1\n",
       "Osteoarthritic cartilage         1\n",
       "Name: tissueType, dtype: int64"
      ]
     },
     "execution_count": 153,
     "metadata": {},
     "output_type": "execute_result"
    }
   ],
   "source": [
    "cell_markers_df = pd.concat([all_cell_markers_df, all_singleCell_markers_df], axis = 0, ignore_index=True)\n",
    "cell_markers_df[['UberonOntologyID', 'tissueType']][cell_markers_df['UberonOntologyID'].isna()].tissueType.value_counts()"
   ]
  },
  {
   "cell_type": "markdown",
   "metadata": {},
   "source": [
    "# Revealing trend\n",
    "assoication between missing `CellOntologyID` and `cellName`"
   ]
  },
  {
   "cell_type": "code",
   "execution_count": 154,
   "metadata": {},
   "outputs": [
    {
     "data": {
      "text/plain": [
       "Cancer stem cell                    596\n",
       "Progenitor cell                      53\n",
       "Cancer stem-like cell                 9\n",
       "Neural progenitor cell                8\n",
       "Cardiac progenitor cell               8\n",
       "                                   ... \n",
       "Foxp3+IL-17+ T cell                   1\n",
       "Definitive zone cell                  1\n",
       "Bone marrow stem cell                 1\n",
       "PDX1+ pancreatic progenitor cell      1\n",
       "Adipogenic progenitor cell            1\n",
       "Name: cellName, Length: 142, dtype: int64"
      ]
     },
     "execution_count": 154,
     "metadata": {},
     "output_type": "execute_result"
    }
   ],
   "source": [
    "cell_markers_df = pd.concat([all_cell_markers_df, all_singleCell_markers_df], axis = 0, ignore_index=True)\n",
    "cell_markers_df[['CellOntologyID', 'cellName']][cell_markers_df['CellOntologyID'].isna()].cellName.value_counts()"
   ]
  },
  {
   "cell_type": "markdown",
   "metadata": {},
   "source": [
    "# Confirming hypothesis\n",
    "if `geneSymbol` is missing, then `geneID` is not missing"
   ]
  },
  {
   "cell_type": "code",
   "execution_count": 155,
   "metadata": {},
   "outputs": [
    {
     "name": "stdout",
     "output_type": "stream",
     "text": [
      "if there is a missing proteinSymbol, then there must be missing proteinID\n"
     ]
    }
   ],
   "source": [
    "cell_markers_df = pd.concat([all_cell_markers_df, all_singleCell_markers_df], axis = 0, ignore_index=True)\n",
    "check_same = cell_markers_df[['geneSymbol', 'geneID']].apply(\n",
    "    lambda row: all(row.isna()) or all(~row.isna()), axis = 1 \n",
    ")\n",
    "if all(check_same):\n",
    "    print('if there is a missing proteinSymbol, then there must be missing proteinID')\n",
    "else:\n",
    "    print('if there is a missing symbol then there might exist a ID')"
   ]
  },
  {
   "cell_type": "markdown",
   "metadata": {},
   "source": [
    "# Confirming hypothesis\n",
    "if `proteinName` is missing, then `proteinID` is not missing"
   ]
  },
  {
   "cell_type": "code",
   "execution_count": 156,
   "metadata": {},
   "outputs": [
    {
     "name": "stdout",
     "output_type": "stream",
     "text": [
      "if there is a missing proteinSymbol, then there must be missing proteinID\n"
     ]
    }
   ],
   "source": [
    "cell_markers_df = pd.concat([all_cell_markers_df, all_singleCell_markers_df], axis = 0, ignore_index=True)\n",
    "check_same = cell_markers_df[['proteinName', 'proteinID']].apply(\n",
    "    lambda row: all(row.isna()) or all(~row.isna()), axis = 1 \n",
    ")\n",
    "if all(check_same):\n",
    "    print('if there is a missing proteinSymbol, then there must be missing proteinID')\n",
    "else:\n",
    "    print('if there is a missing symbol then there might exist a ID')"
   ]
  },
  {
   "cell_type": "markdown",
   "metadata": {},
   "source": [
    "## Revealing Trend\n",
    "find the the pattern of the mistached elements of all the list-like str columns"
   ]
  },
  {
   "cell_type": "code",
   "execution_count": 157,
   "metadata": {},
   "outputs": [
    {
     "name": "stdout",
     "output_type": "stream",
     "text": [
      "some gene has mis-match sequence\n",
      "for these following index: Int64Index([3135, 3151, 3226, 3227, 3228, 3243, 3632, 3710, 3733, 3741, 3844,\n",
      "            3908, 3973, 3977, 3983, 4005, 4099, 4167, 4245, 4268, 4276, 4379,\n",
      "            4443, 4508, 4512, 4518, 4540, 4634],\n",
      "           dtype='int64')\n"
     ]
    }
   ],
   "source": [
    "cell_markers_df = pd.concat([all_cell_markers_df, all_singleCell_markers_df], axis = 0, ignore_index=True)\n",
    "def str_to_list(listLikeStr):\n",
    "    if not isinstance(listLikeStr, str): return ['NA']\n",
    "    cleaned_listLikeStr = listLikeStr.replace(\"'\", \"\")\n",
    "\n",
    "    split_element = cleaned_listLikeStr.split(',')\n",
    "\n",
    "    is_nested = False\n",
    "    result = []\n",
    "    nested_list = []\n",
    "\n",
    "    # try to improve\n",
    "    for element in split_element:\n",
    "        if is_nested:\n",
    "            if \"]\" in element:\n",
    "                is_nested = False\n",
    "                element = element.replace(']', \"\").strip()\n",
    "                # lowercase\n",
    "                # if element.casefold() == 'na':\n",
    "                #     continue\n",
    "                nested_list.append(element)\n",
    "                result.append(nested_list)\n",
    "                nested_list = []\n",
    "            else:\n",
    "                element = element.strip()\n",
    "                # if element.casefold() == 'na':\n",
    "                #     continue\n",
    "                if element:\n",
    "                    nested_list.append(element.strip())\n",
    "        else:\n",
    "            if \"[\" in element:\n",
    "                is_nested = True\n",
    "                element = element.replace('[', \"\").strip()\n",
    "                # if element.casefold() == 'na':\n",
    "                #     continue\n",
    "                nested_list.append(element)\n",
    "            else:\n",
    "                element = element.strip()\n",
    "                # if element.casefold() == 'na':\n",
    "                #     continue\n",
    "                if element:\n",
    "                    result.append(element)\n",
    "\n",
    "    return result\n",
    "        \n",
    "\n",
    "to_convert_col  = ['cellMarker', 'geneSymbol', 'geneID', 'proteinName', 'proteinID']\n",
    "\n",
    "\n",
    "for col in to_convert_col:\n",
    "    cell_markers_df[col] = cell_markers_df[col].apply(str_to_list)\n",
    "\n",
    "len_count = cell_markers_df[to_convert_col].applymap(len)\n",
    "\n",
    "if cell_markers_df[to_convert_col].applymap(lambda x: len(x) if isinstance(x, list) else np.NaN).dropna().shape[0] == 0:\n",
    "    print(\"each existed cellMarkers have a gene name assoicated it\")\n",
    "else:\n",
    "    print('some gene has mis-match sequence')\n",
    "    mistamch_index = len_count[len_count.nunique(axis = 1) != 1].index\n",
    "    print(f\"for these following index: {mistamch_index}\")"
   ]
  },
  {
   "cell_type": "code",
   "execution_count": 158,
   "metadata": {},
   "outputs": [],
   "source": [
    "mistach_cell_markers = cell_markers_df.loc[mistamch_index]\n",
    "mt_mr_dis = mistach_cell_markers.markerResource.value_counts(normalize=True)"
   ]
  },
  {
   "cell_type": "code",
   "execution_count": 170,
   "metadata": {},
   "outputs": [
    {
     "data": {
      "image/png": "[encoded data removed]",
      "text/plain": [
       "<Figure size 800x800 with 1 Axes>"
      ]
     },
     "metadata": {},
     "output_type": "display_data"
    }
   ],
   "source": [
    "plt.figure(figsize=(8, 8))\n",
    "plt.pie(mt_mr_dis, labels=mt_mr_dis.index, autopct='%1.1f%%', startangle=140)\n",
    "plt.title('Distribution of MarkerResources of problematic CellMarker Data in the Diagram')\n",
    "plt.show()"
   ]
  },
  {
   "cell_type": "code",
   "execution_count": 169,
   "metadata": {},
   "outputs": [
    {
     "data": {
      "text/plain": [
       "''"
      ]
     },
     "execution_count": 169,
     "metadata": {},
     "output_type": "execute_result"
    }
   ],
   "source": [
    "# Examples of mismatch\n",
    "cell_markers_df.loc[3973] # additional NA at the end\n",
    "cell_markers_df.loc[3741] # total mismatch\n",
    "cell_markers_df.loc[3710] # total mismatch\n",
    ";"
   ]
  },
  {
   "cell_type": "markdown",
   "metadata": {},
   "source": [
    "## Confirming hypothesis\n",
    "if markerResource is `company`, then `PMID` is company and `Company` is not missing"
   ]
  },
  {
   "cell_type": "code",
   "execution_count": 162,
   "metadata": {},
   "outputs": [
    {
     "name": "stdout",
     "output_type": "stream",
     "text": [
      "all row match the expected format\n"
     ]
    }
   ],
   "source": [
    "cell_markers_df = pd.concat([all_cell_markers_df, all_singleCell_markers_df], axis = 0, ignore_index=True)\n",
    "\n",
    "cell_marker_iscompany = cell_markers_df[['markerResource', 'PMID', 'Company']].assign(is_company = cell_markers_df['markerResource'] == 'Company')\n",
    "\n",
    "# if is_company is false, then should PMID should not be company and Company is should be NaN\n",
    "for row in cell_marker_iscompany.iterrows():\n",
    "    row = row[1]\n",
    "    if row[-1]:\n",
    "        if row[1] == \"Company\" and pd.notna(row[2]):\n",
    "            continue\n",
    "        else:\n",
    "            print(row)\n",
    "    else:\n",
    "        if row[1] != \"Company\" and pd.isna(row[2]):\n",
    "            continue\n",
    "        else:\n",
    "            print(row)\n",
    "print('all row match the expected format')"
   ]
  },
  {
   "cell_type": "markdown",
   "metadata": {},
   "source": [
    "# Parsing procedure\n",
    "\n",
    "Data Parsing Outlines\n",
    "- concat `all_cell_markers` and `all_singleCell_markers`\n",
    "- replace all the `undefined` tissue to NaN value\n",
    "- convert all the strLikelist into list\n",
    "- remove all rows with missing geneID"
   ]
  },
  {
   "cell_type": "code",
   "execution_count": 163,
   "metadata": {},
   "outputs": [
    {
     "name": "stderr",
     "output_type": "stream",
     "text": [
      "/opt/anaconda3/envs/scripps_microbiome/lib/python3.8/site-packages/pandas/util/_decorators.py:311: ParserWarning: Falling back to the 'python' engine because the 'c' engine does not support regex separators (separators > 1 char and different from '\\s+' are interpreted as regex); you can avoid this warning by specifying engine='python'.\n",
      "  return func(*args, **kwargs)\n"
     ]
    }
   ],
   "source": [
    "# import data\n",
    "all_cell_markers_df = pd.read_csv('../data/all_cell_markers.txt', sep = r'\\t')\n",
    "all_human_markers_df = pd.read_csv('../data/Human_cell_markers.txt', sep = r'\\t')\n",
    "all_mouse_markers_df = pd.read_csv('../data/Mouse_cell_markers.txt', sep = r'\\t')\n",
    "all_singleCell_markers_df = pd.read_csv('../data/Single_cell_markers.txt', sep = r'\\t')"
   ]
  },
  {
   "cell_type": "code",
   "execution_count": 164,
   "metadata": {},
   "outputs": [],
   "source": [
    "def str_to_list(listLikeStr):\n",
    "    if not isinstance(listLikeStr, str): return np.NaN\n",
    "    cleaned_listLikeStr = listLikeStr.replace(\"'\", \"\")\n",
    "\n",
    "    split_element = cleaned_listLikeStr.split(',')\n",
    "\n",
    "    is_nested = False\n",
    "    result = []\n",
    "    nested_list = []\n",
    "    for element in split_element:\n",
    "        if is_nested:\n",
    "            if \"]\" in element:\n",
    "                is_nested = False\n",
    "                nested_list.append(element.replace(']', \"\").strip())\n",
    "                result.append(nested_list)\n",
    "                nested_list = []\n",
    "            else:\n",
    "                if element.strip():\n",
    "                    nested_list.append(element.strip())\n",
    "        else:\n",
    "            if \"[\" in element:\n",
    "                is_nested = True\n",
    "                nested_list.append(element.replace('[', \"\").strip())\n",
    "            else:\n",
    "                if element.strip():\n",
    "                    result.append(element.strip())\n",
    "\n",
    "    return result"
   ]
  },
  {
   "cell_type": "code",
   "execution_count": 165,
   "metadata": {},
   "outputs": [],
   "source": [
    "# concat all_cell_markers and all_singleCell_markers\n",
    "cell_markers_df = pd.concat([all_cell_markers_df, all_singleCell_markers_df], axis = 0, ignore_index=True)\n",
    "\n",
    "# change all the Undefined value in tissueType column to NaN\n",
    "cell_markers_df['tissueType'] = cell_markers_df['tissueType'].replace('Undefined', np.NaN)\n",
    "\n",
    "# convert specific columns into list\n",
    "to_convert_col  = ['cellMarker', 'geneSymbol', 'geneID', 'proteinName', 'proteinID']\n",
    "for col in to_convert_col:\n",
    "    cell_markers_df[col] = cell_markers_df[col].apply(str_to_list)\n",
    "\n",
    "# we don't consider \n",
    "cell_markers_df = cell_markers_df.dropna(subset=['geneSymbol'])"
   ]
  }
 ],
 "metadata": {
  "kernelspec": {
   "display_name": "scripps_microbiome",
   "language": "python",
   "name": "python3"
  },
  "language_info": {
   "codemirror_mode": {
    "name": "ipython",
    "version": 3
   },
   "file_extension": ".py",
   "mimetype": "text/x-python",
   "name": "python",
   "nbconvert_exporter": "python",
   "pygments_lexer": "ipython3",
   "version": "3.8.19"
  }
 },
 "nbformat": 4,
 "nbformat_minor": 2
}

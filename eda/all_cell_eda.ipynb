{
 "cells": [
  {
   "cell_type": "code",
   "execution_count": 523,
   "metadata": {},
   "outputs": [],
   "source": [
    "import pandas as pd\n",
    "import numpy as np"
   ]
  },
  {
   "cell_type": "code",
   "execution_count": 524,
   "metadata": {},
   "outputs": [
    {
     "name": "stderr",
     "output_type": "stream",
     "text": [
      "/opt/anaconda3/envs/scripps_microbiome/lib/python3.8/site-packages/pandas/util/_decorators.py:311: ParserWarning: Falling back to the 'python' engine because the 'c' engine does not support regex separators (separators > 1 char and different from '\\s+' are interpreted as regex); you can avoid this warning by specifying engine='python'.\n",
      "  return func(*args, **kwargs)\n"
     ]
    }
   ],
   "source": [
    "# importing data\n",
    "all_cell_markers_df = pd.read_csv('../data/all_cell_markers.txt', sep = r'\\t')\n",
    "all_human_markers_df = pd.read_csv('../data/Human_cell_markers.txt', sep = r'\\t')\n",
    "all_mouse_markers_df = pd.read_csv('../data/Mouse_cell_markers.txt', sep = r'\\t')\n",
    "all_singleCell_markers_df = pd.read_csv('../data/Single_cell_markers.txt', sep = r'\\t')"
   ]
  },
  {
   "cell_type": "markdown",
   "metadata": {},
   "source": [
    "# Data Schema\n",
    "- **speciesType**: the species from which the data originates\n",
    "    - there are only two data type, either `Human` or `Mouse`\n",
    "- **tissueType**: the type of tissues from which data originates\n",
    "    - in total 181 different kinds of cells\n",
    "    - a lot of them are undefined\n",
    "- **UberonOntologyID**: The universal unique identifier of the anatomy structure found in animals \n",
    "    - needs to confirm with the team\n",
    "    - contain missing value\n",
    "- **cancerType**: the association of the cell marker with the cancer name\n",
    "    - no cancer cell are named as `Normal`\n",
    "- **cellName**: the English name of the cell that marker belong to\n",
    "- **CellOntologyID**: The universal unique identifier of the cell that marker belong to\n",
    "    - contain missing value\n",
    "- **cellMarker**: a marker molecule of the cell\n",
    "    - in string list, can be convert to list\n",
    "- **geneSymbol**: gene expression of the cell marker\n",
    "- **geneID**: The universal unique identifier of the gene\n",
    "    - contain missing value\n",
    "- **proteinName**: name of the protein\n",
    "    - contain missing value\n",
    "- **proteinID**: The universal unique identifier of the protein\n",
    "- **markerResource**: the type of resouce or methologoy used to identify the marker\n",
    "    - there are only four data type, either `Experiment` or `Single-cell sequencing` or `Company` or `Review`\n",
    "- **PMID**: The PudMed ID for the publication or study where the marker data was reported\n",
    "    - abnormal value contain `company`\n",
    "- **Company**: the company associated with the resouces"
   ]
  },
  {
   "cell_type": "markdown",
   "metadata": {},
   "source": [
    "# Exploration on all_cell_markers\n",
    "Notes: all codes a modulerized, which means you can directly jump to a specific section without running previous sections\n",
    "\n",
    "EDA outlines:\n",
    "- Confirming hypothesis: `all_cell_markers` contain all the data from `all_human_markers`, `all_mouse_markers`\n",
    "- Confirming hypothesis: None of the data from `all_singleCell_markers` exist in `all_cell_markers`\n",
    "- Revealing trend: assoication between missing `UberonOntologyID` and `tissueType`\n",
    "- Revealing trend: assoication between missing `CellOntologyID` and `cellName`\n",
    "- Confirming hypothesis: if `geneSymbol` is missing, then `geneID` is not missing\n",
    "- Confirming hypothesis: if `proteinName` is missing, then `proteinID` is not missing\n",
    "- Confirming hypothesis: all the nested list are correspond to each other element\n",
    "- Confirming hypothesis: if markerResource is `company`, then `PMID` is company and `Company` is not missing"
   ]
  },
  {
   "cell_type": "markdown",
   "metadata": {},
   "source": [
    "## Confirm Hypothesis\n",
    "`all_cell_markers` contain all the data from `all_human_markers`, `all_mouse_markers`"
   ]
  },
  {
   "cell_type": "code",
   "execution_count": 525,
   "metadata": {},
   "outputs": [
    {
     "name": "stdout",
     "output_type": "stream",
     "text": [
      "all value in all_human_marker dataset exist in all_cell_marker dataset\n",
      "all value in all_mouse_markers dataset exist in all_cell_marker dataset\n"
     ]
    }
   ],
   "source": [
    "all_cell_marker_tuple = all_cell_markers_df.apply(tuple, axis=1)\n",
    "all_human_marker_tuple = all_human_markers_df.apply(tuple, axis=1)\n",
    "all_mouse_markers_tuple = all_mouse_markers_df.apply(tuple, axis=1)\n",
    "\n",
    "# check if all value in human_marker exist in cell_marker\n",
    "if all(all_human_marker_tuple.isin(all_cell_marker_tuple)):\n",
    "    print(\"all value in all_human_marker dataset exist in all_cell_marker dataset\")\n",
    "else:\n",
    "    mismatch_value = sum(all_human_marker_tuple.isin(all_cell_marker_tuple) == False)\n",
    "    print(f\"there are {mismatch_value} from all_human_marker that does not exist in all_cell_marker dataset\")\n",
    "\n",
    "# check if all value in mouse_marker exist in cell_marker\n",
    "if all(all_mouse_markers_tuple.isin(all_cell_marker_tuple)):\n",
    "    print(\"all value in all_mouse_markers dataset exist in all_cell_marker dataset\")\n",
    "else:\n",
    "    mismatch_value = sum(all_mouse_markers_tuple.isin(all_cell_marker_tuple) == False)\n",
    "    print(f\"there are {mismatch_value} from all_mouse_markers that does not exist in all_cell_marker dataset\")\n",
    "\n"
   ]
  },
  {
   "cell_type": "markdown",
   "metadata": {},
   "source": [
    "## Confirm Hypothesis\n",
    "None of the data from `all_singleCell_markers` exist in `all_cell_markers`"
   ]
  },
  {
   "cell_type": "code",
   "execution_count": 526,
   "metadata": {},
   "outputs": [
    {
     "name": "stdout",
     "output_type": "stream",
     "text": [
      "there are in total 535 records in all_singleCell_markers\n",
      "there are 535 from all_singleCell_markers that does not exist in all_cell_marker dataset\n"
     ]
    }
   ],
   "source": [
    "all_cell_marker_tuple = all_cell_markers_df.apply(tuple, axis=1)\n",
    "all_singleCell_markers_tuple = all_singleCell_markers_df.apply(tuple, axis=1)\n",
    "\n",
    "# check if all value in singleCell_marker exist in cell_marker\n",
    "if all(all_singleCell_markers_tuple.isin(all_cell_marker_tuple)):\n",
    "    print(\"all value in all_singleCell_markers dataset exist in all_cell_marker dataset\")\n",
    "else:\n",
    "    mismatch_value = sum(all_singleCell_markers_tuple.isin(all_cell_marker_tuple) == False)\n",
    "    print(f'there are in total {mismatch_value} records in all_singleCell_markers')\n",
    "    print(f\"there are {mismatch_value} from all_singleCell_markers that does not exist in all_cell_marker dataset\")"
   ]
  },
  {
   "cell_type": "markdown",
   "metadata": {},
   "source": [
    "## Revealing trend\n",
    "assoication between missing `UberonOntologyID` and `tissueType`\n",
    "\n",
    "most of the tissue with missing ID is undefined tissue"
   ]
  },
  {
   "cell_type": "code",
   "execution_count": 527,
   "metadata": {},
   "outputs": [
    {
     "data": {
      "text/plain": [
       "Undefined                      701\n",
       "Fetal liver                     29\n",
       "Fetal gonad                     26\n",
       "Embryonic prefrontal cortex     12\n",
       "Bladder                          5\n",
       "Sinonasal mucosa                 2\n",
       "Fetal brain                      1\n",
       "Osteoarthritic cartilage         1\n",
       "Name: tissueType, dtype: int64"
      ]
     },
     "execution_count": 527,
     "metadata": {},
     "output_type": "execute_result"
    }
   ],
   "source": [
    "cell_markers_df = pd.concat([all_cell_markers_df, all_singleCell_markers_df], axis = 0, ignore_index=True)\n",
    "cell_markers_df[['UberonOntologyID', 'tissueType']][cell_markers_df['UberonOntologyID'].isna()].tissueType.value_counts()"
   ]
  },
  {
   "cell_type": "markdown",
   "metadata": {},
   "source": [
    "# Revealing trend\n",
    "assoication between missing `CellOntologyID` and `cellName`"
   ]
  },
  {
   "cell_type": "code",
   "execution_count": 528,
   "metadata": {},
   "outputs": [
    {
     "data": {
      "text/plain": [
       "Cancer stem cell                    596\n",
       "Progenitor cell                      53\n",
       "Cancer stem-like cell                 9\n",
       "Neural progenitor cell                8\n",
       "Cardiac progenitor cell               8\n",
       "                                   ... \n",
       "Foxp3+IL-17+ T cell                   1\n",
       "Definitive zone cell                  1\n",
       "Bone marrow stem cell                 1\n",
       "PDX1+ pancreatic progenitor cell      1\n",
       "Adipogenic progenitor cell            1\n",
       "Name: cellName, Length: 142, dtype: int64"
      ]
     },
     "execution_count": 528,
     "metadata": {},
     "output_type": "execute_result"
    }
   ],
   "source": [
    "cell_markers_df = pd.concat([all_cell_markers_df, all_singleCell_markers_df], axis = 0, ignore_index=True)\n",
    "cell_markers_df[['CellOntologyID', 'cellName']][cell_markers_df['CellOntologyID'].isna()].cellName.value_counts()"
   ]
  },
  {
   "cell_type": "markdown",
   "metadata": {},
   "source": [
    "# Confirming hypothesis\n",
    "if `geneSymbol` is missing, then `geneID` is not missing"
   ]
  },
  {
   "cell_type": "code",
   "execution_count": 529,
   "metadata": {},
   "outputs": [
    {
     "name": "stdout",
     "output_type": "stream",
     "text": [
      "if there is a missing proteinSymbol, then there must be missing proteinID\n"
     ]
    }
   ],
   "source": [
    "cell_markers_df = pd.concat([all_cell_markers_df, all_singleCell_markers_df], axis = 0, ignore_index=True)\n",
    "check_same = cell_markers_df[['geneSymbol', 'geneID']].apply(\n",
    "    lambda row: all(row.isna()) or all(~row.isna()), axis = 1 \n",
    ")\n",
    "if all(check_same):\n",
    "    print('if there is a missing proteinSymbol, then there must be missing proteinID')\n",
    "else:\n",
    "    print('if there is a missing symbol then there might exist a ID')"
   ]
  },
  {
   "cell_type": "markdown",
   "metadata": {},
   "source": [
    "# Confirming hypothesis\n",
    "if `proteinName` is missing, then `proteinID` is not missing"
   ]
  },
  {
   "cell_type": "code",
   "execution_count": 530,
   "metadata": {},
   "outputs": [
    {
     "name": "stdout",
     "output_type": "stream",
     "text": [
      "if there is a missing proteinSymbol, then there must be missing proteinID\n"
     ]
    }
   ],
   "source": [
    "cell_markers_df = pd.concat([all_cell_markers_df, all_singleCell_markers_df], axis = 0, ignore_index=True)\n",
    "check_same = cell_markers_df[['proteinName', 'proteinID']].apply(\n",
    "    lambda row: all(row.isna()) or all(~row.isna()), axis = 1 \n",
    ")\n",
    "if all(check_same):\n",
    "    print('if there is a missing proteinSymbol, then there must be missing proteinID')\n",
    "else:\n",
    "    print('if there is a missing symbol then there might exist a ID')"
   ]
  },
  {
   "cell_type": "markdown",
   "metadata": {},
   "source": [
    "## Confirming hypothesis\n",
    "each existed cellMarkers have a gene name assoicated it"
   ]
  },
  {
   "cell_type": "code",
   "execution_count": 531,
   "metadata": {},
   "outputs": [
    {
     "name": "stdout",
     "output_type": "stream",
     "text": [
      "some gene has mis-match sequence\n",
      "for these following index: Int64Index([  64,   65,   66,  101,  214,  332,  412,  483,  490,  498,  524,\n",
      "             525,  579,  672,  688,  689,  725,  727,  795,  815,  868,  872,\n",
      "             922,  945, 1042, 1045, 1070, 1086, 1215, 1260, 1366, 1394, 1496,\n",
      "            1524, 1525, 1779, 1850, 1854, 1856, 1883, 1993, 2187, 2253, 2254,\n",
      "            2255, 2256, 2381, 2458, 2523, 2537, 2753, 3135, 3151, 3226, 3227,\n",
      "            3228, 3243, 3350, 3557, 3558, 3632, 3710, 3733, 3741, 3844, 3908,\n",
      "            3918, 3932, 3973, 3977, 3983, 4005, 4099, 4167, 4245, 4268, 4276,\n",
      "            4379, 4443, 4453, 4467, 4508, 4512, 4518, 4540, 4634],\n",
      "           dtype='int64')\n"
     ]
    }
   ],
   "source": [
    "cell_markers_df = pd.concat([all_cell_markers_df, all_singleCell_markers_df], axis = 0, ignore_index=True)\n",
    "def str_to_list(listLikeStr):\n",
    "    if not isinstance(listLikeStr, str): return np.NaN\n",
    "    cleaned_listLikeStr = listLikeStr.replace(\"'\", \"\")\n",
    "\n",
    "    split_element = cleaned_listLikeStr.split(',')\n",
    "\n",
    "    is_nested = False\n",
    "    result = []\n",
    "    nested_list = []\n",
    "    for element in split_element:\n",
    "        if is_nested:\n",
    "            if \"]\" in element:\n",
    "                is_nested = False\n",
    "                nested_list.append(element.replace(']', \"\").strip())\n",
    "                result.append(nested_list)\n",
    "                nested_list = []\n",
    "            else:\n",
    "                if element.strip():\n",
    "                    nested_list.append(element.strip())\n",
    "        else:\n",
    "            if \"[\" in element:\n",
    "                is_nested = True\n",
    "                nested_list.append(element.replace('[', \"\").strip())\n",
    "            else:\n",
    "                if element.strip():\n",
    "                    result.append(element.strip())\n",
    "\n",
    "    return result\n",
    "        \n",
    "\n",
    "to_convert_col  = ['cellMarker', 'geneSymbol', 'geneID', 'proteinName', 'proteinID']\n",
    "for col in to_convert_col:\n",
    "    cell_markers_df[col] = cell_markers_df[col].apply(str_to_list)\n",
    "\n",
    "len_count = cell_markers_df[to_convert_col].applymap(lambda x : len(x) if isinstance(x, list) else 0)\n",
    "\n",
    "\n",
    "if cell_markers_df[to_convert_col].applymap(lambda x: len(x) if isinstance(x, list) else np.NaN).dropna().shape[0] == 0:\n",
    "    print(\"each existed cellMarkers have a gene name assoicated it\")\n",
    "else:\n",
    "    print('some gene has mis-match sequence')\n",
    "    mistamch_index = len_count[len_count.nunique(axis = 1) != 1].index\n",
    "    print(f\"for these following index: {mistamch_index}\")"
   ]
  },
  {
   "cell_type": "code",
   "execution_count": 532,
   "metadata": {},
   "outputs": [
    {
     "name": "stdout",
     "output_type": "stream",
     "text": [
      "all row match the expected format\n"
     ]
    }
   ],
   "source": [
    "cell_markers_df = pd.concat([all_cell_markers_df, all_singleCell_markers_df], axis = 0, ignore_index=True)\n",
    "\n",
    "cell_marker_iscompany = cell_markers_df[['markerResource', 'PMID', 'Company']].assign(is_company = cell_markers_df['markerResource'] == 'Company')\n",
    "\n",
    "# if is_company is false, then should PMID should not be company and Company is should be NaN\n",
    "for row in cell_marker_iscompany.iterrows():\n",
    "    row = row[1]\n",
    "    if row[-1]:\n",
    "        if row[1] == \"Company\" and pd.notna(row[2]):\n",
    "            continue\n",
    "        else:\n",
    "            print(row)\n",
    "    else:\n",
    "        if row[1] != \"Company\" and pd.isna(row[2]):\n",
    "            continue\n",
    "        else:\n",
    "            print(row)\n",
    "print('all row match the expected format')"
   ]
  },
  {
   "cell_type": "markdown",
   "metadata": {},
   "source": [
    "# Parsing procedure\n",
    "\n",
    "Data Parsing Outlines\n",
    "- concat `all_cell_markers` and `all_singleCell_markers`\n",
    "- replace all the `undefined` tissue to NaN value\n",
    "- convert all the strLikelist into list"
   ]
  },
  {
   "cell_type": "code",
   "execution_count": 533,
   "metadata": {},
   "outputs": [],
   "source": [
    "# import data\n",
    "all_cell_markers_df = pd.read_csv('../data/all_cell_markers.txt', sep = r'\\t')\n",
    "all_human_markers_df = pd.read_csv('../data/Human_cell_markers.txt', sep = r'\\t')\n",
    "all_mouse_markers_df = pd.read_csv('../data/Mouse_cell_markers.txt', sep = r'\\t')\n",
    "all_singleCell_markers_df = pd.read_csv('../data/Single_cell_markers.txt', sep = r'\\t')"
   ]
  },
  {
   "cell_type": "code",
   "execution_count": 534,
   "metadata": {},
   "outputs": [],
   "source": [
    "def str_to_list(listLikeStr):\n",
    "    if not isinstance(listLikeStr, str): return np.NaN\n",
    "    cleaned_listLikeStr = listLikeStr.replace(\"'\", \"\")\n",
    "\n",
    "    split_element = cleaned_listLikeStr.split(',')\n",
    "\n",
    "    is_nested = False\n",
    "    result = []\n",
    "    nested_list = []\n",
    "    for element in split_element:\n",
    "        if is_nested:\n",
    "            if \"]\" in element:\n",
    "                is_nested = False\n",
    "                nested_list.append(element.replace(']', \"\").strip())\n",
    "                result.append(nested_list)\n",
    "                nested_list = []\n",
    "            else:\n",
    "                if element.strip():\n",
    "                    nested_list.append(element.strip())\n",
    "        else:\n",
    "            if \"[\" in element:\n",
    "                is_nested = True\n",
    "                nested_list.append(element.replace('[', \"\").strip())\n",
    "            else:\n",
    "                if element.strip():\n",
    "                    result.append(element.strip())\n",
    "\n",
    "    return result"
   ]
  },
  {
   "cell_type": "code",
   "execution_count": 535,
   "metadata": {},
   "outputs": [],
   "source": [
    "# concat all_cell_markers and all_singleCell_markers\n",
    "cell_markers_df = pd.concat([all_cell_markers_df, all_singleCell_markers_df], axis = 0, ignore_index=True)\n",
    "\n",
    "# change all the Undefined value in tissueType column to NaN\n",
    "cell_markers_df['tissueType'] = cell_markers_df['tissueType'].replace('Undefined', np.NaN)\n",
    "\n",
    "# convert specific columns into list\n",
    "to_convert_col  = ['cellMarker', 'geneSymbol', 'geneID', 'proteinName', 'proteinID']\n",
    "for col in to_convert_col:\n",
    "    cell_markers_df[col] = cell_markers_df[col].apply(str_to_list)"
   ]
  },
  {
   "cell_type": "code",
   "execution_count": 536,
   "metadata": {},
   "outputs": [
    {
     "data": {
      "text/html": [
       "<div>\n",
       "<style scoped>\n",
       "    .dataframe tbody tr th:only-of-type {\n",
       "        vertical-align: middle;\n",
       "    }\n",
       "\n",
       "    .dataframe tbody tr th {\n",
       "        vertical-align: top;\n",
       "    }\n",
       "\n",
       "    .dataframe thead th {\n",
       "        text-align: right;\n",
       "    }\n",
       "</style>\n",
       "<table border=\"1\" class=\"dataframe\">\n",
       "  <thead>\n",
       "    <tr style=\"text-align: right;\">\n",
       "      <th></th>\n",
       "      <th>speciesType</th>\n",
       "      <th>tissueType</th>\n",
       "      <th>UberonOntologyID</th>\n",
       "      <th>cancerType</th>\n",
       "      <th>cellType</th>\n",
       "      <th>cellName</th>\n",
       "      <th>CellOntologyID</th>\n",
       "      <th>cellMarker</th>\n",
       "      <th>geneSymbol</th>\n",
       "      <th>geneID</th>\n",
       "      <th>proteinName</th>\n",
       "      <th>proteinID</th>\n",
       "      <th>markerResource</th>\n",
       "      <th>PMID</th>\n",
       "      <th>Company</th>\n",
       "    </tr>\n",
       "  </thead>\n",
       "  <tbody>\n",
       "    <tr>\n",
       "      <th>0</th>\n",
       "      <td>Human</td>\n",
       "      <td>Kidney</td>\n",
       "      <td>UBERON_0002113</td>\n",
       "      <td>Normal</td>\n",
       "      <td>Normal cell</td>\n",
       "      <td>Proximal tubular cell</td>\n",
       "      <td>NaN</td>\n",
       "      <td>[Intestinal Alkaline Phosphatase]</td>\n",
       "      <td>[ALPI]</td>\n",
       "      <td>[248]</td>\n",
       "      <td>[PPBI]</td>\n",
       "      <td>[P09923]</td>\n",
       "      <td>Experiment</td>\n",
       "      <td>9263997</td>\n",
       "      <td>NaN</td>\n",
       "    </tr>\n",
       "    <tr>\n",
       "      <th>1</th>\n",
       "      <td>Human</td>\n",
       "      <td>Liver</td>\n",
       "      <td>UBERON_0002107</td>\n",
       "      <td>Normal</td>\n",
       "      <td>Normal cell</td>\n",
       "      <td>Ito cell (hepatic stellate cell)</td>\n",
       "      <td>CL_0000632</td>\n",
       "      <td>[Synaptophysin]</td>\n",
       "      <td>[SYP]</td>\n",
       "      <td>[6855]</td>\n",
       "      <td>[SYPH]</td>\n",
       "      <td>[P08247]</td>\n",
       "      <td>Experiment</td>\n",
       "      <td>10595912</td>\n",
       "      <td>NaN</td>\n",
       "    </tr>\n",
       "    <tr>\n",
       "      <th>2</th>\n",
       "      <td>Human</td>\n",
       "      <td>Endometrium</td>\n",
       "      <td>UBERON_0001295</td>\n",
       "      <td>Normal</td>\n",
       "      <td>Normal cell</td>\n",
       "      <td>Trophoblast cell</td>\n",
       "      <td>CL_0000351</td>\n",
       "      <td>[CEACAM1]</td>\n",
       "      <td>[CEACAM1]</td>\n",
       "      <td>[634]</td>\n",
       "      <td>[CEAM1]</td>\n",
       "      <td>[P13688]</td>\n",
       "      <td>Experiment</td>\n",
       "      <td>10751340</td>\n",
       "      <td>NaN</td>\n",
       "    </tr>\n",
       "    <tr>\n",
       "      <th>3</th>\n",
       "      <td>Human</td>\n",
       "      <td>Germ</td>\n",
       "      <td>UBERON_0000923</td>\n",
       "      <td>Normal</td>\n",
       "      <td>Normal cell</td>\n",
       "      <td>Primordial germ cell</td>\n",
       "      <td>CL_0000670</td>\n",
       "      <td>[VASA]</td>\n",
       "      <td>[DDX4]</td>\n",
       "      <td>[54514]</td>\n",
       "      <td>[DDX4]</td>\n",
       "      <td>[Q9NQI0]</td>\n",
       "      <td>Experiment</td>\n",
       "      <td>10920202</td>\n",
       "      <td>NaN</td>\n",
       "    </tr>\n",
       "    <tr>\n",
       "      <th>4</th>\n",
       "      <td>Human</td>\n",
       "      <td>Corneal epithelium</td>\n",
       "      <td>UBERON_0001772</td>\n",
       "      <td>Normal</td>\n",
       "      <td>Normal cell</td>\n",
       "      <td>Epithelial cell</td>\n",
       "      <td>CL_0000066</td>\n",
       "      <td>[KLF6]</td>\n",
       "      <td>[KLF6]</td>\n",
       "      <td>[1316]</td>\n",
       "      <td>[KLF6]</td>\n",
       "      <td>[Q99612]</td>\n",
       "      <td>Experiment</td>\n",
       "      <td>12407152</td>\n",
       "      <td>NaN</td>\n",
       "    </tr>\n",
       "    <tr>\n",
       "      <th>...</th>\n",
       "      <td>...</td>\n",
       "      <td>...</td>\n",
       "      <td>...</td>\n",
       "      <td>...</td>\n",
       "      <td>...</td>\n",
       "      <td>...</td>\n",
       "      <td>...</td>\n",
       "      <td>...</td>\n",
       "      <td>...</td>\n",
       "      <td>...</td>\n",
       "      <td>...</td>\n",
       "      <td>...</td>\n",
       "      <td>...</td>\n",
       "      <td>...</td>\n",
       "      <td>...</td>\n",
       "    </tr>\n",
       "    <tr>\n",
       "      <th>4653</th>\n",
       "      <td>Human</td>\n",
       "      <td>Embryo</td>\n",
       "      <td>UBERON_0000922</td>\n",
       "      <td>Normal</td>\n",
       "      <td>Normal cell</td>\n",
       "      <td>8-cell stage cell (Blastomere)</td>\n",
       "      <td>CL_0000353</td>\n",
       "      <td>[C11orf48, C19orf53, DHX9, DIABLO, EIF1AD, EIF...</td>\n",
       "      <td>[LBHD1, C19orf53, DHX9, DIABLO, EIF1AD, EIF4G1...</td>\n",
       "      <td>[79081, 28974, 1660, 56616, 84285, 1981, 26017...</td>\n",
       "      <td>[LBHD1, L10K, DHX9, DBLOH, EIF1A, IF4G1, FA32A...</td>\n",
       "      <td>[Q9BQE6, Q9UNZ5, Q08211, Q9NR28, Q8N9N8, Q0463...</td>\n",
       "      <td>Single-cell sequencing</td>\n",
       "      <td>23892778</td>\n",
       "      <td>NaN</td>\n",
       "    </tr>\n",
       "    <tr>\n",
       "      <th>4654</th>\n",
       "      <td>Mouse</td>\n",
       "      <td>Embryo</td>\n",
       "      <td>UBERON_0000922</td>\n",
       "      <td>Normal</td>\n",
       "      <td>Normal cell</td>\n",
       "      <td>8-cell stage cell (Blastomere)</td>\n",
       "      <td>CL_0000353</td>\n",
       "      <td>[Abcf1, Cdc37, Diablo, Eif1ad, Eif4g1, Fam32a,...</td>\n",
       "      <td>[Abcf1, Cdc37, Diablo, Eif1ad, Eif4g1, Fam32a,...</td>\n",
       "      <td>[224742, 12539, 66593, 69860, 208643, 67922, 7...</td>\n",
       "      <td>[ABCF1, CDC37, DBLOH, EIF1A, IF4G1, FA32A, KDM...</td>\n",
       "      <td>[Q6P542, Q61081, Q9JIQ3, Q3THJ3, Q6NZJ6, Q9CR8...</td>\n",
       "      <td>Single-cell sequencing</td>\n",
       "      <td>23892778</td>\n",
       "      <td>NaN</td>\n",
       "    </tr>\n",
       "    <tr>\n",
       "      <th>4655</th>\n",
       "      <td>Human</td>\n",
       "      <td>Embryo</td>\n",
       "      <td>UBERON_0000922</td>\n",
       "      <td>Normal</td>\n",
       "      <td>Normal cell</td>\n",
       "      <td>Morula cell (Blastomere)</td>\n",
       "      <td>CL_0000360</td>\n",
       "      <td>[ADCK1, AGL, AIMP1, AKAP12, ARPC3, ATP1B3, ATP...</td>\n",
       "      <td>[ADCK1, AGL, AIMP1, AKAP12, ARPC3, ATP1B3, NA,...</td>\n",
       "      <td>[57143, 178, 9255, 9590, 10094, 483, NA, 586, ...</td>\n",
       "      <td>[ADCK1, GDE, AIMP1, AKA12, ARPC3, AT1B3, AT5F1...</td>\n",
       "      <td>[Q86TW2, P35573, Q12904, Q02952, O15145, P5470...</td>\n",
       "      <td>Single-cell sequencing</td>\n",
       "      <td>23892778</td>\n",
       "      <td>NaN</td>\n",
       "    </tr>\n",
       "    <tr>\n",
       "      <th>4656</th>\n",
       "      <td>Mouse</td>\n",
       "      <td>Embryo</td>\n",
       "      <td>UBERON_0000922</td>\n",
       "      <td>Normal</td>\n",
       "      <td>Normal cell</td>\n",
       "      <td>Morula cell (Blastomere)</td>\n",
       "      <td>CL_0000360</td>\n",
       "      <td>[Aimp1, Atp5f1, Atp5h, Bcat1, Bin1, Ccbl2, Cct...</td>\n",
       "      <td>[Aimp1, Atp5f1, Atp5h, Bcat1, Bin1, Kyat3, Cct...</td>\n",
       "      <td>[13722, 11950, 71679, 12035, 30948, 229905, 12...</td>\n",
       "      <td>[AIMP1, AT5F1, ATP5H, BCAT1, BIN1, KAT3, TCPE,...</td>\n",
       "      <td>[P31230, Q9CQQ7, Q9DCX2, P24288, O08539, Q71RI...</td>\n",
       "      <td>Single-cell sequencing</td>\n",
       "      <td>23892778</td>\n",
       "      <td>NaN</td>\n",
       "    </tr>\n",
       "    <tr>\n",
       "      <th>4657</th>\n",
       "      <td>Human</td>\n",
       "      <td>Brain</td>\n",
       "      <td>UBERON_0000955</td>\n",
       "      <td>oligodendroglioma</td>\n",
       "      <td>Cancer cell</td>\n",
       "      <td>Cancer stem cell</td>\n",
       "      <td>NaN</td>\n",
       "      <td>[ASCL1, BOC, CCND2, CD24, CHD7, EGFR, NFIB, SO...</td>\n",
       "      <td>[ASCL1, BOC, CCND2, CD24, CHD7, EGFR, NFIB, SO...</td>\n",
       "      <td>[429, 91653, 894, 100133941, 55636, 1956, 4781...</td>\n",
       "      <td>[ASCL1, BOC, CCND2, CD24, CHD7, EGFR, NFIB, SO...</td>\n",
       "      <td>[P50553, Q9BWV1, P30279, P25063, Q9P2D1, P0053...</td>\n",
       "      <td>Single-cell sequencing</td>\n",
       "      <td>27806376</td>\n",
       "      <td>NaN</td>\n",
       "    </tr>\n",
       "  </tbody>\n",
       "</table>\n",
       "<p>4658 rows × 15 columns</p>\n",
       "</div>"
      ],
      "text/plain": [
       "     speciesType          tissueType UberonOntologyID         cancerType  \\\n",
       "0          Human              Kidney   UBERON_0002113             Normal   \n",
       "1          Human               Liver   UBERON_0002107             Normal   \n",
       "2          Human         Endometrium   UBERON_0001295             Normal   \n",
       "3          Human                Germ   UBERON_0000923             Normal   \n",
       "4          Human  Corneal epithelium   UBERON_0001772             Normal   \n",
       "...          ...                 ...              ...                ...   \n",
       "4653       Human              Embryo   UBERON_0000922             Normal   \n",
       "4654       Mouse              Embryo   UBERON_0000922             Normal   \n",
       "4655       Human              Embryo   UBERON_0000922             Normal   \n",
       "4656       Mouse              Embryo   UBERON_0000922             Normal   \n",
       "4657       Human               Brain   UBERON_0000955  oligodendroglioma   \n",
       "\n",
       "         cellType                          cellName CellOntologyID  \\\n",
       "0     Normal cell             Proximal tubular cell            NaN   \n",
       "1     Normal cell  Ito cell (hepatic stellate cell)     CL_0000632   \n",
       "2     Normal cell                  Trophoblast cell     CL_0000351   \n",
       "3     Normal cell              Primordial germ cell     CL_0000670   \n",
       "4     Normal cell                   Epithelial cell     CL_0000066   \n",
       "...           ...                               ...            ...   \n",
       "4653  Normal cell    8-cell stage cell (Blastomere)     CL_0000353   \n",
       "4654  Normal cell    8-cell stage cell (Blastomere)     CL_0000353   \n",
       "4655  Normal cell          Morula cell (Blastomere)     CL_0000360   \n",
       "4656  Normal cell          Morula cell (Blastomere)     CL_0000360   \n",
       "4657  Cancer cell                  Cancer stem cell            NaN   \n",
       "\n",
       "                                             cellMarker  \\\n",
       "0                     [Intestinal Alkaline Phosphatase]   \n",
       "1                                       [Synaptophysin]   \n",
       "2                                             [CEACAM1]   \n",
       "3                                                [VASA]   \n",
       "4                                                [KLF6]   \n",
       "...                                                 ...   \n",
       "4653  [C11orf48, C19orf53, DHX9, DIABLO, EIF1AD, EIF...   \n",
       "4654  [Abcf1, Cdc37, Diablo, Eif1ad, Eif4g1, Fam32a,...   \n",
       "4655  [ADCK1, AGL, AIMP1, AKAP12, ARPC3, ATP1B3, ATP...   \n",
       "4656  [Aimp1, Atp5f1, Atp5h, Bcat1, Bin1, Ccbl2, Cct...   \n",
       "4657  [ASCL1, BOC, CCND2, CD24, CHD7, EGFR, NFIB, SO...   \n",
       "\n",
       "                                             geneSymbol  \\\n",
       "0                                                [ALPI]   \n",
       "1                                                 [SYP]   \n",
       "2                                             [CEACAM1]   \n",
       "3                                                [DDX4]   \n",
       "4                                                [KLF6]   \n",
       "...                                                 ...   \n",
       "4653  [LBHD1, C19orf53, DHX9, DIABLO, EIF1AD, EIF4G1...   \n",
       "4654  [Abcf1, Cdc37, Diablo, Eif1ad, Eif4g1, Fam32a,...   \n",
       "4655  [ADCK1, AGL, AIMP1, AKAP12, ARPC3, ATP1B3, NA,...   \n",
       "4656  [Aimp1, Atp5f1, Atp5h, Bcat1, Bin1, Kyat3, Cct...   \n",
       "4657  [ASCL1, BOC, CCND2, CD24, CHD7, EGFR, NFIB, SO...   \n",
       "\n",
       "                                                 geneID  \\\n",
       "0                                                 [248]   \n",
       "1                                                [6855]   \n",
       "2                                                 [634]   \n",
       "3                                               [54514]   \n",
       "4                                                [1316]   \n",
       "...                                                 ...   \n",
       "4653  [79081, 28974, 1660, 56616, 84285, 1981, 26017...   \n",
       "4654  [224742, 12539, 66593, 69860, 208643, 67922, 7...   \n",
       "4655  [57143, 178, 9255, 9590, 10094, 483, NA, 586, ...   \n",
       "4656  [13722, 11950, 71679, 12035, 30948, 229905, 12...   \n",
       "4657  [429, 91653, 894, 100133941, 55636, 1956, 4781...   \n",
       "\n",
       "                                            proteinName  \\\n",
       "0                                                [PPBI]   \n",
       "1                                                [SYPH]   \n",
       "2                                               [CEAM1]   \n",
       "3                                                [DDX4]   \n",
       "4                                                [KLF6]   \n",
       "...                                                 ...   \n",
       "4653  [LBHD1, L10K, DHX9, DBLOH, EIF1A, IF4G1, FA32A...   \n",
       "4654  [ABCF1, CDC37, DBLOH, EIF1A, IF4G1, FA32A, KDM...   \n",
       "4655  [ADCK1, GDE, AIMP1, AKA12, ARPC3, AT1B3, AT5F1...   \n",
       "4656  [AIMP1, AT5F1, ATP5H, BCAT1, BIN1, KAT3, TCPE,...   \n",
       "4657  [ASCL1, BOC, CCND2, CD24, CHD7, EGFR, NFIB, SO...   \n",
       "\n",
       "                                              proteinID  \\\n",
       "0                                              [P09923]   \n",
       "1                                              [P08247]   \n",
       "2                                              [P13688]   \n",
       "3                                              [Q9NQI0]   \n",
       "4                                              [Q99612]   \n",
       "...                                                 ...   \n",
       "4653  [Q9BQE6, Q9UNZ5, Q08211, Q9NR28, Q8N9N8, Q0463...   \n",
       "4654  [Q6P542, Q61081, Q9JIQ3, Q3THJ3, Q6NZJ6, Q9CR8...   \n",
       "4655  [Q86TW2, P35573, Q12904, Q02952, O15145, P5470...   \n",
       "4656  [P31230, Q9CQQ7, Q9DCX2, P24288, O08539, Q71RI...   \n",
       "4657  [P50553, Q9BWV1, P30279, P25063, Q9P2D1, P0053...   \n",
       "\n",
       "              markerResource      PMID Company  \n",
       "0                 Experiment   9263997     NaN  \n",
       "1                 Experiment  10595912     NaN  \n",
       "2                 Experiment  10751340     NaN  \n",
       "3                 Experiment  10920202     NaN  \n",
       "4                 Experiment  12407152     NaN  \n",
       "...                      ...       ...     ...  \n",
       "4653  Single-cell sequencing  23892778     NaN  \n",
       "4654  Single-cell sequencing  23892778     NaN  \n",
       "4655  Single-cell sequencing  23892778     NaN  \n",
       "4656  Single-cell sequencing  23892778     NaN  \n",
       "4657  Single-cell sequencing  27806376     NaN  \n",
       "\n",
       "[4658 rows x 15 columns]"
      ]
     },
     "execution_count": 536,
     "metadata": {},
     "output_type": "execute_result"
    }
   ],
   "source": [
    "cell_markers_df"
   ]
  },
  {
   "cell_type": "code",
   "execution_count": null,
   "metadata": {},
   "outputs": [],
   "source": []
  }
 ],
 "metadata": {
  "kernelspec": {
   "display_name": "scripps_microbiome",
   "language": "python",
   "name": "python3"
  },
  "language_info": {
   "codemirror_mode": {
    "name": "ipython",
    "version": 3
   },
   "file_extension": ".py",
   "mimetype": "text/x-python",
   "name": "python",
   "nbconvert_exporter": "python",
   "pygments_lexer": "ipython3",
   "version": "3.8.19"
  }
 },
 "nbformat": 4,
 "nbformat_minor": 2
}

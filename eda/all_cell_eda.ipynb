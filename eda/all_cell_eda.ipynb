{
 "cells": [
  {
   "cell_type": "code",
   "execution_count": 1,
   "metadata": {},
   "outputs": [],
   "source": [
    "import pandas as pd\n",
    "import numpy as np"
   ]
  },
  {
   "cell_type": "markdown",
   "metadata": {},
   "source": [
    "## Plan\n",
    "- explore data myself and meet up with jason to construct detailed parsing plna\n",
    "- current doing EDA\n",
    "\n",
    "## problem\n",
    "- how deal with missing value?\n",
    "- it seems like all_cell_markers includes all the avaliable dat set from the human cell, mouse cell, and single cell, but further validation is needed\n",
    "- the mapping index\n",
    "- lab's working schedule for next few weeks"
   ]
  },
  {
   "cell_type": "markdown",
   "metadata": {},
   "source": [
    "# Exploration on all_cell_markers\n",
    "\n",
    "insights:\n",
    "- tissueType: change the undefined into NaN\n",
    "- UberonOntologyID: two main kinds (UBERON_0001255, CL_0002248)\n",
    "- CencerType: change \"normal\" to NaN\n",
    "- cellType: normal cell or cancer cell\n",
    "- expected cellMarker == GeneSymbol == geneID == proteinID\n"
   ]
  },
  {
   "cell_type": "code",
   "execution_count": 136,
   "metadata": {},
   "outputs": [
    {
     "name": "stderr",
     "output_type": "stream",
     "text": [
      "/opt/anaconda3/envs/scripps_microbiome/lib/python3.8/site-packages/pandas/util/_decorators.py:311: ParserWarning: Falling back to the 'python' engine because the 'c' engine does not support regex separators (separators > 1 char and different from '\\s+' are interpreted as regex); you can avoid this warning by specifying engine='python'.\n",
      "  return func(*args, **kwargs)\n"
     ]
    }
   ],
   "source": [
    "all_cell_markers_df = pd.read_csv('../data/all_cell_markers.txt', sep = r'\\t')\n",
    "all_human_markers_df = pd.read_csv('../data/Human_cell_markers.txt', sep = r'\\t')\n",
    "all_mouse_markers_df = pd.read_csv('../data/Mouse_cell_markers.txt', sep = r'\\t')\n",
    "all_singleCell_markers_df = pd.read_csv('../data/Single_cell_markers.txt', sep = r'\\t')\n",
    "# with open('../data/all_cell_markers.txt', 'r') as file:\n",
    "#     firstline = file.readline()"
   ]
  },
  {
   "cell_type": "code",
   "execution_count": 140,
   "metadata": {},
   "outputs": [
    {
     "data": {
      "text/plain": [
       "(4123, 15)"
      ]
     },
     "execution_count": 140,
     "metadata": {},
     "output_type": "execute_result"
    }
   ],
   "source": [
    "all_cell_markers_df.shape"
   ]
  },
  {
   "cell_type": "code",
   "execution_count": 141,
   "metadata": {},
   "outputs": [
    {
     "data": {
      "text/plain": [
       "(2868, 15)"
      ]
     },
     "execution_count": 141,
     "metadata": {},
     "output_type": "execute_result"
    }
   ],
   "source": [
    "all_human_markers_df.shape"
   ]
  },
  {
   "cell_type": "code",
   "execution_count": 142,
   "metadata": {},
   "outputs": [
    {
     "data": {
      "text/plain": [
       "(1255, 15)"
      ]
     },
     "execution_count": 142,
     "metadata": {},
     "output_type": "execute_result"
    }
   ],
   "source": [
    "all_mouse_markers_df.shape"
   ]
  },
  {
   "cell_type": "code",
   "execution_count": 143,
   "metadata": {},
   "outputs": [
    {
     "data": {
      "text/plain": [
       "(535, 15)"
      ]
     },
     "execution_count": 143,
     "metadata": {},
     "output_type": "execute_result"
    }
   ],
   "source": [
    "all_singleCell_markers_df.shape"
   ]
  },
  {
   "cell_type": "code",
   "execution_count": 144,
   "metadata": {},
   "outputs": [
    {
     "data": {
      "text/plain": [
       "4658"
      ]
     },
     "execution_count": 144,
     "metadata": {},
     "output_type": "execute_result"
    }
   ],
   "source": [
    "535 + 1255 + 2868 "
   ]
  },
  {
   "cell_type": "markdown",
   "metadata": {},
   "source": [
    "## Column meaning understand\n",
    "- speciesType: the species from which the data originates (Human and Mouse)\n",
    "- tissueType: the type of tissues (181 kinds)\n",
    "- UberonOntologyID: not sure (ChatGPT: A unique identifier from the Uberon ontology, which is a database that classifies anatomical structures)\n",
    "- cancerType: association with specific cancer\n",
    "- cellName: name of the cell type\n",
    "- CellOntologyID: unique identifier of the cell\n",
    "- cellMarker: a marker molecule of the cell: in string list, can be convert to list\n",
    "- geneSymbol: gene associate with the cell marker\n",
    "- geneID: unique identifier of the gene\n",
    "- proteinName: name of the protein\n",
    "- proteinID: unique identifier for the protein\n",
    "- markerResource: the type of resouce or methologoy used to identify the marker\n",
    "- PMID: The PudMed ID for the publication or study where the marker data was reported\n",
    "- Company: the company associated with the resouces\n"
   ]
  },
  {
   "cell_type": "code",
   "execution_count": 34,
   "metadata": {},
   "outputs": [
    {
     "data": {
      "text/plain": [
       "Index(['speciesType', 'tissueType', 'UberonOntologyID', 'cancerType',\n",
       "       'cellType', 'cellName', 'CellOntologyID', 'cellMarker', 'geneSymbol',\n",
       "       'geneID', 'proteinName', 'proteinID', 'markerResource', 'PMID',\n",
       "       'Company'],\n",
       "      dtype='object')"
      ]
     },
     "execution_count": 34,
     "metadata": {},
     "output_type": "execute_result"
    }
   ],
   "source": [
    "all_cell_markers_df.columns"
   ]
  },
  {
   "cell_type": "markdown",
   "metadata": {},
   "source": [
    "## Data distribition"
   ]
  },
  {
   "cell_type": "code",
   "execution_count": 36,
   "metadata": {},
   "outputs": [
    {
     "data": {
      "text/plain": [
       "Human    2868\n",
       "Mouse    1255\n",
       "Name: speciesType, dtype: int64"
      ]
     },
     "execution_count": 36,
     "metadata": {},
     "output_type": "execute_result"
    }
   ],
   "source": [
    "all_cell_markers_df.speciesType.value_counts()"
   ]
  },
  {
   "cell_type": "code",
   "execution_count": null,
   "metadata": {},
   "outputs": [
    {
     "data": {
      "text/plain": [
       "Undefined           695\n",
       "Brain               254\n",
       "Bone marrow         254\n",
       "Lung                249\n",
       "Liver               240\n",
       "                   ... \n",
       "Fetal brain           1\n",
       "Vocal fold            1\n",
       "Nerve                 1\n",
       "Primitive streak      1\n",
       "Premolar              1\n",
       "Name: tissueType, Length: 181, dtype: int64"
      ]
     },
     "execution_count": 40,
     "metadata": {},
     "output_type": "execute_result"
    }
   ],
   "source": [
    "all_cell_markers_df.tissueType.value_counts()"
   ]
  },
  {
   "cell_type": "code",
   "execution_count": 46,
   "metadata": {},
   "outputs": [
    {
     "data": {
      "text/plain": [
       "UBERON_0000955    254\n",
       "UBERON_0002371    254\n",
       "UBERON_0002048    249\n",
       "UBERON_0002107    240\n",
       "UBERON_0005408    215\n",
       "                 ... \n",
       "UBERON_0003215      1\n",
       "UBERON_0006530      1\n",
       "UBERON_0001052      1\n",
       "UBERON_0003922      1\n",
       "UBERON_0005384      1\n",
       "Name: UberonOntologyID, Length: 172, dtype: int64"
      ]
     },
     "execution_count": 46,
     "metadata": {},
     "output_type": "execute_result"
    }
   ],
   "source": [
    "all_cell_markers_df.UberonOntologyID.value_counts()"
   ]
  },
  {
   "cell_type": "code",
   "execution_count": 47,
   "metadata": {},
   "outputs": [
    {
     "data": {
      "text/plain": [
       "Normal                                      3315\n",
       "Breast Cancer                                100\n",
       "Colorectum Cancer                             36\n",
       "Prostate Cancer                               35\n",
       "Colon Cancer                                  34\n",
       "                                            ... \n",
       "Non-Hodgkin's Lymphoma                         1\n",
       "Non-small Cell Lung Cancer (circulating)       1\n",
       "Gonadoblastoma                                 1\n",
       "Vascular Tumour                                1\n",
       "oligodendroglioma                              1\n",
       "Name: cancerType, Length: 133, dtype: int64"
      ]
     },
     "execution_count": 47,
     "metadata": {},
     "output_type": "execute_result"
    }
   ],
   "source": [
    "all_cell_markers_df.cancerType.value_counts()"
   ]
  },
  {
   "cell_type": "code",
   "execution_count": 48,
   "metadata": {},
   "outputs": [
    {
     "data": {
      "text/plain": [
       "Normal cell    3315\n",
       "Cancer cell     808\n",
       "Name: cellType, dtype: int64"
      ]
     },
     "execution_count": 48,
     "metadata": {},
     "output_type": "execute_result"
    }
   ],
   "source": [
    "all_cell_markers_df.cellType.value_counts()"
   ]
  },
  {
   "cell_type": "code",
   "execution_count": 49,
   "metadata": {},
   "outputs": [
    {
     "data": {
      "text/plain": [
       "Cancer stem cell                                             593\n",
       "Stem cell                                                    186\n",
       "Endothelial cell                                             157\n",
       "Macrophage                                                   139\n",
       "Mesenchymal stem cell                                        137\n",
       "                                                            ... \n",
       "Neuron-restricted precursor                                    1\n",
       "Limbal mesenchymal cell                                        1\n",
       "Quiescent small intestinal stem cell                           1\n",
       "Adipose multilineage-differentiating stress-enduring cell      1\n",
       "CD4+ T follicular helper cell                                  1\n",
       "Name: cellName, Length: 681, dtype: int64"
      ]
     },
     "execution_count": 49,
     "metadata": {},
     "output_type": "execute_result"
    }
   ],
   "source": [
    "all_cell_markers_df.cellName.value_counts()"
   ]
  },
  {
   "cell_type": "code",
   "execution_count": 50,
   "metadata": {},
   "outputs": [
    {
     "data": {
      "text/plain": [
       "CL_0000034    308\n",
       "CL_0000134    181\n",
       "CL_0000115    168\n",
       "CL_0000235    141\n",
       "CL_0000084    132\n",
       "             ... \n",
       "CL_0000166      1\n",
       "CL_0008020      1\n",
       "CL_0000058      1\n",
       "CL_0000210      1\n",
       "CL_0000850      1\n",
       "Name: CellOntologyID, Length: 281, dtype: int64"
      ]
     },
     "execution_count": 50,
     "metadata": {},
     "output_type": "execute_result"
    }
   ],
   "source": [
    "all_cell_markers_df.CellOntologyID.value_counts()"
   ]
  },
  {
   "cell_type": "code",
   "execution_count": 51,
   "metadata": {},
   "outputs": [
    {
     "data": {
      "text/plain": [
       "CD133                                                                 109\n",
       "CD44                                                                   58\n",
       "CD31                                                                   50\n",
       "CD68                                                                   47\n",
       "CD3                                                                    39\n",
       "                                                                     ... \n",
       "BDCA1, CD11c                                                            1\n",
       "BDCA2, CD123                                                            1\n",
       "CLEC9A                                                                  1\n",
       "TAGLN2                                                                  1\n",
       "ASCL1, BOC, CCND2, CD24, CHD7, EGFR, NFIB, SOX11, SOX2, SOX4, TCF4      1\n",
       "Name: cellMarker, Length: 2517, dtype: int64"
      ]
     },
     "execution_count": 51,
     "metadata": {},
     "output_type": "execute_result"
    }
   ],
   "source": [
    "all_cell_markers_df.cellMarker.value_counts()"
   ]
  },
  {
   "cell_type": "code",
   "execution_count": 52,
   "metadata": {},
   "outputs": [
    {
     "data": {
      "text/plain": [
       "PROM1                                                                 109\n",
       "CD44                                                                   54\n",
       "PECAM1                                                                 45\n",
       "CD68                                                                   39\n",
       "CD34                                                                   30\n",
       "                                                                     ... \n",
       "KRT18, KRT19                                                            1\n",
       "LIN28A                                                                  1\n",
       "PROM1, NCAM1                                                            1\n",
       "CLEC4F, VSIG4                                                           1\n",
       "ASCL1, BOC, CCND2, CD24, CHD7, EGFR, NFIB, SOX11, SOX2, SOX4, TCF4      1\n",
       "Name: geneSymbol, Length: 2485, dtype: int64"
      ]
     },
     "execution_count": 52,
     "metadata": {},
     "output_type": "execute_result"
    }
   ],
   "source": [
    "all_cell_markers_df.geneSymbol.value_counts()"
   ]
  },
  {
   "cell_type": "code",
   "execution_count": 53,
   "metadata": {},
   "outputs": [
    {
     "data": {
      "text/plain": [
       "8842                                                                     109\n",
       "960                                                                       54\n",
       "5175                                                                      45\n",
       "968                                                                       39\n",
       "947                                                                       30\n",
       "                                                                        ... \n",
       "8842, 4684                                                                 1\n",
       "165530, 11326                                                              1\n",
       "59, 2670                                                                   1\n",
       "Albumin family, 4311, 3875, 3856                                           1\n",
       "429, 91653, 894, 100133941, 55636, 1956, 4781, 6664, 6657, 6659, 6925      1\n",
       "Name: geneID, Length: 2487, dtype: int64"
      ]
     },
     "execution_count": 53,
     "metadata": {},
     "output_type": "execute_result"
    }
   ],
   "source": [
    "all_cell_markers_df.geneID.value_counts()"
   ]
  },
  {
   "cell_type": "code",
   "execution_count": 54,
   "metadata": {},
   "outputs": [
    {
     "data": {
      "text/plain": [
       "PROM1                                                                 115\n",
       "CD44                                                                   61\n",
       "PECA1                                                                  57\n",
       "CD68                                                                   47\n",
       "[CD3D, CD3E, CD3G]                                                     39\n",
       "                                                                     ... \n",
       "Albumin family, NEP, K1C18, K2C8                                        1\n",
       "Albumin family, K2C8                                                    1\n",
       "Albumin family, K1C18                                                   1\n",
       "FETA, FBF1, HNF4A                                                       1\n",
       "ASCL1, BOC, CCND2, CD24, CHD7, EGFR, NFIB, SOX11, SOX2, SOX4, ITF2      1\n",
       "Name: proteinName, Length: 2350, dtype: int64"
      ]
     },
     "execution_count": 54,
     "metadata": {},
     "output_type": "execute_result"
    }
   ],
   "source": [
    "all_cell_markers_df.proteinName.value_counts()"
   ]
  },
  {
   "cell_type": "code",
   "execution_count": 55,
   "metadata": {},
   "outputs": [
    {
     "data": {
      "text/plain": [
       "O43490                                                                                    109\n",
       "P16070                                                                                     54\n",
       "P16284                                                                                     45\n",
       "P34810                                                                                     39\n",
       "P28906                                                                                     30\n",
       "                                                                                         ... \n",
       "Q8N1N0, Q9Y279                                                                              1\n",
       "P62736, P14136                                                                              1\n",
       "Albumin family, P08473, P05783, P05787                                                      1\n",
       "Albumin family, P05787                                                                      1\n",
       "P50553, Q9BWV1, P30279, P25063, Q9P2D1, P00533, O00712, P35716, P48431, Q06945, P15884      1\n",
       "Name: proteinID, Length: 2481, dtype: int64"
      ]
     },
     "execution_count": 55,
     "metadata": {},
     "output_type": "execute_result"
    }
   ],
   "source": [
    "all_cell_markers_df.proteinID.value_counts()"
   ]
  },
  {
   "cell_type": "code",
   "execution_count": 56,
   "metadata": {},
   "outputs": [
    {
     "data": {
      "text/plain": [
       "Experiment                3064\n",
       "Single-cell sequencing     535\n",
       "Company                    355\n",
       "Review                     169\n",
       "Name: markerResource, dtype: int64"
      ]
     },
     "execution_count": 56,
     "metadata": {},
     "output_type": "execute_result"
    }
   ],
   "source": [
    "all_cell_markers_df.markerResource.value_counts()"
   ]
  },
  {
   "cell_type": "code",
   "execution_count": 57,
   "metadata": {},
   "outputs": [
    {
     "data": {
      "text/plain": [
       "Company     355\n",
       "30018341     41\n",
       "30093597     37\n",
       "29802404     27\n",
       "29545511     21\n",
       "           ... \n",
       "28869524      1\n",
       "17714779      1\n",
       "18701045      1\n",
       "20060164      1\n",
       "16849681      1\n",
       "Name: PMID, Length: 2379, dtype: int64"
      ]
     },
     "execution_count": 57,
     "metadata": {},
     "output_type": "execute_result"
    }
   ],
   "source": [
    "all_cell_markers_df.PMID.value_counts()"
   ]
  },
  {
   "cell_type": "code",
   "execution_count": 58,
   "metadata": {},
   "outputs": [
    {
     "data": {
      "text/plain": [
       "ebioscience           77\n",
       "miltenyibiotec        60\n",
       "abcam                 53\n",
       "biolegend             52\n",
       "bio-rad-antibodies    47\n",
       "rndsystems            35\n",
       "labome                16\n",
       "bdbiosciences         15\n",
       "Name: Company, dtype: int64"
      ]
     },
     "execution_count": 58,
     "metadata": {},
     "output_type": "execute_result"
    }
   ],
   "source": [
    "all_cell_markers_df.Company.value_counts()"
   ]
  },
  {
   "cell_type": "markdown",
   "metadata": {},
   "source": [
    "## Missing value"
   ]
  },
  {
   "cell_type": "code",
   "execution_count": 61,
   "metadata": {},
   "outputs": [
    {
     "data": {
      "text/plain": [
       "Company             0.913898\n",
       "CellOntologyID      0.210526\n",
       "UberonOntologyID    0.180936\n",
       "proteinName         0.013582\n",
       "proteinID           0.013582\n",
       "geneSymbol          0.012127\n",
       "geneID              0.012127\n",
       "speciesType         0.000000\n",
       "tissueType          0.000000\n",
       "cancerType          0.000000\n",
       "cellType            0.000000\n",
       "cellName            0.000000\n",
       "cellMarker          0.000000\n",
       "markerResource      0.000000\n",
       "PMID                0.000000\n",
       "dtype: float64"
      ]
     },
     "execution_count": 61,
     "metadata": {},
     "output_type": "execute_result"
    }
   ],
   "source": [
    "all_cell_markers_df.isna().mean().sort_values(ascending=False)"
   ]
  },
  {
   "cell_type": "code",
   "execution_count": 132,
   "metadata": {},
   "outputs": [],
   "source": [
    "test = all_cell_markers_df.copy().dropna(subset=['geneSymbol', 'proteinID'])    #[['cellMarker', 'geneSymbol', 'geneID']]\n",
    "test['cellMarker'] = test['cellMarker'].apply(lambda x: x.split(', '))\n",
    "test['geneSymbol'] = test['geneSymbol'].apply(lambda x: x.split(', '))\n",
    "test['geneID'] = test['geneID'].apply(lambda x: x.split(', '))\n",
    "test['proteinID'] = test['proteinID'].apply(lambda x: x.split(', '))\n",
    "\n",
    "test['len_cellMarker'] = test['cellMarker'].apply(len)\n",
    "test['len_geneSymbol'] = test['geneSymbol'].apply(len)\n",
    "test['len_geneID'] = test['geneID'].apply(len)\n",
    "test['len_proteinID'] = test['proteinID'].apply(len)"
   ]
  },
  {
   "cell_type": "code",
   "execution_count": 115,
   "metadata": {},
   "outputs": [],
   "source": [
    "x = test[~((test['len_cellMarker'] == test['len_geneSymbol']) & (test['len_geneSymbol'] == test['len_geneID']))]"
   ]
  },
  {
   "cell_type": "code",
   "execution_count": 122,
   "metadata": {},
   "outputs": [
    {
     "data": {
      "text/plain": [
       "['ITGAM', 'CD14', 'ITGB2', '[FCGR2A', 'FCGR2B', 'FCGR2C]', 'CD68']"
      ]
     },
     "execution_count": 122,
     "metadata": {},
     "output_type": "execute_result"
    }
   ],
   "source": [
    "x.iloc[0]['geneSymbol']"
   ]
  },
  {
   "cell_type": "code",
   "execution_count": 123,
   "metadata": {},
   "outputs": [
    {
     "data": {
      "text/plain": [
       "['CD11b', 'CD14', 'CD18', 'CD32', 'CD68']"
      ]
     },
     "execution_count": 123,
     "metadata": {},
     "output_type": "execute_result"
    }
   ],
   "source": [
    "x.iloc[0]['cellMarker']"
   ]
  },
  {
   "cell_type": "code",
   "execution_count": 124,
   "metadata": {},
   "outputs": [
    {
     "data": {
      "text/plain": [
       "['3684', '929', '3689', '[2212', '2213', '9103]', '968']"
      ]
     },
     "execution_count": 124,
     "metadata": {},
     "output_type": "execute_result"
    }
   ],
   "source": [
    "x.iloc[0]['geneID']"
   ]
  },
  {
   "cell_type": "code",
   "execution_count": 129,
   "metadata": {},
   "outputs": [],
   "source": [
    "# the problem of spliting for the cell maker"
   ]
  },
  {
   "cell_type": "code",
   "execution_count": 130,
   "metadata": {},
   "outputs": [
    {
     "data": {
      "text/html": [
       "<div>\n",
       "<style scoped>\n",
       "    .dataframe tbody tr th:only-of-type {\n",
       "        vertical-align: middle;\n",
       "    }\n",
       "\n",
       "    .dataframe tbody tr th {\n",
       "        vertical-align: top;\n",
       "    }\n",
       "\n",
       "    .dataframe thead th {\n",
       "        text-align: right;\n",
       "    }\n",
       "</style>\n",
       "<table border=\"1\" class=\"dataframe\">\n",
       "  <thead>\n",
       "    <tr style=\"text-align: right;\">\n",
       "      <th></th>\n",
       "      <th>speciesType</th>\n",
       "      <th>tissueType</th>\n",
       "      <th>UberonOntologyID</th>\n",
       "      <th>cancerType</th>\n",
       "      <th>cellType</th>\n",
       "      <th>cellName</th>\n",
       "      <th>CellOntologyID</th>\n",
       "      <th>cellMarker</th>\n",
       "      <th>geneSymbol</th>\n",
       "      <th>geneID</th>\n",
       "      <th>proteinName</th>\n",
       "      <th>proteinID</th>\n",
       "      <th>markerResource</th>\n",
       "      <th>PMID</th>\n",
       "      <th>Company</th>\n",
       "      <th>len_cellMarker</th>\n",
       "      <th>len_geneSymbol</th>\n",
       "      <th>len_geneID</th>\n",
       "    </tr>\n",
       "  </thead>\n",
       "  <tbody>\n",
       "    <tr>\n",
       "      <th>0</th>\n",
       "      <td>Human</td>\n",
       "      <td>Kidney</td>\n",
       "      <td>UBERON_0002113</td>\n",
       "      <td>Normal</td>\n",
       "      <td>Normal cell</td>\n",
       "      <td>Proximal tubular cell</td>\n",
       "      <td>NaN</td>\n",
       "      <td>[Intestinal Alkaline Phosphatase]</td>\n",
       "      <td>[ALPI]</td>\n",
       "      <td>[248]</td>\n",
       "      <td>PPBI</td>\n",
       "      <td>P09923</td>\n",
       "      <td>Experiment</td>\n",
       "      <td>9263997</td>\n",
       "      <td>NaN</td>\n",
       "      <td>1</td>\n",
       "      <td>1</td>\n",
       "      <td>1</td>\n",
       "    </tr>\n",
       "    <tr>\n",
       "      <th>1</th>\n",
       "      <td>Human</td>\n",
       "      <td>Liver</td>\n",
       "      <td>UBERON_0002107</td>\n",
       "      <td>Normal</td>\n",
       "      <td>Normal cell</td>\n",
       "      <td>Ito cell (hepatic stellate cell)</td>\n",
       "      <td>CL_0000632</td>\n",
       "      <td>[Synaptophysin]</td>\n",
       "      <td>[SYP]</td>\n",
       "      <td>[6855]</td>\n",
       "      <td>SYPH</td>\n",
       "      <td>P08247</td>\n",
       "      <td>Experiment</td>\n",
       "      <td>10595912</td>\n",
       "      <td>NaN</td>\n",
       "      <td>1</td>\n",
       "      <td>1</td>\n",
       "      <td>1</td>\n",
       "    </tr>\n",
       "    <tr>\n",
       "      <th>2</th>\n",
       "      <td>Human</td>\n",
       "      <td>Endometrium</td>\n",
       "      <td>UBERON_0001295</td>\n",
       "      <td>Normal</td>\n",
       "      <td>Normal cell</td>\n",
       "      <td>Trophoblast cell</td>\n",
       "      <td>CL_0000351</td>\n",
       "      <td>[CEACAM1]</td>\n",
       "      <td>[CEACAM1]</td>\n",
       "      <td>[634]</td>\n",
       "      <td>CEAM1</td>\n",
       "      <td>P13688</td>\n",
       "      <td>Experiment</td>\n",
       "      <td>10751340</td>\n",
       "      <td>NaN</td>\n",
       "      <td>1</td>\n",
       "      <td>1</td>\n",
       "      <td>1</td>\n",
       "    </tr>\n",
       "    <tr>\n",
       "      <th>3</th>\n",
       "      <td>Human</td>\n",
       "      <td>Germ</td>\n",
       "      <td>UBERON_0000923</td>\n",
       "      <td>Normal</td>\n",
       "      <td>Normal cell</td>\n",
       "      <td>Primordial germ cell</td>\n",
       "      <td>CL_0000670</td>\n",
       "      <td>[VASA]</td>\n",
       "      <td>[DDX4]</td>\n",
       "      <td>[54514]</td>\n",
       "      <td>DDX4</td>\n",
       "      <td>Q9NQI0</td>\n",
       "      <td>Experiment</td>\n",
       "      <td>10920202</td>\n",
       "      <td>NaN</td>\n",
       "      <td>1</td>\n",
       "      <td>1</td>\n",
       "      <td>1</td>\n",
       "    </tr>\n",
       "    <tr>\n",
       "      <th>4</th>\n",
       "      <td>Human</td>\n",
       "      <td>Corneal epithelium</td>\n",
       "      <td>UBERON_0001772</td>\n",
       "      <td>Normal</td>\n",
       "      <td>Normal cell</td>\n",
       "      <td>Epithelial cell</td>\n",
       "      <td>CL_0000066</td>\n",
       "      <td>[KLF6]</td>\n",
       "      <td>[KLF6]</td>\n",
       "      <td>[1316]</td>\n",
       "      <td>KLF6</td>\n",
       "      <td>Q99612</td>\n",
       "      <td>Experiment</td>\n",
       "      <td>12407152</td>\n",
       "      <td>NaN</td>\n",
       "      <td>1</td>\n",
       "      <td>1</td>\n",
       "      <td>1</td>\n",
       "    </tr>\n",
       "    <tr>\n",
       "      <th>...</th>\n",
       "      <td>...</td>\n",
       "      <td>...</td>\n",
       "      <td>...</td>\n",
       "      <td>...</td>\n",
       "      <td>...</td>\n",
       "      <td>...</td>\n",
       "      <td>...</td>\n",
       "      <td>...</td>\n",
       "      <td>...</td>\n",
       "      <td>...</td>\n",
       "      <td>...</td>\n",
       "      <td>...</td>\n",
       "      <td>...</td>\n",
       "      <td>...</td>\n",
       "      <td>...</td>\n",
       "      <td>...</td>\n",
       "      <td>...</td>\n",
       "      <td>...</td>\n",
       "    </tr>\n",
       "    <tr>\n",
       "      <th>4118</th>\n",
       "      <td>Human</td>\n",
       "      <td>Embryo</td>\n",
       "      <td>UBERON_0000922</td>\n",
       "      <td>Normal</td>\n",
       "      <td>Normal cell</td>\n",
       "      <td>8-cell stage cell (Blastomere)</td>\n",
       "      <td>CL_0000353</td>\n",
       "      <td>[C11orf48, C19orf53, DHX9, DIABLO, EIF1AD, EIF...</td>\n",
       "      <td>[LBHD1, C19orf53, DHX9, DIABLO, EIF1AD, EIF4G1...</td>\n",
       "      <td>[79081, 28974, 1660, 56616, 84285, 1981, 26017...</td>\n",
       "      <td>LBHD1, L10K, DHX9, DBLOH, EIF1A, IF4G1, FA32A,...</td>\n",
       "      <td>Q9BQE6, Q9UNZ5, Q08211, Q9NR28, Q8N9N8, Q04637...</td>\n",
       "      <td>Single-cell sequencing</td>\n",
       "      <td>23892778</td>\n",
       "      <td>NaN</td>\n",
       "      <td>19</td>\n",
       "      <td>19</td>\n",
       "      <td>19</td>\n",
       "    </tr>\n",
       "    <tr>\n",
       "      <th>4119</th>\n",
       "      <td>Mouse</td>\n",
       "      <td>Embryo</td>\n",
       "      <td>UBERON_0000922</td>\n",
       "      <td>Normal</td>\n",
       "      <td>Normal cell</td>\n",
       "      <td>8-cell stage cell (Blastomere)</td>\n",
       "      <td>CL_0000353</td>\n",
       "      <td>[Abcf1, Cdc37, Diablo, Eif1ad, Eif4g1, Fam32a,...</td>\n",
       "      <td>[Abcf1, Cdc37, Diablo, Eif1ad, Eif4g1, Fam32a,...</td>\n",
       "      <td>[224742, 12539, 66593, 69860, 208643, 67922, 7...</td>\n",
       "      <td>ABCF1, CDC37, DBLOH, EIF1A, IF4G1, FA32A, KDM5...</td>\n",
       "      <td>Q6P542, Q61081, Q9JIQ3, Q3THJ3, Q6NZJ6, Q9CR80...</td>\n",
       "      <td>Single-cell sequencing</td>\n",
       "      <td>23892778</td>\n",
       "      <td>NaN</td>\n",
       "      <td>12</td>\n",
       "      <td>12</td>\n",
       "      <td>12</td>\n",
       "    </tr>\n",
       "    <tr>\n",
       "      <th>4120</th>\n",
       "      <td>Human</td>\n",
       "      <td>Embryo</td>\n",
       "      <td>UBERON_0000922</td>\n",
       "      <td>Normal</td>\n",
       "      <td>Normal cell</td>\n",
       "      <td>Morula cell (Blastomere)</td>\n",
       "      <td>CL_0000360</td>\n",
       "      <td>[ADCK1, AGL, AIMP1, AKAP12, ARPC3, ATP1B3, ATP...</td>\n",
       "      <td>[ADCK1, AGL, AIMP1, AKAP12, ARPC3, ATP1B3, NA,...</td>\n",
       "      <td>[57143, 178, 9255, 9590, 10094, 483, NA, 586, ...</td>\n",
       "      <td>ADCK1, GDE, AIMP1, AKA12, ARPC3, AT1B3, AT5F1,...</td>\n",
       "      <td>Q86TW2, P35573, Q12904, Q02952, O15145, P54709...</td>\n",
       "      <td>Single-cell sequencing</td>\n",
       "      <td>23892778</td>\n",
       "      <td>NaN</td>\n",
       "      <td>112</td>\n",
       "      <td>112</td>\n",
       "      <td>112</td>\n",
       "    </tr>\n",
       "    <tr>\n",
       "      <th>4121</th>\n",
       "      <td>Mouse</td>\n",
       "      <td>Embryo</td>\n",
       "      <td>UBERON_0000922</td>\n",
       "      <td>Normal</td>\n",
       "      <td>Normal cell</td>\n",
       "      <td>Morula cell (Blastomere)</td>\n",
       "      <td>CL_0000360</td>\n",
       "      <td>[Aimp1, Atp5f1, Atp5h, Bcat1, Bin1, Ccbl2, Cct...</td>\n",
       "      <td>[Aimp1, Atp5f1, Atp5h, Bcat1, Bin1, Kyat3, Cct...</td>\n",
       "      <td>[13722, 11950, 71679, 12035, 30948, 229905, 12...</td>\n",
       "      <td>AIMP1, AT5F1, ATP5H, BCAT1, BIN1, KAT3, TCPE, ...</td>\n",
       "      <td>P31230, Q9CQQ7, Q9DCX2, P24288, O08539, Q71RI9...</td>\n",
       "      <td>Single-cell sequencing</td>\n",
       "      <td>23892778</td>\n",
       "      <td>NaN</td>\n",
       "      <td>37</td>\n",
       "      <td>37</td>\n",
       "      <td>37</td>\n",
       "    </tr>\n",
       "    <tr>\n",
       "      <th>4122</th>\n",
       "      <td>Human</td>\n",
       "      <td>Brain</td>\n",
       "      <td>UBERON_0000955</td>\n",
       "      <td>oligodendroglioma</td>\n",
       "      <td>Cancer cell</td>\n",
       "      <td>Cancer stem cell</td>\n",
       "      <td>NaN</td>\n",
       "      <td>[ASCL1, BOC, CCND2, CD24, CHD7, EGFR, NFIB, SO...</td>\n",
       "      <td>[ASCL1, BOC, CCND2, CD24, CHD7, EGFR, NFIB, SO...</td>\n",
       "      <td>[429, 91653, 894, 100133941, 55636, 1956, 4781...</td>\n",
       "      <td>ASCL1, BOC, CCND2, CD24, CHD7, EGFR, NFIB, SOX...</td>\n",
       "      <td>P50553, Q9BWV1, P30279, P25063, Q9P2D1, P00533...</td>\n",
       "      <td>Single-cell sequencing</td>\n",
       "      <td>27806376</td>\n",
       "      <td>NaN</td>\n",
       "      <td>11</td>\n",
       "      <td>11</td>\n",
       "      <td>11</td>\n",
       "    </tr>\n",
       "  </tbody>\n",
       "</table>\n",
       "<p>4073 rows × 18 columns</p>\n",
       "</div>"
      ],
      "text/plain": [
       "     speciesType          tissueType UberonOntologyID         cancerType  \\\n",
       "0          Human              Kidney   UBERON_0002113             Normal   \n",
       "1          Human               Liver   UBERON_0002107             Normal   \n",
       "2          Human         Endometrium   UBERON_0001295             Normal   \n",
       "3          Human                Germ   UBERON_0000923             Normal   \n",
       "4          Human  Corneal epithelium   UBERON_0001772             Normal   \n",
       "...          ...                 ...              ...                ...   \n",
       "4118       Human              Embryo   UBERON_0000922             Normal   \n",
       "4119       Mouse              Embryo   UBERON_0000922             Normal   \n",
       "4120       Human              Embryo   UBERON_0000922             Normal   \n",
       "4121       Mouse              Embryo   UBERON_0000922             Normal   \n",
       "4122       Human               Brain   UBERON_0000955  oligodendroglioma   \n",
       "\n",
       "         cellType                          cellName CellOntologyID  \\\n",
       "0     Normal cell             Proximal tubular cell            NaN   \n",
       "1     Normal cell  Ito cell (hepatic stellate cell)     CL_0000632   \n",
       "2     Normal cell                  Trophoblast cell     CL_0000351   \n",
       "3     Normal cell              Primordial germ cell     CL_0000670   \n",
       "4     Normal cell                   Epithelial cell     CL_0000066   \n",
       "...           ...                               ...            ...   \n",
       "4118  Normal cell    8-cell stage cell (Blastomere)     CL_0000353   \n",
       "4119  Normal cell    8-cell stage cell (Blastomere)     CL_0000353   \n",
       "4120  Normal cell          Morula cell (Blastomere)     CL_0000360   \n",
       "4121  Normal cell          Morula cell (Blastomere)     CL_0000360   \n",
       "4122  Cancer cell                  Cancer stem cell            NaN   \n",
       "\n",
       "                                             cellMarker  \\\n",
       "0                     [Intestinal Alkaline Phosphatase]   \n",
       "1                                       [Synaptophysin]   \n",
       "2                                             [CEACAM1]   \n",
       "3                                                [VASA]   \n",
       "4                                                [KLF6]   \n",
       "...                                                 ...   \n",
       "4118  [C11orf48, C19orf53, DHX9, DIABLO, EIF1AD, EIF...   \n",
       "4119  [Abcf1, Cdc37, Diablo, Eif1ad, Eif4g1, Fam32a,...   \n",
       "4120  [ADCK1, AGL, AIMP1, AKAP12, ARPC3, ATP1B3, ATP...   \n",
       "4121  [Aimp1, Atp5f1, Atp5h, Bcat1, Bin1, Ccbl2, Cct...   \n",
       "4122  [ASCL1, BOC, CCND2, CD24, CHD7, EGFR, NFIB, SO...   \n",
       "\n",
       "                                             geneSymbol  \\\n",
       "0                                                [ALPI]   \n",
       "1                                                 [SYP]   \n",
       "2                                             [CEACAM1]   \n",
       "3                                                [DDX4]   \n",
       "4                                                [KLF6]   \n",
       "...                                                 ...   \n",
       "4118  [LBHD1, C19orf53, DHX9, DIABLO, EIF1AD, EIF4G1...   \n",
       "4119  [Abcf1, Cdc37, Diablo, Eif1ad, Eif4g1, Fam32a,...   \n",
       "4120  [ADCK1, AGL, AIMP1, AKAP12, ARPC3, ATP1B3, NA,...   \n",
       "4121  [Aimp1, Atp5f1, Atp5h, Bcat1, Bin1, Kyat3, Cct...   \n",
       "4122  [ASCL1, BOC, CCND2, CD24, CHD7, EGFR, NFIB, SO...   \n",
       "\n",
       "                                                 geneID  \\\n",
       "0                                                 [248]   \n",
       "1                                                [6855]   \n",
       "2                                                 [634]   \n",
       "3                                               [54514]   \n",
       "4                                                [1316]   \n",
       "...                                                 ...   \n",
       "4118  [79081, 28974, 1660, 56616, 84285, 1981, 26017...   \n",
       "4119  [224742, 12539, 66593, 69860, 208643, 67922, 7...   \n",
       "4120  [57143, 178, 9255, 9590, 10094, 483, NA, 586, ...   \n",
       "4121  [13722, 11950, 71679, 12035, 30948, 229905, 12...   \n",
       "4122  [429, 91653, 894, 100133941, 55636, 1956, 4781...   \n",
       "\n",
       "                                            proteinName  \\\n",
       "0                                                  PPBI   \n",
       "1                                                  SYPH   \n",
       "2                                                 CEAM1   \n",
       "3                                                  DDX4   \n",
       "4                                                  KLF6   \n",
       "...                                                 ...   \n",
       "4118  LBHD1, L10K, DHX9, DBLOH, EIF1A, IF4G1, FA32A,...   \n",
       "4119  ABCF1, CDC37, DBLOH, EIF1A, IF4G1, FA32A, KDM5...   \n",
       "4120  ADCK1, GDE, AIMP1, AKA12, ARPC3, AT1B3, AT5F1,...   \n",
       "4121  AIMP1, AT5F1, ATP5H, BCAT1, BIN1, KAT3, TCPE, ...   \n",
       "4122  ASCL1, BOC, CCND2, CD24, CHD7, EGFR, NFIB, SOX...   \n",
       "\n",
       "                                              proteinID  \\\n",
       "0                                                P09923   \n",
       "1                                                P08247   \n",
       "2                                                P13688   \n",
       "3                                                Q9NQI0   \n",
       "4                                                Q99612   \n",
       "...                                                 ...   \n",
       "4118  Q9BQE6, Q9UNZ5, Q08211, Q9NR28, Q8N9N8, Q04637...   \n",
       "4119  Q6P542, Q61081, Q9JIQ3, Q3THJ3, Q6NZJ6, Q9CR80...   \n",
       "4120  Q86TW2, P35573, Q12904, Q02952, O15145, P54709...   \n",
       "4121  P31230, Q9CQQ7, Q9DCX2, P24288, O08539, Q71RI9...   \n",
       "4122  P50553, Q9BWV1, P30279, P25063, Q9P2D1, P00533...   \n",
       "\n",
       "              markerResource      PMID Company  len_cellMarker  \\\n",
       "0                 Experiment   9263997     NaN               1   \n",
       "1                 Experiment  10595912     NaN               1   \n",
       "2                 Experiment  10751340     NaN               1   \n",
       "3                 Experiment  10920202     NaN               1   \n",
       "4                 Experiment  12407152     NaN               1   \n",
       "...                      ...       ...     ...             ...   \n",
       "4118  Single-cell sequencing  23892778     NaN              19   \n",
       "4119  Single-cell sequencing  23892778     NaN              12   \n",
       "4120  Single-cell sequencing  23892778     NaN             112   \n",
       "4121  Single-cell sequencing  23892778     NaN              37   \n",
       "4122  Single-cell sequencing  27806376     NaN              11   \n",
       "\n",
       "      len_geneSymbol  len_geneID  \n",
       "0                  1           1  \n",
       "1                  1           1  \n",
       "2                  1           1  \n",
       "3                  1           1  \n",
       "4                  1           1  \n",
       "...              ...         ...  \n",
       "4118              19          19  \n",
       "4119              12          12  \n",
       "4120             112         112  \n",
       "4121              37          37  \n",
       "4122              11          11  \n",
       "\n",
       "[4073 rows x 18 columns]"
      ]
     },
     "execution_count": 130,
     "metadata": {},
     "output_type": "execute_result"
    }
   ],
   "source": [
    "test"
   ]
  },
  {
   "cell_type": "code",
   "execution_count": null,
   "metadata": {},
   "outputs": [],
   "source": []
  }
 ],
 "metadata": {
  "kernelspec": {
   "display_name": "scripps_microbiome",
   "language": "python",
   "name": "python3"
  },
  "language_info": {
   "codemirror_mode": {
    "name": "ipython",
    "version": 3
   },
   "file_extension": ".py",
   "mimetype": "text/x-python",
   "name": "python",
   "nbconvert_exporter": "python",
   "pygments_lexer": "ipython3",
   "version": "3.8.19"
  }
 },
 "nbformat": 4,
 "nbformat_minor": 2
}

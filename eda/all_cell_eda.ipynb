{
 "cells": [
  {
   "cell_type": "code",
   "execution_count": 457,
   "metadata": {},
   "outputs": [],
   "source": [
    "import pandas as pd\n",
    "import numpy as np"
   ]
  },
  {
   "cell_type": "code",
   "execution_count": 458,
   "metadata": {},
   "outputs": [
    {
     "name": "stderr",
     "output_type": "stream",
     "text": [
      "/opt/anaconda3/envs/scripps_microbiome/lib/python3.8/site-packages/pandas/util/_decorators.py:311: ParserWarning: Falling back to the 'python' engine because the 'c' engine does not support regex separators (separators > 1 char and different from '\\s+' are interpreted as regex); you can avoid this warning by specifying engine='python'.\n",
      "  return func(*args, **kwargs)\n"
     ]
    }
   ],
   "source": [
    "# importing data\n",
    "all_cell_markers_df = pd.read_csv('../data/all_cell_markers.txt', sep = r'\\t')\n",
    "all_human_markers_df = pd.read_csv('../data/Human_cell_markers.txt', sep = r'\\t')\n",
    "all_mouse_markers_df = pd.read_csv('../data/Mouse_cell_markers.txt', sep = r'\\t')\n",
    "all_singleCell_markers_df = pd.read_csv('../data/Single_cell_markers.txt', sep = r'\\t')"
   ]
  },
  {
   "cell_type": "markdown",
   "metadata": {},
   "source": [
    "# Data Schema\n",
    "- **speciesType**: the species from which the data originates\n",
    "    - there are only two data type, either `Human` or `Mouse`\n",
    "- **tissueType**: the type of tissues from which data originates\n",
    "    - in total 181 different kinds of cells\n",
    "    - a lot of them are undefined\n",
    "- **UberonOntologyID**: The universal unique identifier of the anatomy structure found in animals \n",
    "    - needs to confirm with the team\n",
    "    - contain missing value\n",
    "- **cancerType**: the association of the cell marker with the cancer name\n",
    "    - no cancer cell are named as `Normal`\n",
    "- **cellName**: the English name of the cell that marker belong to\n",
    "- **CellOntologyID**: The universal unique identifier of the cell that marker belong to\n",
    "    - contain missing value\n",
    "- **cellMarker**: a marker molecule of the cell\n",
    "    - in string list, can be convert to list\n",
    "- **geneSymbol**: gene expression of the cell marker\n",
    "- **geneID**: The universal unique identifier of the gene\n",
    "    - contain missing value\n",
    "- **proteinName**: name of the protein\n",
    "    - contain missing value\n",
    "- **proteinID**: The universal unique identifier of the protein\n",
    "- **markerResource**: the type of resouce or methologoy used to identify the marker\n",
    "    - there are only four data type, either `Experiment` or `Single-cell sequencing` or `Company` or `Review`\n",
    "- **PMID**: The PudMed ID for the publication or study where the marker data was reported\n",
    "    - abnormal value contain `company`\n",
    "- **Company**: the company associated with the resouces"
   ]
  },
  {
   "cell_type": "markdown",
   "metadata": {},
   "source": [
    "# Exploration on all_cell_markers\n",
    "Notes: all codes a modulerized, which means you can directly jump to a specific section without running previous sections\n",
    "\n",
    "EDA outlines:\n",
    "- Confirming hypothesis: `all_cell_markers` contain all the data from `all_human_markers`, `all_mouse_markers`\n",
    "- Confirming hypothesis: None of the data from `all_singleCell_markers` exist in `all_cell_markers`\n",
    "- Revealing trend: assoication between missing `UberonOntologyID` and `tissueType`\n",
    "- Revealing trend: assoication between missing `CellOntologyID` and `cellName`\n",
    "- Confirming hypothesis: if `geneSymbol` is missing, then `geneID` is not missing\n",
    "- Confirming hypothesis: if `proteinName` is missing, then `proteinID` is not missing\n",
    "- Confirming all the nested list are correspond to each other element"
   ]
  },
  {
   "cell_type": "markdown",
   "metadata": {},
   "source": [
    "## Confirm Hypothesis\n",
    "`all_cell_markers` contain all the data from `all_human_markers`, `all_mouse_markers`"
   ]
  },
  {
   "cell_type": "code",
   "execution_count": 459,
   "metadata": {},
   "outputs": [
    {
     "name": "stdout",
     "output_type": "stream",
     "text": [
      "all value in all_human_marker dataset exist in all_cell_marker dataset\n",
      "all value in all_mouse_markers dataset exist in all_cell_marker dataset\n"
     ]
    }
   ],
   "source": [
    "all_cell_marker_tuple = all_cell_markers_df.apply(tuple, axis=1)\n",
    "all_human_marker_tuple = all_human_markers_df.apply(tuple, axis=1)\n",
    "all_mouse_markers_tuple = all_mouse_markers_df.apply(tuple, axis=1)\n",
    "\n",
    "# check if all value in human_marker exist in cell_marker\n",
    "if all(all_human_marker_tuple.isin(all_cell_marker_tuple)):\n",
    "    print(\"all value in all_human_marker dataset exist in all_cell_marker dataset\")\n",
    "else:\n",
    "    mismatch_value = sum(all_human_marker_tuple.isin(all_cell_marker_tuple) == False)\n",
    "    print(f\"there are {mismatch_value} from all_human_marker that does not exist in all_cell_marker dataset\")\n",
    "\n",
    "# check if all value in mouse_marker exist in cell_marker\n",
    "if all(all_mouse_markers_tuple.isin(all_cell_marker_tuple)):\n",
    "    print(\"all value in all_mouse_markers dataset exist in all_cell_marker dataset\")\n",
    "else:\n",
    "    mismatch_value = sum(all_mouse_markers_tuple.isin(all_cell_marker_tuple) == False)\n",
    "    print(f\"there are {mismatch_value} from all_mouse_markers that does not exist in all_cell_marker dataset\")\n",
    "\n"
   ]
  },
  {
   "cell_type": "markdown",
   "metadata": {},
   "source": [
    "## Confirm Hypothesis\n",
    "None of the data from `all_singleCell_markers` exist in `all_cell_markers`"
   ]
  },
  {
   "cell_type": "code",
   "execution_count": 460,
   "metadata": {},
   "outputs": [
    {
     "name": "stdout",
     "output_type": "stream",
     "text": [
      "there are in total 535 records in all_singleCell_markers\n",
      "there are 535 from all_singleCell_markers that does not exist in all_cell_marker dataset\n"
     ]
    }
   ],
   "source": [
    "all_cell_marker_tuple = all_cell_markers_df.apply(tuple, axis=1)\n",
    "all_singleCell_markers_tuple = all_singleCell_markers_df.apply(tuple, axis=1)\n",
    "\n",
    "# check if all value in singleCell_marker exist in cell_marker\n",
    "if all(all_singleCell_markers_tuple.isin(all_cell_marker_tuple)):\n",
    "    print(\"all value in all_singleCell_markers dataset exist in all_cell_marker dataset\")\n",
    "else:\n",
    "    mismatch_value = sum(all_singleCell_markers_tuple.isin(all_cell_marker_tuple) == False)\n",
    "    print(f'there are in total {mismatch_value} records in all_singleCell_markers')\n",
    "    print(f\"there are {mismatch_value} from all_singleCell_markers that does not exist in all_cell_marker dataset\")"
   ]
  },
  {
   "cell_type": "markdown",
   "metadata": {},
   "source": [
    "## Revealing trend\n",
    "assoication between missing `UberonOntologyID` and `tissueType`\n",
    "\n",
    "most of the tissue with missing ID is undefined tissue"
   ]
  },
  {
   "cell_type": "code",
   "execution_count": 461,
   "metadata": {},
   "outputs": [
    {
     "data": {
      "text/plain": [
       "Undefined                      701\n",
       "Fetal liver                     29\n",
       "Fetal gonad                     26\n",
       "Embryonic prefrontal cortex     12\n",
       "Bladder                          5\n",
       "Sinonasal mucosa                 2\n",
       "Fetal brain                      1\n",
       "Osteoarthritic cartilage         1\n",
       "Name: tissueType, dtype: int64"
      ]
     },
     "execution_count": 461,
     "metadata": {},
     "output_type": "execute_result"
    }
   ],
   "source": [
    "cell_markers_df = pd.concat([all_cell_markers_df, all_singleCell_markers_df], axis = 0, ignore_index=True)\n",
    "cell_markers_df[['UberonOntologyID', 'tissueType']][cell_markers_df['UberonOntologyID'].isna()].tissueType.value_counts()"
   ]
  },
  {
   "cell_type": "markdown",
   "metadata": {},
   "source": [
    "# Revealing trend\n",
    "assoication between missing `CellOntologyID` and `cellName`"
   ]
  },
  {
   "cell_type": "code",
   "execution_count": 462,
   "metadata": {},
   "outputs": [
    {
     "data": {
      "text/plain": [
       "Cancer stem cell                    596\n",
       "Progenitor cell                      53\n",
       "Cancer stem-like cell                 9\n",
       "Neural progenitor cell                8\n",
       "Cardiac progenitor cell               8\n",
       "                                   ... \n",
       "Foxp3+IL-17+ T cell                   1\n",
       "Definitive zone cell                  1\n",
       "Bone marrow stem cell                 1\n",
       "PDX1+ pancreatic progenitor cell      1\n",
       "Adipogenic progenitor cell            1\n",
       "Name: cellName, Length: 142, dtype: int64"
      ]
     },
     "execution_count": 462,
     "metadata": {},
     "output_type": "execute_result"
    }
   ],
   "source": [
    "cell_markers_df = pd.concat([all_cell_markers_df, all_singleCell_markers_df], axis = 0, ignore_index=True)\n",
    "cell_markers_df[['CellOntologyID', 'cellName']][cell_markers_df['CellOntologyID'].isna()].cellName.value_counts()"
   ]
  },
  {
   "cell_type": "markdown",
   "metadata": {},
   "source": [
    "# Confirming hypothesis\n",
    "if `geneSymbol` is missing, then `geneID` is not missing"
   ]
  },
  {
   "cell_type": "code",
   "execution_count": 463,
   "metadata": {},
   "outputs": [
    {
     "name": "stdout",
     "output_type": "stream",
     "text": [
      "if there is a missing proteinSymbol, then there must be missing proteinID\n"
     ]
    }
   ],
   "source": [
    "cell_markers_df = pd.concat([all_cell_markers_df, all_singleCell_markers_df], axis = 0, ignore_index=True)\n",
    "check_same = cell_markers_df[['geneSymbol', 'geneID']].apply(\n",
    "    lambda row: all(row.isna()) or all(~row.isna()), axis = 1 \n",
    ")\n",
    "if all(check_same):\n",
    "    print('if there is a missing proteinSymbol, then there must be missing proteinID')\n",
    "else:\n",
    "    print('if there is a missing symbol then there might exist a ID')"
   ]
  },
  {
   "cell_type": "markdown",
   "metadata": {},
   "source": [
    "# Confirming hypothesis\n",
    "if `proteinName` is missing, then `proteinID` is not missing"
   ]
  },
  {
   "cell_type": "code",
   "execution_count": 464,
   "metadata": {},
   "outputs": [
    {
     "name": "stdout",
     "output_type": "stream",
     "text": [
      "if there is a missing proteinSymbol, then there must be missing proteinID\n"
     ]
    }
   ],
   "source": [
    "cell_markers_df = pd.concat([all_cell_markers_df, all_singleCell_markers_df], axis = 0, ignore_index=True)\n",
    "check_same = cell_markers_df[['proteinName', 'proteinID']].apply(\n",
    "    lambda row: all(row.isna()) or all(~row.isna()), axis = 1 \n",
    ")\n",
    "if all(check_same):\n",
    "    print('if there is a missing proteinSymbol, then there must be missing proteinID')\n",
    "else:\n",
    "    print('if there is a missing symbol then there might exist a ID')"
   ]
  },
  {
   "cell_type": "markdown",
   "metadata": {},
   "source": [
    "## Confirming hypothesis\n",
    "each existed cellMarkers have a gene name assoicated it"
   ]
  },
  {
   "cell_type": "code",
   "execution_count": 499,
   "metadata": {},
   "outputs": [
    {
     "name": "stdout",
     "output_type": "stream",
     "text": [
      "some gene has mis-match sequence\n",
      "for these following index: Int64Index([  64,   65,   66,  101,  214,  332,  412,  483,  490,  498,  524,\n",
      "             525,  579,  672,  688,  689,  725,  727,  795,  815,  868,  872,\n",
      "             922,  945, 1042, 1045, 1070, 1086, 1215, 1260, 1366, 1394, 1496,\n",
      "            1524, 1525, 1779, 1850, 1854, 1856, 1883, 1993, 2187, 2253, 2254,\n",
      "            2255, 2256, 2381, 2458, 2523, 2537, 2753, 3135, 3151, 3226, 3227,\n",
      "            3228, 3243, 3350, 3557, 3558, 3632, 3710, 3733, 3741, 3844, 3908,\n",
      "            3918, 3932, 3973, 3977, 3983, 4005, 4099, 4167, 4245, 4268, 4276,\n",
      "            4379, 4443, 4453, 4467, 4508, 4512, 4518, 4540, 4634],\n",
      "           dtype='int64')\n"
     ]
    }
   ],
   "source": [
    "cell_markers_df = pd.concat([all_cell_markers_df, all_singleCell_markers_df], axis = 0, ignore_index=True)\n",
    "def str_to_list(listLikeStr):\n",
    "    if not isinstance(listLikeStr, str): return np.NaN\n",
    "    cleaned_listLikeStr = listLikeStr.replace(\"'\", \"\")\n",
    "\n",
    "    split_element = cleaned_listLikeStr.split(',')\n",
    "\n",
    "    is_nested = False\n",
    "    result = []\n",
    "    nested_list = []\n",
    "    for element in split_element:\n",
    "        if is_nested:\n",
    "            if \"]\" in element:\n",
    "                is_nested = False\n",
    "                nested_list.append(element.replace(']', \"\").strip())\n",
    "                result.append(nested_list)\n",
    "                nested_list = []\n",
    "            else:\n",
    "                if element.strip():\n",
    "                    nested_list.append(element.strip())\n",
    "        else:\n",
    "            if \"[\" in element:\n",
    "                is_nested = True\n",
    "                nested_list.append(element.replace('[', \"\").strip())\n",
    "            else:\n",
    "                if element.strip():\n",
    "                    result.append(element.strip())\n",
    "\n",
    "    return result\n",
    "        \n",
    "\n",
    "to_convert_col  = ['cellMarker', 'geneSymbol', 'geneID', 'proteinName', 'proteinID']\n",
    "for col in to_convert_col:\n",
    "    cell_markers_df[col] = cell_markers_df[col].apply(str_to_list)\n",
    "\n",
    "len_count = cell_markers_df[to_convert_col].applymap(lambda x : len(x) if isinstance(x, list) else 0)\n",
    "\n",
    "\n",
    "if cell_markers_df[to_convert_col].applymap(lambda x: len(x) if isinstance(x, list) else np.NaN).dropna().shape[0] == 0:\n",
    "    print(\"each existed cellMarkers have a gene name assoicated it\")\n",
    "else:\n",
    "    print('some gene has mis-match sequence')\n",
    "    mistamch_index = len_count[len_count.nunique(axis = 1) != 1].index\n",
    "    print(f\"for these following index: {mistamch_index}\")"
   ]
  },
  {
   "cell_type": "markdown",
   "metadata": {},
   "source": [
    "# Parsing procedure\n",
    "\n",
    "Data Parsing Outlines\n",
    "- concat `all_cell_markers` and `all_singleCell_markers`\n",
    "- replace all the `undefined` tissue to NaN value\n",
    "- convert all the strLikelist into list"
   ]
  },
  {
   "cell_type": "code",
   "execution_count": 504,
   "metadata": {},
   "outputs": [
    {
     "name": "stderr",
     "output_type": "stream",
     "text": [
      "/opt/anaconda3/envs/scripps_microbiome/lib/python3.8/site-packages/pandas/util/_decorators.py:311: ParserWarning: Falling back to the 'python' engine because the 'c' engine does not support regex separators (separators > 1 char and different from '\\s+' are interpreted as regex); you can avoid this warning by specifying engine='python'.\n",
      "  return func(*args, **kwargs)\n"
     ]
    }
   ],
   "source": [
    "# import data\n",
    "all_cell_markers_df = pd.read_csv('../data/all_cell_markers.txt', sep = r'\\t')\n",
    "all_human_markers_df = pd.read_csv('../data/Human_cell_markers.txt', sep = r'\\t')\n",
    "all_mouse_markers_df = pd.read_csv('../data/Mouse_cell_markers.txt', sep = r'\\t')\n",
    "all_singleCell_markers_df = pd.read_csv('../data/Single_cell_markers.txt', sep = r'\\t')"
   ]
  },
  {
   "cell_type": "code",
   "execution_count": 505,
   "metadata": {},
   "outputs": [],
   "source": [
    "def str_to_list(listLikeStr):\n",
    "    if not isinstance(listLikeStr, str): return np.NaN\n",
    "    cleaned_listLikeStr = listLikeStr.replace(\"'\", \"\")\n",
    "\n",
    "    split_element = cleaned_listLikeStr.split(',')\n",
    "\n",
    "    is_nested = False\n",
    "    result = []\n",
    "    nested_list = []\n",
    "    for element in split_element:\n",
    "        if is_nested:\n",
    "            if \"]\" in element:\n",
    "                is_nested = False\n",
    "                nested_list.append(element.replace(']', \"\").strip())\n",
    "                result.append(nested_list)\n",
    "                nested_list = []\n",
    "            else:\n",
    "                if element.strip():\n",
    "                    nested_list.append(element.strip())\n",
    "        else:\n",
    "            if \"[\" in element:\n",
    "                is_nested = True\n",
    "                nested_list.append(element.replace('[', \"\").strip())\n",
    "            else:\n",
    "                if element.strip():\n",
    "                    result.append(element.strip())\n",
    "\n",
    "    return result"
   ]
  },
  {
   "cell_type": "code",
   "execution_count": 506,
   "metadata": {},
   "outputs": [],
   "source": [
    "# concat all_cell_markers and all_singleCell_markers\n",
    "cell_markers_df = pd.concat([all_cell_markers_df, all_singleCell_markers_df], axis = 0, ignore_index=True)\n",
    "\n",
    "# change all the Undefined value in tissueType column to NaN\n",
    "cell_markers_df['tissueType'] = cell_markers_df['tissueType'].replace('Undefined', np.NaN)\n",
    "\n",
    "# convert specific columns into list\n",
    "to_convert_col  = ['cellMarker', 'geneSymbol', 'geneID', 'proteinName', 'proteinID']\n",
    "for col in to_convert_col:\n",
    "    cell_markers_df[col] = cell_markers_df[col].apply(str_to_list)"
   ]
  },
  {
   "cell_type": "code",
   "execution_count": 507,
   "metadata": {},
   "outputs": [
    {
     "data": {
      "text/html": [
       "<div>\n",
       "<style scoped>\n",
       "    .dataframe tbody tr th:only-of-type {\n",
       "        vertical-align: middle;\n",
       "    }\n",
       "\n",
       "    .dataframe tbody tr th {\n",
       "        vertical-align: top;\n",
       "    }\n",
       "\n",
       "    .dataframe thead th {\n",
       "        text-align: right;\n",
       "    }\n",
       "</style>\n",
       "<table border=\"1\" class=\"dataframe\">\n",
       "  <thead>\n",
       "    <tr style=\"text-align: right;\">\n",
       "      <th></th>\n",
       "      <th>speciesType</th>\n",
       "      <th>tissueType</th>\n",
       "      <th>UberonOntologyID</th>\n",
       "      <th>cancerType</th>\n",
       "      <th>cellType</th>\n",
       "      <th>cellName</th>\n",
       "      <th>CellOntologyID</th>\n",
       "      <th>cellMarker</th>\n",
       "      <th>geneSymbol</th>\n",
       "      <th>geneID</th>\n",
       "      <th>proteinName</th>\n",
       "      <th>proteinID</th>\n",
       "      <th>markerResource</th>\n",
       "      <th>PMID</th>\n",
       "      <th>Company</th>\n",
       "    </tr>\n",
       "  </thead>\n",
       "  <tbody>\n",
       "    <tr>\n",
       "      <th>0</th>\n",
       "      <td>Human</td>\n",
       "      <td>Kidney</td>\n",
       "      <td>UBERON_0002113</td>\n",
       "      <td>Normal</td>\n",
       "      <td>Normal cell</td>\n",
       "      <td>Proximal tubular cell</td>\n",
       "      <td>NaN</td>\n",
       "      <td>[Intestinal Alkaline Phosphatase]</td>\n",
       "      <td>[ALPI]</td>\n",
       "      <td>[248]</td>\n",
       "      <td>[PPBI]</td>\n",
       "      <td>[P09923]</td>\n",
       "      <td>Experiment</td>\n",
       "      <td>9263997</td>\n",
       "      <td>NaN</td>\n",
       "    </tr>\n",
       "    <tr>\n",
       "      <th>1</th>\n",
       "      <td>Human</td>\n",
       "      <td>Liver</td>\n",
       "      <td>UBERON_0002107</td>\n",
       "      <td>Normal</td>\n",
       "      <td>Normal cell</td>\n",
       "      <td>Ito cell (hepatic stellate cell)</td>\n",
       "      <td>CL_0000632</td>\n",
       "      <td>[Synaptophysin]</td>\n",
       "      <td>[SYP]</td>\n",
       "      <td>[6855]</td>\n",
       "      <td>[SYPH]</td>\n",
       "      <td>[P08247]</td>\n",
       "      <td>Experiment</td>\n",
       "      <td>10595912</td>\n",
       "      <td>NaN</td>\n",
       "    </tr>\n",
       "    <tr>\n",
       "      <th>2</th>\n",
       "      <td>Human</td>\n",
       "      <td>Endometrium</td>\n",
       "      <td>UBERON_0001295</td>\n",
       "      <td>Normal</td>\n",
       "      <td>Normal cell</td>\n",
       "      <td>Trophoblast cell</td>\n",
       "      <td>CL_0000351</td>\n",
       "      <td>[CEACAM1]</td>\n",
       "      <td>[CEACAM1]</td>\n",
       "      <td>[634]</td>\n",
       "      <td>[CEAM1]</td>\n",
       "      <td>[P13688]</td>\n",
       "      <td>Experiment</td>\n",
       "      <td>10751340</td>\n",
       "      <td>NaN</td>\n",
       "    </tr>\n",
       "    <tr>\n",
       "      <th>3</th>\n",
       "      <td>Human</td>\n",
       "      <td>Germ</td>\n",
       "      <td>UBERON_0000923</td>\n",
       "      <td>Normal</td>\n",
       "      <td>Normal cell</td>\n",
       "      <td>Primordial germ cell</td>\n",
       "      <td>CL_0000670</td>\n",
       "      <td>[VASA]</td>\n",
       "      <td>[DDX4]</td>\n",
       "      <td>[54514]</td>\n",
       "      <td>[DDX4]</td>\n",
       "      <td>[Q9NQI0]</td>\n",
       "      <td>Experiment</td>\n",
       "      <td>10920202</td>\n",
       "      <td>NaN</td>\n",
       "    </tr>\n",
       "    <tr>\n",
       "      <th>4</th>\n",
       "      <td>Human</td>\n",
       "      <td>Corneal epithelium</td>\n",
       "      <td>UBERON_0001772</td>\n",
       "      <td>Normal</td>\n",
       "      <td>Normal cell</td>\n",
       "      <td>Epithelial cell</td>\n",
       "      <td>CL_0000066</td>\n",
       "      <td>[KLF6]</td>\n",
       "      <td>[KLF6]</td>\n",
       "      <td>[1316]</td>\n",
       "      <td>[KLF6]</td>\n",
       "      <td>[Q99612]</td>\n",
       "      <td>Experiment</td>\n",
       "      <td>12407152</td>\n",
       "      <td>NaN</td>\n",
       "    </tr>\n",
       "    <tr>\n",
       "      <th>...</th>\n",
       "      <td>...</td>\n",
       "      <td>...</td>\n",
       "      <td>...</td>\n",
       "      <td>...</td>\n",
       "      <td>...</td>\n",
       "      <td>...</td>\n",
       "      <td>...</td>\n",
       "      <td>...</td>\n",
       "      <td>...</td>\n",
       "      <td>...</td>\n",
       "      <td>...</td>\n",
       "      <td>...</td>\n",
       "      <td>...</td>\n",
       "      <td>...</td>\n",
       "      <td>...</td>\n",
       "    </tr>\n",
       "    <tr>\n",
       "      <th>4653</th>\n",
       "      <td>Human</td>\n",
       "      <td>Embryo</td>\n",
       "      <td>UBERON_0000922</td>\n",
       "      <td>Normal</td>\n",
       "      <td>Normal cell</td>\n",
       "      <td>8-cell stage cell (Blastomere)</td>\n",
       "      <td>CL_0000353</td>\n",
       "      <td>[C11orf48, C19orf53, DHX9, DIABLO, EIF1AD, EIF...</td>\n",
       "      <td>[LBHD1, C19orf53, DHX9, DIABLO, EIF1AD, EIF4G1...</td>\n",
       "      <td>[79081, 28974, 1660, 56616, 84285, 1981, 26017...</td>\n",
       "      <td>[LBHD1, L10K, DHX9, DBLOH, EIF1A, IF4G1, FA32A...</td>\n",
       "      <td>[Q9BQE6, Q9UNZ5, Q08211, Q9NR28, Q8N9N8, Q0463...</td>\n",
       "      <td>Single-cell sequencing</td>\n",
       "      <td>23892778</td>\n",
       "      <td>NaN</td>\n",
       "    </tr>\n",
       "    <tr>\n",
       "      <th>4654</th>\n",
       "      <td>Mouse</td>\n",
       "      <td>Embryo</td>\n",
       "      <td>UBERON_0000922</td>\n",
       "      <td>Normal</td>\n",
       "      <td>Normal cell</td>\n",
       "      <td>8-cell stage cell (Blastomere)</td>\n",
       "      <td>CL_0000353</td>\n",
       "      <td>[Abcf1, Cdc37, Diablo, Eif1ad, Eif4g1, Fam32a,...</td>\n",
       "      <td>[Abcf1, Cdc37, Diablo, Eif1ad, Eif4g1, Fam32a,...</td>\n",
       "      <td>[224742, 12539, 66593, 69860, 208643, 67922, 7...</td>\n",
       "      <td>[ABCF1, CDC37, DBLOH, EIF1A, IF4G1, FA32A, KDM...</td>\n",
       "      <td>[Q6P542, Q61081, Q9JIQ3, Q3THJ3, Q6NZJ6, Q9CR8...</td>\n",
       "      <td>Single-cell sequencing</td>\n",
       "      <td>23892778</td>\n",
       "      <td>NaN</td>\n",
       "    </tr>\n",
       "    <tr>\n",
       "      <th>4655</th>\n",
       "      <td>Human</td>\n",
       "      <td>Embryo</td>\n",
       "      <td>UBERON_0000922</td>\n",
       "      <td>Normal</td>\n",
       "      <td>Normal cell</td>\n",
       "      <td>Morula cell (Blastomere)</td>\n",
       "      <td>CL_0000360</td>\n",
       "      <td>[ADCK1, AGL, AIMP1, AKAP12, ARPC3, ATP1B3, ATP...</td>\n",
       "      <td>[ADCK1, AGL, AIMP1, AKAP12, ARPC3, ATP1B3, NA,...</td>\n",
       "      <td>[57143, 178, 9255, 9590, 10094, 483, NA, 586, ...</td>\n",
       "      <td>[ADCK1, GDE, AIMP1, AKA12, ARPC3, AT1B3, AT5F1...</td>\n",
       "      <td>[Q86TW2, P35573, Q12904, Q02952, O15145, P5470...</td>\n",
       "      <td>Single-cell sequencing</td>\n",
       "      <td>23892778</td>\n",
       "      <td>NaN</td>\n",
       "    </tr>\n",
       "    <tr>\n",
       "      <th>4656</th>\n",
       "      <td>Mouse</td>\n",
       "      <td>Embryo</td>\n",
       "      <td>UBERON_0000922</td>\n",
       "      <td>Normal</td>\n",
       "      <td>Normal cell</td>\n",
       "      <td>Morula cell (Blastomere)</td>\n",
       "      <td>CL_0000360</td>\n",
       "      <td>[Aimp1, Atp5f1, Atp5h, Bcat1, Bin1, Ccbl2, Cct...</td>\n",
       "      <td>[Aimp1, Atp5f1, Atp5h, Bcat1, Bin1, Kyat3, Cct...</td>\n",
       "      <td>[13722, 11950, 71679, 12035, 30948, 229905, 12...</td>\n",
       "      <td>[AIMP1, AT5F1, ATP5H, BCAT1, BIN1, KAT3, TCPE,...</td>\n",
       "      <td>[P31230, Q9CQQ7, Q9DCX2, P24288, O08539, Q71RI...</td>\n",
       "      <td>Single-cell sequencing</td>\n",
       "      <td>23892778</td>\n",
       "      <td>NaN</td>\n",
       "    </tr>\n",
       "    <tr>\n",
       "      <th>4657</th>\n",
       "      <td>Human</td>\n",
       "      <td>Brain</td>\n",
       "      <td>UBERON_0000955</td>\n",
       "      <td>oligodendroglioma</td>\n",
       "      <td>Cancer cell</td>\n",
       "      <td>Cancer stem cell</td>\n",
       "      <td>NaN</td>\n",
       "      <td>[ASCL1, BOC, CCND2, CD24, CHD7, EGFR, NFIB, SO...</td>\n",
       "      <td>[ASCL1, BOC, CCND2, CD24, CHD7, EGFR, NFIB, SO...</td>\n",
       "      <td>[429, 91653, 894, 100133941, 55636, 1956, 4781...</td>\n",
       "      <td>[ASCL1, BOC, CCND2, CD24, CHD7, EGFR, NFIB, SO...</td>\n",
       "      <td>[P50553, Q9BWV1, P30279, P25063, Q9P2D1, P0053...</td>\n",
       "      <td>Single-cell sequencing</td>\n",
       "      <td>27806376</td>\n",
       "      <td>NaN</td>\n",
       "    </tr>\n",
       "  </tbody>\n",
       "</table>\n",
       "<p>4658 rows × 15 columns</p>\n",
       "</div>"
      ],
      "text/plain": [
       "     speciesType          tissueType UberonOntologyID         cancerType  \\\n",
       "0          Human              Kidney   UBERON_0002113             Normal   \n",
       "1          Human               Liver   UBERON_0002107             Normal   \n",
       "2          Human         Endometrium   UBERON_0001295             Normal   \n",
       "3          Human                Germ   UBERON_0000923             Normal   \n",
       "4          Human  Corneal epithelium   UBERON_0001772             Normal   \n",
       "...          ...                 ...              ...                ...   \n",
       "4653       Human              Embryo   UBERON_0000922             Normal   \n",
       "4654       Mouse              Embryo   UBERON_0000922             Normal   \n",
       "4655       Human              Embryo   UBERON_0000922             Normal   \n",
       "4656       Mouse              Embryo   UBERON_0000922             Normal   \n",
       "4657       Human               Brain   UBERON_0000955  oligodendroglioma   \n",
       "\n",
       "         cellType                          cellName CellOntologyID  \\\n",
       "0     Normal cell             Proximal tubular cell            NaN   \n",
       "1     Normal cell  Ito cell (hepatic stellate cell)     CL_0000632   \n",
       "2     Normal cell                  Trophoblast cell     CL_0000351   \n",
       "3     Normal cell              Primordial germ cell     CL_0000670   \n",
       "4     Normal cell                   Epithelial cell     CL_0000066   \n",
       "...           ...                               ...            ...   \n",
       "4653  Normal cell    8-cell stage cell (Blastomere)     CL_0000353   \n",
       "4654  Normal cell    8-cell stage cell (Blastomere)     CL_0000353   \n",
       "4655  Normal cell          Morula cell (Blastomere)     CL_0000360   \n",
       "4656  Normal cell          Morula cell (Blastomere)     CL_0000360   \n",
       "4657  Cancer cell                  Cancer stem cell            NaN   \n",
       "\n",
       "                                             cellMarker  \\\n",
       "0                     [Intestinal Alkaline Phosphatase]   \n",
       "1                                       [Synaptophysin]   \n",
       "2                                             [CEACAM1]   \n",
       "3                                                [VASA]   \n",
       "4                                                [KLF6]   \n",
       "...                                                 ...   \n",
       "4653  [C11orf48, C19orf53, DHX9, DIABLO, EIF1AD, EIF...   \n",
       "4654  [Abcf1, Cdc37, Diablo, Eif1ad, Eif4g1, Fam32a,...   \n",
       "4655  [ADCK1, AGL, AIMP1, AKAP12, ARPC3, ATP1B3, ATP...   \n",
       "4656  [Aimp1, Atp5f1, Atp5h, Bcat1, Bin1, Ccbl2, Cct...   \n",
       "4657  [ASCL1, BOC, CCND2, CD24, CHD7, EGFR, NFIB, SO...   \n",
       "\n",
       "                                             geneSymbol  \\\n",
       "0                                                [ALPI]   \n",
       "1                                                 [SYP]   \n",
       "2                                             [CEACAM1]   \n",
       "3                                                [DDX4]   \n",
       "4                                                [KLF6]   \n",
       "...                                                 ...   \n",
       "4653  [LBHD1, C19orf53, DHX9, DIABLO, EIF1AD, EIF4G1...   \n",
       "4654  [Abcf1, Cdc37, Diablo, Eif1ad, Eif4g1, Fam32a,...   \n",
       "4655  [ADCK1, AGL, AIMP1, AKAP12, ARPC3, ATP1B3, NA,...   \n",
       "4656  [Aimp1, Atp5f1, Atp5h, Bcat1, Bin1, Kyat3, Cct...   \n",
       "4657  [ASCL1, BOC, CCND2, CD24, CHD7, EGFR, NFIB, SO...   \n",
       "\n",
       "                                                 geneID  \\\n",
       "0                                                 [248]   \n",
       "1                                                [6855]   \n",
       "2                                                 [634]   \n",
       "3                                               [54514]   \n",
       "4                                                [1316]   \n",
       "...                                                 ...   \n",
       "4653  [79081, 28974, 1660, 56616, 84285, 1981, 26017...   \n",
       "4654  [224742, 12539, 66593, 69860, 208643, 67922, 7...   \n",
       "4655  [57143, 178, 9255, 9590, 10094, 483, NA, 586, ...   \n",
       "4656  [13722, 11950, 71679, 12035, 30948, 229905, 12...   \n",
       "4657  [429, 91653, 894, 100133941, 55636, 1956, 4781...   \n",
       "\n",
       "                                            proteinName  \\\n",
       "0                                                [PPBI]   \n",
       "1                                                [SYPH]   \n",
       "2                                               [CEAM1]   \n",
       "3                                                [DDX4]   \n",
       "4                                                [KLF6]   \n",
       "...                                                 ...   \n",
       "4653  [LBHD1, L10K, DHX9, DBLOH, EIF1A, IF4G1, FA32A...   \n",
       "4654  [ABCF1, CDC37, DBLOH, EIF1A, IF4G1, FA32A, KDM...   \n",
       "4655  [ADCK1, GDE, AIMP1, AKA12, ARPC3, AT1B3, AT5F1...   \n",
       "4656  [AIMP1, AT5F1, ATP5H, BCAT1, BIN1, KAT3, TCPE,...   \n",
       "4657  [ASCL1, BOC, CCND2, CD24, CHD7, EGFR, NFIB, SO...   \n",
       "\n",
       "                                              proteinID  \\\n",
       "0                                              [P09923]   \n",
       "1                                              [P08247]   \n",
       "2                                              [P13688]   \n",
       "3                                              [Q9NQI0]   \n",
       "4                                              [Q99612]   \n",
       "...                                                 ...   \n",
       "4653  [Q9BQE6, Q9UNZ5, Q08211, Q9NR28, Q8N9N8, Q0463...   \n",
       "4654  [Q6P542, Q61081, Q9JIQ3, Q3THJ3, Q6NZJ6, Q9CR8...   \n",
       "4655  [Q86TW2, P35573, Q12904, Q02952, O15145, P5470...   \n",
       "4656  [P31230, Q9CQQ7, Q9DCX2, P24288, O08539, Q71RI...   \n",
       "4657  [P50553, Q9BWV1, P30279, P25063, Q9P2D1, P0053...   \n",
       "\n",
       "              markerResource      PMID Company  \n",
       "0                 Experiment   9263997     NaN  \n",
       "1                 Experiment  10595912     NaN  \n",
       "2                 Experiment  10751340     NaN  \n",
       "3                 Experiment  10920202     NaN  \n",
       "4                 Experiment  12407152     NaN  \n",
       "...                      ...       ...     ...  \n",
       "4653  Single-cell sequencing  23892778     NaN  \n",
       "4654  Single-cell sequencing  23892778     NaN  \n",
       "4655  Single-cell sequencing  23892778     NaN  \n",
       "4656  Single-cell sequencing  23892778     NaN  \n",
       "4657  Single-cell sequencing  27806376     NaN  \n",
       "\n",
       "[4658 rows x 15 columns]"
      ]
     },
     "execution_count": 507,
     "metadata": {},
     "output_type": "execute_result"
    }
   ],
   "source": [
    "cell_markers_df"
   ]
  },
  {
   "cell_type": "code",
   "execution_count": null,
   "metadata": {},
   "outputs": [],
   "source": []
  },
  {
   "cell_type": "markdown",
   "metadata": {},
   "source": [
    "## Data distribition"
   ]
  },
  {
   "cell_type": "code",
   "execution_count": 473,
   "metadata": {},
   "outputs": [
    {
     "data": {
      "text/plain": [
       "Human    2868\n",
       "Mouse    1255\n",
       "Name: speciesType, dtype: int64"
      ]
     },
     "execution_count": 473,
     "metadata": {},
     "output_type": "execute_result"
    }
   ],
   "source": [
    "all_cell_markers_df.speciesType.value_counts()"
   ]
  },
  {
   "cell_type": "code",
   "execution_count": 474,
   "metadata": {},
   "outputs": [
    {
     "data": {
      "text/plain": [
       "Undefined           695\n",
       "Brain               254\n",
       "Bone marrow         254\n",
       "Lung                249\n",
       "Liver               240\n",
       "                   ... \n",
       "Fetal brain           1\n",
       "Vocal fold            1\n",
       "Nerve                 1\n",
       "Primitive streak      1\n",
       "Premolar              1\n",
       "Name: tissueType, Length: 181, dtype: int64"
      ]
     },
     "execution_count": 474,
     "metadata": {},
     "output_type": "execute_result"
    }
   ],
   "source": [
    "all_cell_markers_df.tissueType.value_counts()"
   ]
  },
  {
   "cell_type": "code",
   "execution_count": 475,
   "metadata": {},
   "outputs": [
    {
     "data": {
      "text/plain": [
       "UBERON_0000955    254\n",
       "UBERON_0002371    254\n",
       "UBERON_0002048    249\n",
       "UBERON_0002107    240\n",
       "UBERON_0005408    215\n",
       "                 ... \n",
       "UBERON_0003215      1\n",
       "UBERON_0006530      1\n",
       "UBERON_0001052      1\n",
       "UBERON_0003922      1\n",
       "UBERON_0005384      1\n",
       "Name: UberonOntologyID, Length: 172, dtype: int64"
      ]
     },
     "execution_count": 475,
     "metadata": {},
     "output_type": "execute_result"
    }
   ],
   "source": [
    "all_cell_markers_df.UberonOntologyID.value_counts()"
   ]
  },
  {
   "cell_type": "code",
   "execution_count": 476,
   "metadata": {},
   "outputs": [
    {
     "data": {
      "text/plain": [
       "Normal                                      3315\n",
       "Breast Cancer                                100\n",
       "Colorectum Cancer                             36\n",
       "Prostate Cancer                               35\n",
       "Colon Cancer                                  34\n",
       "                                            ... \n",
       "Non-Hodgkin's Lymphoma                         1\n",
       "Non-small Cell Lung Cancer (circulating)       1\n",
       "Gonadoblastoma                                 1\n",
       "Vascular Tumour                                1\n",
       "oligodendroglioma                              1\n",
       "Name: cancerType, Length: 133, dtype: int64"
      ]
     },
     "execution_count": 476,
     "metadata": {},
     "output_type": "execute_result"
    }
   ],
   "source": [
    "all_cell_markers_df.cancerType.value_counts()"
   ]
  },
  {
   "cell_type": "code",
   "execution_count": 477,
   "metadata": {},
   "outputs": [
    {
     "data": {
      "text/plain": [
       "Normal cell    3315\n",
       "Cancer cell     808\n",
       "Name: cellType, dtype: int64"
      ]
     },
     "execution_count": 477,
     "metadata": {},
     "output_type": "execute_result"
    }
   ],
   "source": [
    "all_cell_markers_df.cellType.value_counts()"
   ]
  },
  {
   "cell_type": "code",
   "execution_count": 478,
   "metadata": {},
   "outputs": [
    {
     "data": {
      "text/plain": [
       "Cancer stem cell                                             593\n",
       "Stem cell                                                    186\n",
       "Endothelial cell                                             157\n",
       "Macrophage                                                   139\n",
       "Mesenchymal stem cell                                        137\n",
       "                                                            ... \n",
       "Neuron-restricted precursor                                    1\n",
       "Limbal mesenchymal cell                                        1\n",
       "Quiescent small intestinal stem cell                           1\n",
       "Adipose multilineage-differentiating stress-enduring cell      1\n",
       "CD4+ T follicular helper cell                                  1\n",
       "Name: cellName, Length: 681, dtype: int64"
      ]
     },
     "execution_count": 478,
     "metadata": {},
     "output_type": "execute_result"
    }
   ],
   "source": [
    "all_cell_markers_df.cellName.value_counts()"
   ]
  },
  {
   "cell_type": "code",
   "execution_count": 479,
   "metadata": {},
   "outputs": [
    {
     "data": {
      "text/plain": [
       "CL_0000034    308\n",
       "CL_0000134    181\n",
       "CL_0000115    168\n",
       "CL_0000235    141\n",
       "CL_0000084    132\n",
       "             ... \n",
       "CL_0000166      1\n",
       "CL_0008020      1\n",
       "CL_0000058      1\n",
       "CL_0000210      1\n",
       "CL_0000850      1\n",
       "Name: CellOntologyID, Length: 281, dtype: int64"
      ]
     },
     "execution_count": 479,
     "metadata": {},
     "output_type": "execute_result"
    }
   ],
   "source": [
    "all_cell_markers_df.CellOntologyID.value_counts()"
   ]
  },
  {
   "cell_type": "code",
   "execution_count": 480,
   "metadata": {},
   "outputs": [
    {
     "data": {
      "text/plain": [
       "CD133                                                                 109\n",
       "CD44                                                                   58\n",
       "CD31                                                                   50\n",
       "CD68                                                                   47\n",
       "CD3                                                                    39\n",
       "                                                                     ... \n",
       "BDCA1, CD11c                                                            1\n",
       "BDCA2, CD123                                                            1\n",
       "CLEC9A                                                                  1\n",
       "TAGLN2                                                                  1\n",
       "ASCL1, BOC, CCND2, CD24, CHD7, EGFR, NFIB, SOX11, SOX2, SOX4, TCF4      1\n",
       "Name: cellMarker, Length: 2517, dtype: int64"
      ]
     },
     "execution_count": 480,
     "metadata": {},
     "output_type": "execute_result"
    }
   ],
   "source": [
    "all_cell_markers_df.cellMarker.value_counts()"
   ]
  },
  {
   "cell_type": "code",
   "execution_count": 481,
   "metadata": {},
   "outputs": [
    {
     "data": {
      "text/plain": [
       "PROM1                                                                 109\n",
       "CD44                                                                   54\n",
       "PECAM1                                                                 45\n",
       "CD68                                                                   39\n",
       "CD34                                                                   30\n",
       "                                                                     ... \n",
       "KRT18, KRT19                                                            1\n",
       "LIN28A                                                                  1\n",
       "PROM1, NCAM1                                                            1\n",
       "CLEC4F, VSIG4                                                           1\n",
       "ASCL1, BOC, CCND2, CD24, CHD7, EGFR, NFIB, SOX11, SOX2, SOX4, TCF4      1\n",
       "Name: geneSymbol, Length: 2485, dtype: int64"
      ]
     },
     "execution_count": 481,
     "metadata": {},
     "output_type": "execute_result"
    }
   ],
   "source": [
    "all_cell_markers_df.geneSymbol.value_counts()"
   ]
  },
  {
   "cell_type": "code",
   "execution_count": 482,
   "metadata": {},
   "outputs": [
    {
     "data": {
      "text/plain": [
       "8842                                                                     109\n",
       "960                                                                       54\n",
       "5175                                                                      45\n",
       "968                                                                       39\n",
       "947                                                                       30\n",
       "                                                                        ... \n",
       "8842, 4684                                                                 1\n",
       "165530, 11326                                                              1\n",
       "59, 2670                                                                   1\n",
       "Albumin family, 4311, 3875, 3856                                           1\n",
       "429, 91653, 894, 100133941, 55636, 1956, 4781, 6664, 6657, 6659, 6925      1\n",
       "Name: geneID, Length: 2487, dtype: int64"
      ]
     },
     "execution_count": 482,
     "metadata": {},
     "output_type": "execute_result"
    }
   ],
   "source": [
    "all_cell_markers_df.geneID.value_counts()"
   ]
  },
  {
   "cell_type": "code",
   "execution_count": 483,
   "metadata": {},
   "outputs": [
    {
     "data": {
      "text/plain": [
       "PROM1                                                                 115\n",
       "CD44                                                                   61\n",
       "PECA1                                                                  57\n",
       "CD68                                                                   47\n",
       "[CD3D, CD3E, CD3G]                                                     39\n",
       "                                                                     ... \n",
       "Albumin family, NEP, K1C18, K2C8                                        1\n",
       "Albumin family, K2C8                                                    1\n",
       "Albumin family, K1C18                                                   1\n",
       "FETA, FBF1, HNF4A                                                       1\n",
       "ASCL1, BOC, CCND2, CD24, CHD7, EGFR, NFIB, SOX11, SOX2, SOX4, ITF2      1\n",
       "Name: proteinName, Length: 2350, dtype: int64"
      ]
     },
     "execution_count": 483,
     "metadata": {},
     "output_type": "execute_result"
    }
   ],
   "source": [
    "all_cell_markers_df.proteinName.value_counts()"
   ]
  },
  {
   "cell_type": "code",
   "execution_count": 484,
   "metadata": {},
   "outputs": [
    {
     "data": {
      "text/plain": [
       "O43490                                                                                    109\n",
       "P16070                                                                                     54\n",
       "P16284                                                                                     45\n",
       "P34810                                                                                     39\n",
       "P28906                                                                                     30\n",
       "                                                                                         ... \n",
       "Q8N1N0, Q9Y279                                                                              1\n",
       "P62736, P14136                                                                              1\n",
       "Albumin family, P08473, P05783, P05787                                                      1\n",
       "Albumin family, P05787                                                                      1\n",
       "P50553, Q9BWV1, P30279, P25063, Q9P2D1, P00533, O00712, P35716, P48431, Q06945, P15884      1\n",
       "Name: proteinID, Length: 2481, dtype: int64"
      ]
     },
     "execution_count": 484,
     "metadata": {},
     "output_type": "execute_result"
    }
   ],
   "source": [
    "all_cell_markers_df.proteinID.value_counts()"
   ]
  },
  {
   "cell_type": "code",
   "execution_count": 485,
   "metadata": {},
   "outputs": [
    {
     "data": {
      "text/plain": [
       "Experiment                3064\n",
       "Single-cell sequencing     535\n",
       "Company                    355\n",
       "Review                     169\n",
       "Name: markerResource, dtype: int64"
      ]
     },
     "execution_count": 485,
     "metadata": {},
     "output_type": "execute_result"
    }
   ],
   "source": [
    "all_cell_markers_df.markerResource.value_counts()"
   ]
  },
  {
   "cell_type": "code",
   "execution_count": 486,
   "metadata": {},
   "outputs": [
    {
     "data": {
      "text/plain": [
       "Company     355\n",
       "30018341     41\n",
       "30093597     37\n",
       "29802404     27\n",
       "29545511     21\n",
       "           ... \n",
       "28869524      1\n",
       "17714779      1\n",
       "18701045      1\n",
       "20060164      1\n",
       "16849681      1\n",
       "Name: PMID, Length: 2379, dtype: int64"
      ]
     },
     "execution_count": 486,
     "metadata": {},
     "output_type": "execute_result"
    }
   ],
   "source": [
    "all_cell_markers_df.PMID.value_counts()"
   ]
  },
  {
   "cell_type": "code",
   "execution_count": 487,
   "metadata": {},
   "outputs": [
    {
     "data": {
      "text/plain": [
       "ebioscience           77\n",
       "miltenyibiotec        60\n",
       "abcam                 53\n",
       "biolegend             52\n",
       "bio-rad-antibodies    47\n",
       "rndsystems            35\n",
       "labome                16\n",
       "bdbiosciences         15\n",
       "Name: Company, dtype: int64"
      ]
     },
     "execution_count": 487,
     "metadata": {},
     "output_type": "execute_result"
    }
   ],
   "source": [
    "all_cell_markers_df.Company.value_counts()"
   ]
  },
  {
   "cell_type": "markdown",
   "metadata": {},
   "source": [
    "## Missing value"
   ]
  },
  {
   "cell_type": "code",
   "execution_count": 488,
   "metadata": {},
   "outputs": [
    {
     "data": {
      "text/plain": [
       "Company             0.913898\n",
       "CellOntologyID      0.210526\n",
       "UberonOntologyID    0.180936\n",
       "proteinName         0.013582\n",
       "proteinID           0.013582\n",
       "geneSymbol          0.012127\n",
       "geneID              0.012127\n",
       "speciesType         0.000000\n",
       "tissueType          0.000000\n",
       "cancerType          0.000000\n",
       "cellType            0.000000\n",
       "cellName            0.000000\n",
       "cellMarker          0.000000\n",
       "markerResource      0.000000\n",
       "PMID                0.000000\n",
       "dtype: float64"
      ]
     },
     "execution_count": 488,
     "metadata": {},
     "output_type": "execute_result"
    }
   ],
   "source": [
    "all_cell_markers_df.isna().mean().sort_values(ascending=False)"
   ]
  },
  {
   "cell_type": "code",
   "execution_count": 489,
   "metadata": {},
   "outputs": [],
   "source": [
    "test = all_cell_markers_df.copy().dropna(subset=['geneSymbol', 'proteinID'])    #[['cellMarker', 'geneSymbol', 'geneID']]\n",
    "test['cellMarker'] = test['cellMarker'].apply(lambda x: x.split(', '))\n",
    "test['geneSymbol'] = test['geneSymbol'].apply(lambda x: x.split(', '))\n",
    "test['geneID'] = test['geneID'].apply(lambda x: x.split(', '))\n",
    "test['proteinID'] = test['proteinID'].apply(lambda x: x.split(', '))\n",
    "\n",
    "test['len_cellMarker'] = test['cellMarker'].apply(len)\n",
    "test['len_geneSymbol'] = test['geneSymbol'].apply(len)\n",
    "test['len_geneID'] = test['geneID'].apply(len)\n",
    "test['len_proteinID'] = test['proteinID'].apply(len)"
   ]
  },
  {
   "cell_type": "code",
   "execution_count": 490,
   "metadata": {},
   "outputs": [],
   "source": [
    "x = test[~((test['len_cellMarker'] == test['len_geneSymbol']) & (test['len_geneSymbol'] == test['len_geneID']))]"
   ]
  },
  {
   "cell_type": "code",
   "execution_count": 491,
   "metadata": {},
   "outputs": [
    {
     "data": {
      "text/plain": [
       "['ITGAM', 'CD14', 'ITGB2', '[FCGR2A', 'FCGR2B', 'FCGR2C]', 'CD68']"
      ]
     },
     "execution_count": 491,
     "metadata": {},
     "output_type": "execute_result"
    }
   ],
   "source": [
    "x.iloc[0]['geneSymbol']"
   ]
  },
  {
   "cell_type": "code",
   "execution_count": 492,
   "metadata": {},
   "outputs": [
    {
     "data": {
      "text/plain": [
       "['CD11b', 'CD14', 'CD18', 'CD32', 'CD68']"
      ]
     },
     "execution_count": 492,
     "metadata": {},
     "output_type": "execute_result"
    }
   ],
   "source": [
    "x.iloc[0]['cellMarker']"
   ]
  },
  {
   "cell_type": "code",
   "execution_count": 493,
   "metadata": {},
   "outputs": [
    {
     "data": {
      "text/plain": [
       "['3684', '929', '3689', '[2212', '2213', '9103]', '968']"
      ]
     },
     "execution_count": 493,
     "metadata": {},
     "output_type": "execute_result"
    }
   ],
   "source": [
    "x.iloc[0]['geneID']"
   ]
  },
  {
   "cell_type": "code",
   "execution_count": 494,
   "metadata": {},
   "outputs": [],
   "source": [
    "# the problem of spliting for the cell maker"
   ]
  },
  {
   "cell_type": "code",
   "execution_count": 495,
   "metadata": {},
   "outputs": [
    {
     "data": {
      "text/html": [
       "<div>\n",
       "<style scoped>\n",
       "    .dataframe tbody tr th:only-of-type {\n",
       "        vertical-align: middle;\n",
       "    }\n",
       "\n",
       "    .dataframe tbody tr th {\n",
       "        vertical-align: top;\n",
       "    }\n",
       "\n",
       "    .dataframe thead th {\n",
       "        text-align: right;\n",
       "    }\n",
       "</style>\n",
       "<table border=\"1\" class=\"dataframe\">\n",
       "  <thead>\n",
       "    <tr style=\"text-align: right;\">\n",
       "      <th></th>\n",
       "      <th>speciesType</th>\n",
       "      <th>tissueType</th>\n",
       "      <th>UberonOntologyID</th>\n",
       "      <th>cancerType</th>\n",
       "      <th>cellType</th>\n",
       "      <th>cellName</th>\n",
       "      <th>CellOntologyID</th>\n",
       "      <th>cellMarker</th>\n",
       "      <th>geneSymbol</th>\n",
       "      <th>geneID</th>\n",
       "      <th>proteinName</th>\n",
       "      <th>proteinID</th>\n",
       "      <th>markerResource</th>\n",
       "      <th>PMID</th>\n",
       "      <th>Company</th>\n",
       "      <th>len_cellMarker</th>\n",
       "      <th>len_geneSymbol</th>\n",
       "      <th>len_geneID</th>\n",
       "      <th>len_proteinID</th>\n",
       "    </tr>\n",
       "  </thead>\n",
       "  <tbody>\n",
       "    <tr>\n",
       "      <th>0</th>\n",
       "      <td>Human</td>\n",
       "      <td>Kidney</td>\n",
       "      <td>UBERON_0002113</td>\n",
       "      <td>Normal</td>\n",
       "      <td>Normal cell</td>\n",
       "      <td>Proximal tubular cell</td>\n",
       "      <td>NaN</td>\n",
       "      <td>[Intestinal Alkaline Phosphatase]</td>\n",
       "      <td>[ALPI]</td>\n",
       "      <td>[248]</td>\n",
       "      <td>PPBI</td>\n",
       "      <td>[P09923]</td>\n",
       "      <td>Experiment</td>\n",
       "      <td>9263997</td>\n",
       "      <td>NaN</td>\n",
       "      <td>1</td>\n",
       "      <td>1</td>\n",
       "      <td>1</td>\n",
       "      <td>1</td>\n",
       "    </tr>\n",
       "    <tr>\n",
       "      <th>1</th>\n",
       "      <td>Human</td>\n",
       "      <td>Liver</td>\n",
       "      <td>UBERON_0002107</td>\n",
       "      <td>Normal</td>\n",
       "      <td>Normal cell</td>\n",
       "      <td>Ito cell (hepatic stellate cell)</td>\n",
       "      <td>CL_0000632</td>\n",
       "      <td>[Synaptophysin]</td>\n",
       "      <td>[SYP]</td>\n",
       "      <td>[6855]</td>\n",
       "      <td>SYPH</td>\n",
       "      <td>[P08247]</td>\n",
       "      <td>Experiment</td>\n",
       "      <td>10595912</td>\n",
       "      <td>NaN</td>\n",
       "      <td>1</td>\n",
       "      <td>1</td>\n",
       "      <td>1</td>\n",
       "      <td>1</td>\n",
       "    </tr>\n",
       "    <tr>\n",
       "      <th>2</th>\n",
       "      <td>Human</td>\n",
       "      <td>Endometrium</td>\n",
       "      <td>UBERON_0001295</td>\n",
       "      <td>Normal</td>\n",
       "      <td>Normal cell</td>\n",
       "      <td>Trophoblast cell</td>\n",
       "      <td>CL_0000351</td>\n",
       "      <td>[CEACAM1]</td>\n",
       "      <td>[CEACAM1]</td>\n",
       "      <td>[634]</td>\n",
       "      <td>CEAM1</td>\n",
       "      <td>[P13688]</td>\n",
       "      <td>Experiment</td>\n",
       "      <td>10751340</td>\n",
       "      <td>NaN</td>\n",
       "      <td>1</td>\n",
       "      <td>1</td>\n",
       "      <td>1</td>\n",
       "      <td>1</td>\n",
       "    </tr>\n",
       "    <tr>\n",
       "      <th>3</th>\n",
       "      <td>Human</td>\n",
       "      <td>Germ</td>\n",
       "      <td>UBERON_0000923</td>\n",
       "      <td>Normal</td>\n",
       "      <td>Normal cell</td>\n",
       "      <td>Primordial germ cell</td>\n",
       "      <td>CL_0000670</td>\n",
       "      <td>[VASA]</td>\n",
       "      <td>[DDX4]</td>\n",
       "      <td>[54514]</td>\n",
       "      <td>DDX4</td>\n",
       "      <td>[Q9NQI0]</td>\n",
       "      <td>Experiment</td>\n",
       "      <td>10920202</td>\n",
       "      <td>NaN</td>\n",
       "      <td>1</td>\n",
       "      <td>1</td>\n",
       "      <td>1</td>\n",
       "      <td>1</td>\n",
       "    </tr>\n",
       "    <tr>\n",
       "      <th>4</th>\n",
       "      <td>Human</td>\n",
       "      <td>Corneal epithelium</td>\n",
       "      <td>UBERON_0001772</td>\n",
       "      <td>Normal</td>\n",
       "      <td>Normal cell</td>\n",
       "      <td>Epithelial cell</td>\n",
       "      <td>CL_0000066</td>\n",
       "      <td>[KLF6]</td>\n",
       "      <td>[KLF6]</td>\n",
       "      <td>[1316]</td>\n",
       "      <td>KLF6</td>\n",
       "      <td>[Q99612]</td>\n",
       "      <td>Experiment</td>\n",
       "      <td>12407152</td>\n",
       "      <td>NaN</td>\n",
       "      <td>1</td>\n",
       "      <td>1</td>\n",
       "      <td>1</td>\n",
       "      <td>1</td>\n",
       "    </tr>\n",
       "    <tr>\n",
       "      <th>...</th>\n",
       "      <td>...</td>\n",
       "      <td>...</td>\n",
       "      <td>...</td>\n",
       "      <td>...</td>\n",
       "      <td>...</td>\n",
       "      <td>...</td>\n",
       "      <td>...</td>\n",
       "      <td>...</td>\n",
       "      <td>...</td>\n",
       "      <td>...</td>\n",
       "      <td>...</td>\n",
       "      <td>...</td>\n",
       "      <td>...</td>\n",
       "      <td>...</td>\n",
       "      <td>...</td>\n",
       "      <td>...</td>\n",
       "      <td>...</td>\n",
       "      <td>...</td>\n",
       "      <td>...</td>\n",
       "    </tr>\n",
       "    <tr>\n",
       "      <th>4118</th>\n",
       "      <td>Human</td>\n",
       "      <td>Embryo</td>\n",
       "      <td>UBERON_0000922</td>\n",
       "      <td>Normal</td>\n",
       "      <td>Normal cell</td>\n",
       "      <td>8-cell stage cell (Blastomere)</td>\n",
       "      <td>CL_0000353</td>\n",
       "      <td>[C11orf48, C19orf53, DHX9, DIABLO, EIF1AD, EIF...</td>\n",
       "      <td>[LBHD1, C19orf53, DHX9, DIABLO, EIF1AD, EIF4G1...</td>\n",
       "      <td>[79081, 28974, 1660, 56616, 84285, 1981, 26017...</td>\n",
       "      <td>LBHD1, L10K, DHX9, DBLOH, EIF1A, IF4G1, FA32A,...</td>\n",
       "      <td>[Q9BQE6, Q9UNZ5, Q08211, Q9NR28, Q8N9N8, Q0463...</td>\n",
       "      <td>Single-cell sequencing</td>\n",
       "      <td>23892778</td>\n",
       "      <td>NaN</td>\n",
       "      <td>19</td>\n",
       "      <td>19</td>\n",
       "      <td>19</td>\n",
       "      <td>19</td>\n",
       "    </tr>\n",
       "    <tr>\n",
       "      <th>4119</th>\n",
       "      <td>Mouse</td>\n",
       "      <td>Embryo</td>\n",
       "      <td>UBERON_0000922</td>\n",
       "      <td>Normal</td>\n",
       "      <td>Normal cell</td>\n",
       "      <td>8-cell stage cell (Blastomere)</td>\n",
       "      <td>CL_0000353</td>\n",
       "      <td>[Abcf1, Cdc37, Diablo, Eif1ad, Eif4g1, Fam32a,...</td>\n",
       "      <td>[Abcf1, Cdc37, Diablo, Eif1ad, Eif4g1, Fam32a,...</td>\n",
       "      <td>[224742, 12539, 66593, 69860, 208643, 67922, 7...</td>\n",
       "      <td>ABCF1, CDC37, DBLOH, EIF1A, IF4G1, FA32A, KDM5...</td>\n",
       "      <td>[Q6P542, Q61081, Q9JIQ3, Q3THJ3, Q6NZJ6, Q9CR8...</td>\n",
       "      <td>Single-cell sequencing</td>\n",
       "      <td>23892778</td>\n",
       "      <td>NaN</td>\n",
       "      <td>12</td>\n",
       "      <td>12</td>\n",
       "      <td>12</td>\n",
       "      <td>12</td>\n",
       "    </tr>\n",
       "    <tr>\n",
       "      <th>4120</th>\n",
       "      <td>Human</td>\n",
       "      <td>Embryo</td>\n",
       "      <td>UBERON_0000922</td>\n",
       "      <td>Normal</td>\n",
       "      <td>Normal cell</td>\n",
       "      <td>Morula cell (Blastomere)</td>\n",
       "      <td>CL_0000360</td>\n",
       "      <td>[ADCK1, AGL, AIMP1, AKAP12, ARPC3, ATP1B3, ATP...</td>\n",
       "      <td>[ADCK1, AGL, AIMP1, AKAP12, ARPC3, ATP1B3, NA,...</td>\n",
       "      <td>[57143, 178, 9255, 9590, 10094, 483, NA, 586, ...</td>\n",
       "      <td>ADCK1, GDE, AIMP1, AKA12, ARPC3, AT1B3, AT5F1,...</td>\n",
       "      <td>[Q86TW2, P35573, Q12904, Q02952, O15145, P5470...</td>\n",
       "      <td>Single-cell sequencing</td>\n",
       "      <td>23892778</td>\n",
       "      <td>NaN</td>\n",
       "      <td>112</td>\n",
       "      <td>112</td>\n",
       "      <td>112</td>\n",
       "      <td>112</td>\n",
       "    </tr>\n",
       "    <tr>\n",
       "      <th>4121</th>\n",
       "      <td>Mouse</td>\n",
       "      <td>Embryo</td>\n",
       "      <td>UBERON_0000922</td>\n",
       "      <td>Normal</td>\n",
       "      <td>Normal cell</td>\n",
       "      <td>Morula cell (Blastomere)</td>\n",
       "      <td>CL_0000360</td>\n",
       "      <td>[Aimp1, Atp5f1, Atp5h, Bcat1, Bin1, Ccbl2, Cct...</td>\n",
       "      <td>[Aimp1, Atp5f1, Atp5h, Bcat1, Bin1, Kyat3, Cct...</td>\n",
       "      <td>[13722, 11950, 71679, 12035, 30948, 229905, 12...</td>\n",
       "      <td>AIMP1, AT5F1, ATP5H, BCAT1, BIN1, KAT3, TCPE, ...</td>\n",
       "      <td>[P31230, Q9CQQ7, Q9DCX2, P24288, O08539, Q71RI...</td>\n",
       "      <td>Single-cell sequencing</td>\n",
       "      <td>23892778</td>\n",
       "      <td>NaN</td>\n",
       "      <td>37</td>\n",
       "      <td>37</td>\n",
       "      <td>37</td>\n",
       "      <td>37</td>\n",
       "    </tr>\n",
       "    <tr>\n",
       "      <th>4122</th>\n",
       "      <td>Human</td>\n",
       "      <td>Brain</td>\n",
       "      <td>UBERON_0000955</td>\n",
       "      <td>oligodendroglioma</td>\n",
       "      <td>Cancer cell</td>\n",
       "      <td>Cancer stem cell</td>\n",
       "      <td>NaN</td>\n",
       "      <td>[ASCL1, BOC, CCND2, CD24, CHD7, EGFR, NFIB, SO...</td>\n",
       "      <td>[ASCL1, BOC, CCND2, CD24, CHD7, EGFR, NFIB, SO...</td>\n",
       "      <td>[429, 91653, 894, 100133941, 55636, 1956, 4781...</td>\n",
       "      <td>ASCL1, BOC, CCND2, CD24, CHD7, EGFR, NFIB, SOX...</td>\n",
       "      <td>[P50553, Q9BWV1, P30279, P25063, Q9P2D1, P0053...</td>\n",
       "      <td>Single-cell sequencing</td>\n",
       "      <td>27806376</td>\n",
       "      <td>NaN</td>\n",
       "      <td>11</td>\n",
       "      <td>11</td>\n",
       "      <td>11</td>\n",
       "      <td>11</td>\n",
       "    </tr>\n",
       "  </tbody>\n",
       "</table>\n",
       "<p>4067 rows × 19 columns</p>\n",
       "</div>"
      ],
      "text/plain": [
       "     speciesType          tissueType UberonOntologyID         cancerType  \\\n",
       "0          Human              Kidney   UBERON_0002113             Normal   \n",
       "1          Human               Liver   UBERON_0002107             Normal   \n",
       "2          Human         Endometrium   UBERON_0001295             Normal   \n",
       "3          Human                Germ   UBERON_0000923             Normal   \n",
       "4          Human  Corneal epithelium   UBERON_0001772             Normal   \n",
       "...          ...                 ...              ...                ...   \n",
       "4118       Human              Embryo   UBERON_0000922             Normal   \n",
       "4119       Mouse              Embryo   UBERON_0000922             Normal   \n",
       "4120       Human              Embryo   UBERON_0000922             Normal   \n",
       "4121       Mouse              Embryo   UBERON_0000922             Normal   \n",
       "4122       Human               Brain   UBERON_0000955  oligodendroglioma   \n",
       "\n",
       "         cellType                          cellName CellOntologyID  \\\n",
       "0     Normal cell             Proximal tubular cell            NaN   \n",
       "1     Normal cell  Ito cell (hepatic stellate cell)     CL_0000632   \n",
       "2     Normal cell                  Trophoblast cell     CL_0000351   \n",
       "3     Normal cell              Primordial germ cell     CL_0000670   \n",
       "4     Normal cell                   Epithelial cell     CL_0000066   \n",
       "...           ...                               ...            ...   \n",
       "4118  Normal cell    8-cell stage cell (Blastomere)     CL_0000353   \n",
       "4119  Normal cell    8-cell stage cell (Blastomere)     CL_0000353   \n",
       "4120  Normal cell          Morula cell (Blastomere)     CL_0000360   \n",
       "4121  Normal cell          Morula cell (Blastomere)     CL_0000360   \n",
       "4122  Cancer cell                  Cancer stem cell            NaN   \n",
       "\n",
       "                                             cellMarker  \\\n",
       "0                     [Intestinal Alkaline Phosphatase]   \n",
       "1                                       [Synaptophysin]   \n",
       "2                                             [CEACAM1]   \n",
       "3                                                [VASA]   \n",
       "4                                                [KLF6]   \n",
       "...                                                 ...   \n",
       "4118  [C11orf48, C19orf53, DHX9, DIABLO, EIF1AD, EIF...   \n",
       "4119  [Abcf1, Cdc37, Diablo, Eif1ad, Eif4g1, Fam32a,...   \n",
       "4120  [ADCK1, AGL, AIMP1, AKAP12, ARPC3, ATP1B3, ATP...   \n",
       "4121  [Aimp1, Atp5f1, Atp5h, Bcat1, Bin1, Ccbl2, Cct...   \n",
       "4122  [ASCL1, BOC, CCND2, CD24, CHD7, EGFR, NFIB, SO...   \n",
       "\n",
       "                                             geneSymbol  \\\n",
       "0                                                [ALPI]   \n",
       "1                                                 [SYP]   \n",
       "2                                             [CEACAM1]   \n",
       "3                                                [DDX4]   \n",
       "4                                                [KLF6]   \n",
       "...                                                 ...   \n",
       "4118  [LBHD1, C19orf53, DHX9, DIABLO, EIF1AD, EIF4G1...   \n",
       "4119  [Abcf1, Cdc37, Diablo, Eif1ad, Eif4g1, Fam32a,...   \n",
       "4120  [ADCK1, AGL, AIMP1, AKAP12, ARPC3, ATP1B3, NA,...   \n",
       "4121  [Aimp1, Atp5f1, Atp5h, Bcat1, Bin1, Kyat3, Cct...   \n",
       "4122  [ASCL1, BOC, CCND2, CD24, CHD7, EGFR, NFIB, SO...   \n",
       "\n",
       "                                                 geneID  \\\n",
       "0                                                 [248]   \n",
       "1                                                [6855]   \n",
       "2                                                 [634]   \n",
       "3                                               [54514]   \n",
       "4                                                [1316]   \n",
       "...                                                 ...   \n",
       "4118  [79081, 28974, 1660, 56616, 84285, 1981, 26017...   \n",
       "4119  [224742, 12539, 66593, 69860, 208643, 67922, 7...   \n",
       "4120  [57143, 178, 9255, 9590, 10094, 483, NA, 586, ...   \n",
       "4121  [13722, 11950, 71679, 12035, 30948, 229905, 12...   \n",
       "4122  [429, 91653, 894, 100133941, 55636, 1956, 4781...   \n",
       "\n",
       "                                            proteinName  \\\n",
       "0                                                  PPBI   \n",
       "1                                                  SYPH   \n",
       "2                                                 CEAM1   \n",
       "3                                                  DDX4   \n",
       "4                                                  KLF6   \n",
       "...                                                 ...   \n",
       "4118  LBHD1, L10K, DHX9, DBLOH, EIF1A, IF4G1, FA32A,...   \n",
       "4119  ABCF1, CDC37, DBLOH, EIF1A, IF4G1, FA32A, KDM5...   \n",
       "4120  ADCK1, GDE, AIMP1, AKA12, ARPC3, AT1B3, AT5F1,...   \n",
       "4121  AIMP1, AT5F1, ATP5H, BCAT1, BIN1, KAT3, TCPE, ...   \n",
       "4122  ASCL1, BOC, CCND2, CD24, CHD7, EGFR, NFIB, SOX...   \n",
       "\n",
       "                                              proteinID  \\\n",
       "0                                              [P09923]   \n",
       "1                                              [P08247]   \n",
       "2                                              [P13688]   \n",
       "3                                              [Q9NQI0]   \n",
       "4                                              [Q99612]   \n",
       "...                                                 ...   \n",
       "4118  [Q9BQE6, Q9UNZ5, Q08211, Q9NR28, Q8N9N8, Q0463...   \n",
       "4119  [Q6P542, Q61081, Q9JIQ3, Q3THJ3, Q6NZJ6, Q9CR8...   \n",
       "4120  [Q86TW2, P35573, Q12904, Q02952, O15145, P5470...   \n",
       "4121  [P31230, Q9CQQ7, Q9DCX2, P24288, O08539, Q71RI...   \n",
       "4122  [P50553, Q9BWV1, P30279, P25063, Q9P2D1, P0053...   \n",
       "\n",
       "              markerResource      PMID Company  len_cellMarker  \\\n",
       "0                 Experiment   9263997     NaN               1   \n",
       "1                 Experiment  10595912     NaN               1   \n",
       "2                 Experiment  10751340     NaN               1   \n",
       "3                 Experiment  10920202     NaN               1   \n",
       "4                 Experiment  12407152     NaN               1   \n",
       "...                      ...       ...     ...             ...   \n",
       "4118  Single-cell sequencing  23892778     NaN              19   \n",
       "4119  Single-cell sequencing  23892778     NaN              12   \n",
       "4120  Single-cell sequencing  23892778     NaN             112   \n",
       "4121  Single-cell sequencing  23892778     NaN              37   \n",
       "4122  Single-cell sequencing  27806376     NaN              11   \n",
       "\n",
       "      len_geneSymbol  len_geneID  len_proteinID  \n",
       "0                  1           1              1  \n",
       "1                  1           1              1  \n",
       "2                  1           1              1  \n",
       "3                  1           1              1  \n",
       "4                  1           1              1  \n",
       "...              ...         ...            ...  \n",
       "4118              19          19             19  \n",
       "4119              12          12             12  \n",
       "4120             112         112            112  \n",
       "4121              37          37             37  \n",
       "4122              11          11             11  \n",
       "\n",
       "[4067 rows x 19 columns]"
      ]
     },
     "execution_count": 495,
     "metadata": {},
     "output_type": "execute_result"
    }
   ],
   "source": [
    "test"
   ]
  },
  {
   "cell_type": "code",
   "execution_count": 496,
   "metadata": {},
   "outputs": [
    {
     "ename": "SyntaxError",
     "evalue": "invalid syntax (3694850896.py, line 4)",
     "output_type": "error",
     "traceback": [
      "\u001b[0;36m  Cell \u001b[0;32mIn[496], line 4\u001b[0;36m\u001b[0m\n\u001b[0;31m    elastic_search: (integer field) number of participants\u001b[0m\n\u001b[0m                             ^\u001b[0m\n\u001b[0;31mSyntaxError\u001b[0m\u001b[0;31m:\u001b[0m invalid syntax\n"
     ]
    }
   ],
   "source": [
    "_id : geneid\n",
    "\n",
    "\n",
    "elastic_search: (integer field) number of participants"
   ]
  }
 ],
 "metadata": {
  "kernelspec": {
   "display_name": "scripps_microbiome",
   "language": "python",
   "name": "python3"
  },
  "language_info": {
   "codemirror_mode": {
    "name": "ipython",
    "version": 3
   },
   "file_extension": ".py",
   "mimetype": "text/x-python",
   "name": "python",
   "nbconvert_exporter": "python",
   "pygments_lexer": "ipython3",
   "version": "3.8.19"
  }
 },
 "nbformat": 4,
 "nbformat_minor": 2
}

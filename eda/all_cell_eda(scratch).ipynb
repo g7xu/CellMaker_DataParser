{
 "cells": [
  {
   "cell_type": "code",
   "execution_count": 2,
   "metadata": {},
   "outputs": [],
   "source": [
    "import pandas as pd\n",
    "import numpy as np"
   ]
  },
  {
   "cell_type": "markdown",
   "metadata": {},
   "source": [
    "- making an er diagram for the if needed\n",
    "- making a data constrain function"
   ]
  },
  {
   "cell_type": "markdown",
   "metadata": {},
   "source": [
    "## Plan\n",
    "- explore data myself and meet up with jason to construct detailed parsing plna\n",
    "- current doing EDA\n",
    "\n",
    "## problem\n",
    "- how deal with missing value?\n",
    "- it seems like all_cell_markers includes all the avaliable dat set from the human cell, mouse cell, and single cell, but further validation is needed\n",
    "- the mapping index\n",
    "- lab's working schedule for next few weeks\n",
    "\n",
    "## \n",
    "- remove key s"
   ]
  },
  {
   "cell_type": "markdown",
   "metadata": {},
   "source": [
    "# Exploration on all_cell_markers\n",
    "\n",
    "insights:\n",
    "- tissueType: change the undefined into NaN\n",
    "- UberonOntologyID: two main kinds (UBERON_0001255, CL_0002248)\n",
    "- CencerType: change \"normal\" to NaN\n",
    "- cellType: normal cell or cancer cell\n",
    "- expected cellMarker == GeneSymbol == geneID == proteinID\n"
   ]
  },
  {
   "cell_type": "code",
   "execution_count": 13,
   "metadata": {},
   "outputs": [
    {
     "name": "stderr",
     "output_type": "stream",
     "text": [
      "/opt/anaconda3/envs/scripps_microbiome/lib/python3.8/site-packages/pandas/util/_decorators.py:311: ParserWarning: Falling back to the 'python' engine because the 'c' engine does not support regex separators (separators > 1 char and different from '\\s+' are interpreted as regex); you can avoid this warning by specifying engine='python'.\n",
      "  return func(*args, **kwargs)\n"
     ]
    }
   ],
   "source": [
    "all_cell_markers_df = pd.read_csv('../data/all_cell_markers.txt', sep = r'\\t')\n",
    "all_human_markers_df = pd.read_csv('../data/Human_cell_markers.txt', sep = r'\\t')\n",
    "all_mouse_markers_df = pd.read_csv('../data/Mouse_cell_markers.txt', sep = r'\\t')\n",
    "all_singleCell_markers_df = pd.read_csv('../data/Single_cell_markers.txt', sep = r'\\t')\n",
    "# with open('../data/all_cell_markers.txt', 'r') as file:\n",
    "#     firstline = file.readline()\n",
    "\n",
    "cell_markers_df = pd.concat([all_cell_markers_df, all_singleCell_markers_df], axis = 0, ignore_index=True)"
   ]
  },
  {
   "cell_type": "code",
   "execution_count": 22,
   "metadata": {},
   "outputs": [
    {
     "data": {
      "text/plain": [
       "speciesType         0.000000\n",
       "tissueType          0.000000\n",
       "UberonOntologyID    0.166810\n",
       "cancerType          0.000000\n",
       "cellType            0.000000\n",
       "cellName            0.000000\n",
       "CellOntologyID      0.199871\n",
       "cellMarker          0.000000\n",
       "geneSymbol          0.010949\n",
       "geneID              0.010949\n",
       "proteinName         0.012452\n",
       "proteinID           0.012452\n",
       "markerResource      0.000000\n",
       "PMID                0.000000\n",
       "Company             0.923787\n",
       "dtype: float64"
      ]
     },
     "execution_count": 22,
     "metadata": {},
     "output_type": "execute_result"
    }
   ],
   "source": [
    "cell_markers_df.isna().mean()"
   ]
  },
  {
   "cell_type": "code",
   "execution_count": 23,
   "metadata": {},
   "outputs": [
    {
     "data": {
      "text/plain": [
       "Human    3083\n",
       "Mouse    1575\n",
       "Name: speciesType, dtype: int64"
      ]
     },
     "execution_count": 23,
     "metadata": {},
     "output_type": "execute_result"
    }
   ],
   "source": [
    "# no missing value\n",
    "cell_markers_df.speciesType.value_counts()\n"
   ]
  },
  {
   "cell_type": "code",
   "execution_count": 30,
   "metadata": {},
   "outputs": [
    {
     "data": {
      "text/plain": [
       "Undefined         701\n",
       "Brain             338\n",
       "Bone marrow       306\n",
       "Lung              291\n",
       "Liver             253\n",
       "                 ... \n",
       "Gastric corpus      1\n",
       "Nerve               1\n",
       "Oviduct             1\n",
       "Nasal concha        1\n",
       "Umbilical vein      1\n",
       "Name: tissueType, Length: 181, dtype: int64"
      ]
     },
     "execution_count": 30,
     "metadata": {},
     "output_type": "execute_result"
    }
   ],
   "source": [
    "cell_markers_df.tissueType.value_counts()"
   ]
  },
  {
   "cell_type": "code",
   "execution_count": 37,
   "metadata": {},
   "outputs": [
    {
     "data": {
      "text/plain": [
       "0       UBERON_0002113\n",
       "1       UBERON_0002107\n",
       "2       UBERON_0001295\n",
       "3       UBERON_0000923\n",
       "4       UBERON_0001772\n",
       "             ...      \n",
       "4653    UBERON_0000922\n",
       "4654    UBERON_0000922\n",
       "4655    UBERON_0000922\n",
       "4656    UBERON_0000922\n",
       "4657    UBERON_0000955\n",
       "Name: UberonOntologyID, Length: 4658, dtype: object"
      ]
     },
     "execution_count": 37,
     "metadata": {},
     "output_type": "execute_result"
    }
   ],
   "source": [
    "cell_markers_df.UberonOntologyID\n",
    "\n",
    "# cell_markers_df.UberonOntologyID.unique()"
   ]
  },
  {
   "cell_type": "code",
   "execution_count": 38,
   "metadata": {},
   "outputs": [
    {
     "data": {
      "text/plain": [
       "Normal                                      3834\n",
       "Breast Cancer                                100\n",
       "Hepatocellular Cancer                         38\n",
       "Colorectum Cancer                             36\n",
       "Prostate Cancer                               35\n",
       "                                            ... \n",
       "Non-Hodgkin's Lymphoma                         1\n",
       "Non-small Cell Lung Cancer (circulating)       1\n",
       "Gonadoblastoma                                 1\n",
       "Vascular Tumour                                1\n",
       "Kaposi's Sarcoma                               1\n",
       "Name: cancerType, Length: 133, dtype: int64"
      ]
     },
     "execution_count": 38,
     "metadata": {},
     "output_type": "execute_result"
    }
   ],
   "source": [
    "cell_markers_df.cancerType.value_counts()"
   ]
  },
  {
   "cell_type": "code",
   "execution_count": 42,
   "metadata": {},
   "outputs": [
    {
     "data": {
      "text/plain": [
       "array(['Proximal tubular cell', 'Ito cell (hepatic stellate cell)',\n",
       "       'Trophoblast cell', 'Primordial germ cell', 'Epithelial cell',\n",
       "       'Cytotrophoblast', 'Periosteum-derived progenitor cell',\n",
       "       'Amnion epithelial cell', 'Primitive streak cell',\n",
       "       'Stromal vascular fraction cell', 'Bulge stem cell',\n",
       "       'Semilunar valve cell', 'Villous stromal cell', 'Kupffer cell',\n",
       "       'Adipose-derived stromal cell', 'Oligodendrocyte',\n",
       "       'Mesenchymal stem cell', 'Cartilage progenitor cell', 'Osteocyte',\n",
       "       'Osteoclast', 'Bipolar cell', 'Muller cell', 'Monocyte',\n",
       "       'Natural killer cell', 'Cancer stem cell', 'Endometrial stem cell',\n",
       "       'Dental pulp stem cell', 'B cell', 'Adipose-derived stem cell',\n",
       "       'Preadipocyte progenitor cell', 'Regulatory T (Treg) cell',\n",
       "       'Nucleus pulposus cell', 'Urine-derived stem cell', 'Fibroblast',\n",
       "       'Immune cell', 'Endothelial cell', 'T cell', 'Thymocyte',\n",
       "       'Dendritic cell', 'Neutrophil', 'Lymphocyte',\n",
       "       'Endothelial progenitor cell', 'Tumor endothelial cell',\n",
       "       'Premeiotic germ cell', 'Gonocyte', 'Spermatogonial stem cell',\n",
       "       'Sertoli cell', 'Mesenchymal stromal cell', 'Pancreatic stem cell',\n",
       "       'Myeloid-derived suppressor cell', 'CD4+ T cell',\n",
       "       'Anterior foregut endoderm cell', 'Endoderm progenitor cell',\n",
       "       'Circulating fetal cell', 'Neural progenitor cell',\n",
       "       'Astroglial progenitor cell', 'Paneth cell', 'Hepatoblast',\n",
       "       'Mesenchymal cell', 'Hematopoietic cell', 'CD8+ T cell',\n",
       "       'Periodontal stem cell', 'Natural regulatory T (Treg) cell',\n",
       "       'FOXP3+ natural regulatory T (Treg) cell',\n",
       "       'Beige adipogenic precursor cell',\n",
       "       'Brown adipogenic precursor cell', 'Platelet', 'Leukocyte',\n",
       "       'Cytotoxic T cell', 'Natural killer T (NKT) cell', 'T helper cell',\n",
       "       'Memory T cell', 'T helper1 (Th1) cell', 'T helper2 (Th2) cell',\n",
       "       'T helper17 (Th17) cell', 'Plasmacytoid dendritic cell',\n",
       "       'Lymphatic endothelial cell', 'Endocrine cell', 'Responder T cell',\n",
       "       'Cancer stem-like cell', 'Macrophage', 'Naive B cell',\n",
       "       'Class-switched memory B cell', 'Non-switched memory B cell',\n",
       "       'Double-negative B cell', 'Transitional B cell', 'Plasmablast',\n",
       "       'Oral keratinocyte stem cell', 'Myogenic endothelial cell',\n",
       "       'Pericyte', 'Adventitial cell', 'White blood cell',\n",
       "       'Pigment epithelial cell', 'Amacrine cell',\n",
       "       'Immature transitional B cell', 'Memory B cell',\n",
       "       'Non-switched B cell', 'Switched memory B cell',\n",
       "       'Effector CD4+ memory T (Tem) cell', 'Esophageal mucosal cell',\n",
       "       'Hematopoietic stem cell', 'Hematopoietic progenitor cell',\n",
       "       'Neural crest stem cell', 'Myeloid stem cell',\n",
       "       'Germinal center B cell', 'Pluripotent stem cell', 'Myeloid cell',\n",
       "       'Granulocyte', 'Classical monocyte', 'Intermediate monocyte',\n",
       "       'Non-classical monocyte', 'Suppressive monocyte',\n",
       "       'Monocyte derived dendritic cell', 'CD16+ dendritic cell',\n",
       "       'Immature myeloid cell', 'Eosinophil',\n",
       "       'Unrestricted somatic stem cell', 'Double-negative memory B cell',\n",
       "       'Plasma cell', 'Granulosa cell', 'Theca interna cell', 'Beta cell',\n",
       "       'Alveolar epithelial progenitor cell', 'Limbal stem cell',\n",
       "       'Liver progenitor cell', 'Myoepithelial cell',\n",
       "       'Oviduct-derived stem cell', 'Cancer cell',\n",
       "       'Limbal mesenchymal cell', 'Red blood cell (erythrocyte)',\n",
       "       'Adipose multilineage-differentiating stress-enduring cell',\n",
       "       'Regulatory B cell', 'Neural stem cell', 'Cardiac progenitor cell',\n",
       "       'Pluripotent very small embryonic-like cell',\n",
       "       'Ovarian germ stem cell', 'Germ cell', 'Germline stem cell',\n",
       "       'Circulating stem like cell', 'Circulating progenitor cell',\n",
       "       'Prostate stem cell', 'M2 macrophage',\n",
       "       'Circulating precursor cell', 'Endothelial precursor cell',\n",
       "       'Cardiomyocyte progenitor cell', 'Smooth muscle cell',\n",
       "       'Urothelium cell', 'Amniotic fluid stem cell',\n",
       "       'Testis somatic cell', 'Photoreceptor cell', 'Neural crest cell',\n",
       "       'Placenta cell', 'Myeloid dendritic cell', 'B1 cell',\n",
       "       'Follicular helper (Tfh) T cell', 'Mesenchymal progenitor cell',\n",
       "       'Basal cell', 'Hepatocyte', 'Gastric stem cell',\n",
       "       'Side-population cell', 'Endometrial progenitor cell',\n",
       "       'Retinal progenitor cell', 'Vaginal cell', 'Muscle satellite cell',\n",
       "       'Inflammatory cell', 'Spermatogonium', 'Vascular stem cell',\n",
       "       'Vascular progenitor cell', 'Keratinocyte progenitor cell',\n",
       "       'Adipose progenitor cell', 'Intestinal stem cell',\n",
       "       'Endometrial stromal stem cell',\n",
       "       'Induced regulatory T (Treg) cell', 'Corneal limbal stem cell',\n",
       "       'Epidermal transit amplifying cell',\n",
       "       'Submandibular gland stem cell', 'Serous acinar cell',\n",
       "       'Mucous acinar cell', 'Lymphoid cell',\n",
       "       'Multipotent progenitor cell', 'EBV+ B lymphoma cell',\n",
       "       'Liver stem cell', 'Megakaryocyte progenitor cell', 'Blast cell',\n",
       "       'Megakaryocyte', 'Endocrine progenitor cell',\n",
       "       'Early hematopoietic cell', 'Podocyte',\n",
       "       'Glomerular epithelial cell', 'Stromal stem cell',\n",
       "       'Dermal papilla cell', 'Schwann cell', 'Ciliated cell',\n",
       "       'Multipotent stem cell', 'Muller glia precursor cell', 'Null cell',\n",
       "       'Central nervous system stem cell',\n",
       "       'Osteogenic precursor-like cell', 'CD4-CD28+ T cell',\n",
       "       'CD4-CD28- T cell', 'Luteinizing granulosa cell',\n",
       "       'Suppressor T cell', 'Decidual cell', 'Activated CD4+ T cell',\n",
       "       'Hair follicle cell', 'Mature endothelial cell',\n",
       "       'Immature endothelial cell', 'Cytokine induced killer cell',\n",
       "       'CD14+ endothelial progenitor cell', 'Dedifferentiation adipocyte',\n",
       "       'Bile duct cell', 'Follicular dendritic cell', 'Basophil',\n",
       "       'Muscle-derived cell',\n",
       "       'Progenitor-like angiogenesis-promoting cell',\n",
       "       'Dopaminergic neuron', 'Neuron', 'IL-17Ralpha T cell',\n",
       "       'Corneal endothelial cell', 'Corneal epithelial progenitor cell',\n",
       "       'Colonic stem cell', 'Infiltrated mononuclear cell',\n",
       "       'Naive T cell', 'Central memory T cell', 'Effector memory T cell',\n",
       "       'Effector T cell', 'Cortical thymus epithelial cell',\n",
       "       'Medullary thymus epithelial cell', 'Cardiomyocyte',\n",
       "       'M1 macrophage', 'Tumor-propagating cell', 'Keratinocyte',\n",
       "       'Flk1+ mesodermal cell', 'Colony-forming cell',\n",
       "       'Hepatic progenitor-like cell', 'Angiogenic T cell',\n",
       "       'Multipotent postnatal stem cell',\n",
       "       'Multipotent postnatal progenitor cell', 'Oxyntic stem cell',\n",
       "       'Oxyntic progenitor cell', 'Pancreatic progenitor cell',\n",
       "       'Pancreatic endoderm cell', 'Epithelial stem cell', 'Stromal cell',\n",
       "       'Vascular smooth muscle cell', 'Malignant mesothelioma cell',\n",
       "       'Mesothelioma cell', 'Buccal epithelial stem cell', 'Stem cell',\n",
       "       'Microglial cell', 'Embryonic stem cell', 'Luminal cell',\n",
       "       'PDX1+ pancreatic progenitor cell', 'Progenitor cell',\n",
       "       'Abnormal plasma cell', 'Astrocyte', 'Cholinergic neuron',\n",
       "       'Erythroid precursor', 'Small intestinal stem cell', 'Merkel cell',\n",
       "       'Interstitial cell', 'Glutamatergic neuron', 'Preadipocyte',\n",
       "       'Multipotent mesenchymal stroma cell', 'CD14+CD16+ monocyte',\n",
       "       'CD14++CD16- monocyte', 'Type II pneumocyte', 'Clara cell',\n",
       "       'Follicular T cell', 'Mesangial cell',\n",
       "       'Hematopoietic precursor cell', 'Bone marrow stem cell',\n",
       "       'Myometrial stem cell', 'Osteoblast', 'Zymogenic chief cell',\n",
       "       'Corneal epithelial stem cell', 'Cardiovascular progenitor cell',\n",
       "       'Naive CD4+ T cell', 'Thymic emigrant cell',\n",
       "       'Definitive zone cell', 'Chromaffin cell', 'Epidermal stem cell',\n",
       "       'Erythroblast', 'Large granular lymphocyte', 'Erythroid cell',\n",
       "       'T1 (Transitional) B cell', 'T2 (Transitional) B cell',\n",
       "       'Limbal epithelial stem cell', 'Leydig cell',\n",
       "       'Peritubular myoid cell', 'Dendritic cell progenitor',\n",
       "       'Periodontal ligament stem cell', 'Germinal stem cell',\n",
       "       'Dental pulp cell', 'Migrating cancer stem cell',\n",
       "       'Epithelial progenitor cell', 'Luminal progenitor',\n",
       "       'Basal progenitor cell', 'Intestinal epithelial stem cell',\n",
       "       'Atypical memory B cell', 'Foxp3+IL-17+ T cell',\n",
       "       'Pancreatic ductal stem cell', 'Bone marrow stromal cell',\n",
       "       'Early transit-amplifying prostate epithelial cell',\n",
       "       'Late transit-amplifying prostate epithelial cell', 'Thecal cell',\n",
       "       'Langerhans cell', 'Glial cell', 'Lymphoid stem cell',\n",
       "       'Neuroendocrine cell', 'Epithelial hair follicle stem cell',\n",
       "       'Retinal ganglion cell', 'Somatic stem cell',\n",
       "       'Lymphoid-primed multipotent progenitor', 'Mast cell progenitor',\n",
       "       'CD4+ memory T cell', 'Acinar cell', 'Alpha cell', 'Delta cell',\n",
       "       'Ovarian somatic cell', 'Oocyte',\n",
       "       'Oligodendrocyte progenitor cell', 'Mesothelial cell',\n",
       "       'Purkinje cell', 'Chondrocyte', 'Activated B cell',\n",
       "       'Myofibroblast', 'Luminal epithelial cell',\n",
       "       'Basal epithelial cell', 'Type I pneumocyte',\n",
       "       'Lung epithelial cell', 'Mast cell', 'Blastema cell',\n",
       "       'Type II taste bud cell', 'Type III taste bud cell',\n",
       "       'White fat cell', 'Meniscus-derived stem cell',\n",
       "       'Meniscus-derived progenitor cell', 'Alveolar macrophage',\n",
       "       'CD8a+ dendritic cell', 'CD4+ T follicular helper cell',\n",
       "       'Radial glial cell', 'Bipotent glial progenitor cell',\n",
       "       'Classical macrophage', 'Alternative macrophage',\n",
       "       'Rod photoreceptor precursor cell', 'Peripheral monocyte',\n",
       "       'Rhombic lip cell', 'Oesophageal progenitor cell',\n",
       "       'Oesophageal stem cell', 'Prostate progenitor cell',\n",
       "       'Enteroendocrine cell', 'Endometrial precursor cell',\n",
       "       'Marginal zone B cell', 'Adipogenic progenitor cell',\n",
       "       'Activated T cell', 'Tympanic border cell', 'Oogonial stem cell',\n",
       "       'Auditory progenitor cell', 'Hair cell', 'Sinoatrial node cell',\n",
       "       'Oligodendrocyte precursor cell', 'Pancreatic ductal cell',\n",
       "       'Quiescent satellite cell', 'Mural cell', 'Duct cell',\n",
       "       'Osteoclast precursor cell', 'Proangiogenic cell',\n",
       "       'Testicular stem cell', 'Skeletal muscle stem cell',\n",
       "       'Heart muscle stem cell', 'Gamma delta T cell',\n",
       "       'Immature sertoli cell', 'Mature sertoli cell',\n",
       "       'Enterochromaffin cell', 'NG2-glia cell',\n",
       "       'Chondro progenitor cell', 'Incisor epithelial stem cell',\n",
       "       'Outer Pillar Cell', 'Undifferentiated type A spermatogonium',\n",
       "       'CD3+ T cell', 'Brown fat cell', 'Beige fat cell',\n",
       "       'Chondrocyte-derived bone cell',\n",
       "       'Thymus-derived regulatory T (Treg) cell',\n",
       "       'Lacrimal gland germ epithelial cell', 'Atrial cell',\n",
       "       'Ventricular compact cell', 'Ventricular trabecular cell',\n",
       "       'Oval cell', 'Hemangioblast', 'Erythroid progenitor',\n",
       "       'Quiescent small intestinal stem cell',\n",
       "       'Polymorphonuclear neutrophil', 'Neuron-restricted precursor',\n",
       "       'Glial-restricted precursor', 'Dermal fibroblast',\n",
       "       'Ventricular cardiomyocyte', 'Airway dendritic cell',\n",
       "       'Naive thymic NKT17 cell', 'Ovarian surface epithelial cell',\n",
       "       'Stomach stem cell', 'Goblet cell', 'Stem leydig cell',\n",
       "       'Mature naive B cell', 'IgA lamina propria lymphocyte',\n",
       "       'Taste bud cell', 'Vascular cell', 'Leptomeningeal cell',\n",
       "       'Ependymal cell', 'Olfactory ensheathing glia', 'Glomus cell',\n",
       "       'Olfactory sensory neuron', 'Vomeronasal sensory neuron',\n",
       "       'Lipofibroblast', 'Neuroblast', 'Skin stem cell',\n",
       "       'Fat cell (adipocyte)', 'Astrocyte precursor cell',\n",
       "       'Immature neuron', 'Osteogenic cell', 'Chondrogenic cell',\n",
       "       'Adipogenic cell', 'Endogenic cell', 'Hematopoetic cell',\n",
       "       'Myogenic cell', 'Myeloid progenitor cell',\n",
       "       'Multiple pluripotent progenitor cell', 'Nephron epithelial cell',\n",
       "       'Pre-haematopoietic stem cell', 'CD4+ T helper cell',\n",
       "       'CD4+CD25+ regulatory T cell', 'CD8+ cytotoxic T cell',\n",
       "       'Common lymphoid progenitor', 'Common myeloid progenitor',\n",
       "       'Conventional dendritic cell', 'Definitive endoderm cell',\n",
       "       'Mesoderm cell', 'Ectoderm cell',\n",
       "       'Effector regulatory T (Treg) cell',\n",
       "       'Induced pluripotent stem cell', 'Endothelial stem cell',\n",
       "       'Exhausted T cell', 'Follicular B cell', 'GABAergic neuron',\n",
       "       'Granulocyte-monocyte progenitor', 'IgG memory B cell',\n",
       "       'Intermediate progenitor cell', 'Megakaryocyte erythroid cell',\n",
       "       'Megakaryocyte-erythroid progenitor',\n",
       "       'Mesodermal embryonic stem cell', 'Myeloblast',\n",
       "       'Naive regulatory T (Treg) cell', 'Natural memory B cell',\n",
       "       'Neural tube cell', 'Neuroepithelial cell',\n",
       "       'Primitive endoderm cell', 'Proerythroblast', 'Pyramidal cell',\n",
       "       'Serotonergic neuron', 'Specialist antigen presenting cell',\n",
       "       'T helper9 (Th9) cell', 'CD8+ cytotoxic T killer cell',\n",
       "       'Myeloid conventional dendritic cell', 'CD4+ regulatory T cell',\n",
       "       'CD8+ regulatory T cell', 'Colorectal stem cell',\n",
       "       'Airway secretory cell', 'Pancreatic polypeptide cell',\n",
       "       'Neuronal progenitor cell', 'Trophoblast stem cell',\n",
       "       'Idiopathic pulmonary fibrosis cell', 'Matrix fibroblast',\n",
       "       'Muscle cell', 'Neural cell',\n",
       "       'pro-Natural killer cell (pro-NK cell)', 'Trophectoderm cell',\n",
       "       'Epiblast cell', 'Interneuron', 'Naive CD8+ T cell',\n",
       "       'Effector CD8+ memory T (Tem) cell',\n",
       "       'Mucosal-associated invariant T cell', 'Exhausted CD8+ T cell',\n",
       "       'Exhausted CD4+ T cell', 'CD4+ cytotoxic T cell', 'CXCR6+ T cell',\n",
       "       'Hormone sensing progenitor',\n",
       "       'Hormone sensing differentiated cell',\n",
       "       'Differentiated alveolar cell', 'Alveolar progenitor cell',\n",
       "       'Procr+ basal cell', 'Early enterocyte precursor cell',\n",
       "       'Transit amplifying (TA) cell', 'Late enterocyte precursor cell',\n",
       "       'Enterocyte', 'Enteroendocrine precursor cell',\n",
       "       'Brush cell (Tuft cell)', 'Myotube', 'Myoblast',\n",
       "       'Liver bud hepatic cell', 'Lymphoblast', 'Secretory cell',\n",
       "       'Ionocyte cell', 'Cycling basal cell', 'FOXN4+ cell',\n",
       "       'SLC16A7+ cell', 'Krt4/13+ cell', 'Axin2+ cell', 'Pdgfrapha+ cell',\n",
       "       'Axin2-Palpha+ cell', 'Wnt2+ cell', 'Lgr5+ cell', 'Lgr6+ cell',\n",
       "       'Vascular endothelial cell', 'Proximal tubule cell',\n",
       "       'Distal convoluted tubule cell', 'Collecting duct principal cell',\n",
       "       'Collecting duct intercalated cell',\n",
       "       'Collecting duct transient cell', 'Cortical cell',\n",
       "       'Medullary cell', 'Ductal cell', 'PP cell', 'Early neuroblast',\n",
       "       'Ventral otocyst', 'Late neuroblast', 'Dorsal otocyst', 'O cell',\n",
       "       'Chandelier cell', 'Basket cell', 'Long-projecting GABAergic cell',\n",
       "       'Martinotti cell', 'Interneuron-selective cell', 'CCK basket cell',\n",
       "       'Quiescent neural stem cell', 'Activated neural stem cell',\n",
       "       'Late activated neural stem cell', 'Type I spiral ganglion neuron',\n",
       "       'Type II spiral ganglion neuron', 'Precursor cell',\n",
       "       'Immature olfactory sensory neuron',\n",
       "       'Mature olfactory sensory neuron', 'Ciliated epithelial cell',\n",
       "       'Secretory progenitor cell', 'FGFR1LowNME5- epithelial cell',\n",
       "       'FGFR1HighNME5- epithelial cell', 'HES1High progenitor cell',\n",
       "       'Parietal progenitor cell', 'Pit progenitor cell', 'Pit cell',\n",
       "       'Tuft progenitor cell', 'PROCR+ progenitor cell',\n",
       "       'Enterocyte progenitor cell', 'LGR5+ stem cell',\n",
       "       'DCLK1+ progenitor cell', 'MKI67+ progenitor cell',\n",
       "       'PROM1High progenitor cell', 'PROM1Low progenitor cell',\n",
       "       'Goblet progenitor cell', 'Mitotic fetal germ cell',\n",
       "       'Retinoid acid signaling-responsive fetal germ cell',\n",
       "       'Meiotic prophase fetal germ cell',\n",
       "       'Oogenesis phase fetal germ cell',\n",
       "       'Migration phase fetal germ cell',\n",
       "       'Gonadal mitotic phase fetal germ cell',\n",
       "       'Mitotic arrest phase fetal germ cell', 'Leydig precursor cell',\n",
       "       'Gonadal endothelial cell', 'Extravillous trophoblast cell',\n",
       "       'Villous cytotrophoblast', 'Syncytiotrophoblast',\n",
       "       'Luminal progenitor cell', 'Endocardial cell', 'Arterial cell',\n",
       "       'Venous cell', 'Lymphoid-primed multipotent progenitor cell',\n",
       "       'Multilymphoid progenitor cell', 'Stage I neutrophil',\n",
       "       'Stage II neutrophil', 'CD141+CLEC9A+ dendritic cell',\n",
       "       'CD1C+_A dendritic cell', 'CD1C+_B dendritic cell',\n",
       "       'CD1C-CD141- dendritic cell', 'AXL+SIGLEC6+ dendritic cell',\n",
       "       'Blood progenitor cell', 'Activated CD8+ T cell',\n",
       "       'Inflammatory monocyte', 'Ly6c+ monocyte', 'Endoderm cell',\n",
       "       'Extraembryonic cell', 'Visceral endoderm cell',\n",
       "       'Extraembryonic ectoderm cell', 'Mesodermal progenitor cell',\n",
       "       'Primitive erythroid cell', 'Allantois cell',\n",
       "       'Pharyngeal mesoderm cell', 'Immature dendritic cell',\n",
       "       'Ureteric bud cell', 'Primitive vesicle cell',\n",
       "       'Long-term hematopoietic stem cell',\n",
       "       'Macrophage and dendritic cell precursor cell',\n",
       "       'Hematopoietic stem cell progenitor cell',\n",
       "       'Pre-megakaryocyte-erythroid progenitor cell',\n",
       "       'Early intermediate precursor cell', 'Cajal-Retzius cell',\n",
       "       'Bergmann glial cell', 'Type IA spiral ganglion neuron',\n",
       "       'Type IB spiral ganglion neuron', 'Type IC spiral ganglion neuron',\n",
       "       'Lake et al.Science.Ex1', 'Lake et al.Science.Ex2',\n",
       "       'Lake et al.Science.Ex3', 'Lake et al.Science.Ex4',\n",
       "       'Lake et al.Science.Ex5', 'Lake et al.Science.Ex6',\n",
       "       'Lake et al.Science.Ex7', 'Lake et al.Science.Ex8',\n",
       "       'Lake et al.Science.In1', 'Lake et al.Science.In2',\n",
       "       'Lake et al.Science.In3', 'Lake et al.Science.In4',\n",
       "       'Lake et al.Science.In5', 'Lake et al.Science.In6',\n",
       "       'Lake et al.Science.In7', 'Lake et al.Science.In8',\n",
       "       'Rheaume et al.Nat Commun.1', 'Rheaume et al.Nat Commun.2',\n",
       "       'Rheaume et al.Nat Commun.3', 'Rheaume et al.Nat Commun.4',\n",
       "       'Rheaume et al.Nat Commun.5', 'Rheaume et al.Nat Commun.6',\n",
       "       'Rheaume et al.Nat Commun.7', 'Rheaume et al.Nat Commun.8',\n",
       "       'Rheaume et al.Nat Commun.9', 'Rheaume et al.Nat Commun.10',\n",
       "       'Rheaume et al.Nat Commun.11', 'Rheaume et al.Nat Commun.12',\n",
       "       'Rheaume et al.Nat Commun.13', 'Rheaume et al.Nat Commun.14',\n",
       "       'Rheaume et al.Nat Commun.15', 'Rheaume et al.Nat Commun.16',\n",
       "       'Rheaume et al.Nat Commun.17', 'Rheaume et al.Nat Commun.18',\n",
       "       'Rheaume et al.Nat Commun.19', 'Rheaume et al.Nat Commun.20',\n",
       "       'Rheaume et al.Nat Commun.21', 'Rheaume et al.Nat Commun.22',\n",
       "       'Rheaume et al.Nat Commun.23', 'Rheaume et al.Nat Commun.24',\n",
       "       'Rheaume et al.Nat Commun.25', 'Rheaume et al.Nat Commun.26',\n",
       "       'Rheaume et al.Nat Commun.27', 'Rheaume et al.Nat Commun.28',\n",
       "       'Rheaume et al.Nat Commun.29', 'Rheaume et al.Nat Commun.30',\n",
       "       'Rheaume et al.Nat Commun.31', 'Rheaume et al.Nat Commun.32',\n",
       "       'Rheaume et al.Nat Commun.33', 'Rheaume et al.Nat Commun.34',\n",
       "       'Rheaume et al.Nat Commun.35', 'Rheaume et al.Nat Commun.36',\n",
       "       'Rheaume et al.Nat Commun.37', 'Rheaume et al.Nat Commun.38',\n",
       "       'Rheaume et al.Nat Commun.39', 'Rheaume et al.Nat Commun.40',\n",
       "       'Schwalie et al.Nature.P1', 'Schwalie et al.Nature.P2',\n",
       "       'Schwalie et al.Nature.P3', 'Schwalie et al.Nature.G1',\n",
       "       'Schwalie et al.Nature.G2', 'Schwalie et al.Nature.G3',\n",
       "       'Schwalie et al.Nature.G4', 'Lee et al.Cell.A', 'Lee et al.Cell.B',\n",
       "       'Lee et al.Cell.C', 'Lee et al.Cell.D', 'Lee et al.Cell.E',\n",
       "       '1-cell stage cell (Blastomere)', '4-cell stage cell (Blastomere)',\n",
       "       '8-cell stage cell (Blastomere)', 'Morula cell (Blastomere)'],\n",
       "      dtype=object)"
      ]
     },
     "execution_count": 42,
     "metadata": {},
     "output_type": "execute_result"
    }
   ],
   "source": [
    "cell_markers_df.cellName.unique()\n",
    "\n",
    "# 'Rheaume et al.Nat Commun.1', 'Rheaume et al.Nat Commun.2',"
   ]
  },
  {
   "cell_type": "code",
   "execution_count": 49,
   "metadata": {},
   "outputs": [
    {
     "data": {
      "text/plain": [
       "0                         Intestinal Alkaline Phosphatase\n",
       "1                                           Synaptophysin\n",
       "2                                                 CEACAM1\n",
       "3                                                    VASA\n",
       "4                                                    KLF6\n",
       "                              ...                        \n",
       "4653    C11orf48, C19orf53, DHX9, DIABLO, EIF1AD, EIF4...\n",
       "4654    Abcf1, Cdc37, Diablo, Eif1ad, Eif4g1, Fam32a, ...\n",
       "4655    ADCK1, AGL, AIMP1, AKAP12, ARPC3, ATP1B3, ATP5...\n",
       "4656    Aimp1, Atp5f1, Atp5h, Bcat1, Bin1, Ccbl2, Cct5...\n",
       "4657    ASCL1, BOC, CCND2, CD24, CHD7, EGFR, NFIB, SOX...\n",
       "Name: cellMarker, Length: 4658, dtype: object"
      ]
     },
     "execution_count": 49,
     "metadata": {},
     "output_type": "execute_result"
    }
   ],
   "source": [
    "cell_markers_df.cellMarker"
   ]
  },
  {
   "cell_type": "code",
   "execution_count": 51,
   "metadata": {},
   "outputs": [
    {
     "data": {
      "text/plain": [
       "0                                                    ALPI\n",
       "1                                                     SYP\n",
       "2                                                 CEACAM1\n",
       "3                                                    DDX4\n",
       "4                                                    KLF6\n",
       "                              ...                        \n",
       "4653    LBHD1, C19orf53, DHX9, DIABLO, EIF1AD, EIF4G1,...\n",
       "4654    Abcf1, Cdc37, Diablo, Eif1ad, Eif4g1, Fam32a, ...\n",
       "4655    ADCK1, AGL, AIMP1, AKAP12, ARPC3, ATP1B3, NA, ...\n",
       "4656    Aimp1, Atp5f1, Atp5h, Bcat1, Bin1, Kyat3, Cct5...\n",
       "4657    ASCL1, BOC, CCND2, CD24, CHD7, EGFR, NFIB, SOX...\n",
       "Name: geneSymbol, Length: 4658, dtype: object"
      ]
     },
     "execution_count": 51,
     "metadata": {},
     "output_type": "execute_result"
    }
   ],
   "source": [
    "cell_markers_df.geneSymbol"
   ]
  },
  {
   "cell_type": "code",
   "execution_count": 52,
   "metadata": {},
   "outputs": [
    {
     "data": {
      "text/plain": [
       "0                                                     248\n",
       "1                                                    6855\n",
       "2                                                     634\n",
       "3                                                   54514\n",
       "4                                                    1316\n",
       "                              ...                        \n",
       "4653    79081, 28974, 1660, 56616, 84285, 1981, 26017,...\n",
       "4654    224742, 12539, 66593, 69860, 208643, 67922, 75...\n",
       "4655    57143, 178, 9255, 9590, 10094, 483, NA, 586, 9...\n",
       "4656    13722, 11950, 71679, 12035, 30948, 229905, 124...\n",
       "4657    429, 91653, 894, 100133941, 55636, 1956, 4781,...\n",
       "Name: geneID, Length: 4658, dtype: object"
      ]
     },
     "execution_count": 52,
     "metadata": {},
     "output_type": "execute_result"
    }
   ],
   "source": [
    "cell_markers_df.geneID"
   ]
  },
  {
   "cell_type": "code",
   "execution_count": 55,
   "metadata": {},
   "outputs": [
    {
     "data": {
      "text/plain": [
       "0                                                    PPBI\n",
       "1                                                    SYPH\n",
       "2                                                   CEAM1\n",
       "3                                                    DDX4\n",
       "4                                                    KLF6\n",
       "                              ...                        \n",
       "4653    LBHD1, L10K, DHX9, DBLOH, EIF1A, IF4G1, FA32A,...\n",
       "4654    ABCF1, CDC37, DBLOH, EIF1A, IF4G1, FA32A, KDM5...\n",
       "4655    ADCK1, GDE, AIMP1, AKA12, ARPC3, AT1B3, AT5F1,...\n",
       "4656    AIMP1, AT5F1, ATP5H, BCAT1, BIN1, KAT3, TCPE, ...\n",
       "4657    ASCL1, BOC, CCND2, CD24, CHD7, EGFR, NFIB, SOX...\n",
       "Name: proteinName, Length: 4658, dtype: object"
      ]
     },
     "execution_count": 55,
     "metadata": {},
     "output_type": "execute_result"
    }
   ],
   "source": [
    "cell_markers_df.proteinName"
   ]
  },
  {
   "cell_type": "code",
   "execution_count": 56,
   "metadata": {},
   "outputs": [
    {
     "data": {
      "text/plain": [
       "0                                                  P09923\n",
       "1                                                  P08247\n",
       "2                                                  P13688\n",
       "3                                                  Q9NQI0\n",
       "4                                                  Q99612\n",
       "                              ...                        \n",
       "4653    Q9BQE6, Q9UNZ5, Q08211, Q9NR28, Q8N9N8, Q04637...\n",
       "4654    Q6P542, Q61081, Q9JIQ3, Q3THJ3, Q6NZJ6, Q9CR80...\n",
       "4655    Q86TW2, P35573, Q12904, Q02952, O15145, P54709...\n",
       "4656    P31230, Q9CQQ7, Q9DCX2, P24288, O08539, Q71RI9...\n",
       "4657    P50553, Q9BWV1, P30279, P25063, Q9P2D1, P00533...\n",
       "Name: proteinID, Length: 4658, dtype: object"
      ]
     },
     "execution_count": 56,
     "metadata": {},
     "output_type": "execute_result"
    }
   ],
   "source": [
    "cell_markers_df.proteinID"
   ]
  },
  {
   "cell_type": "code",
   "execution_count": 58,
   "metadata": {},
   "outputs": [
    {
     "data": {
      "text/plain": [
       "Experiment                3064\n",
       "Single-cell sequencing    1070\n",
       "Company                    355\n",
       "Review                     169\n",
       "Name: markerResource, dtype: int64"
      ]
     },
     "execution_count": 58,
     "metadata": {},
     "output_type": "execute_result"
    }
   ],
   "source": [
    "cell_markers_df.markerResource.value_counts()"
   ]
  },
  {
   "cell_type": "code",
   "execution_count": 59,
   "metadata": {},
   "outputs": [
    {
     "data": {
      "text/plain": [
       "0        9263997\n",
       "1       10595912\n",
       "2       10751340\n",
       "3       10920202\n",
       "4       12407152\n",
       "          ...   \n",
       "4653    23892778\n",
       "4654    23892778\n",
       "4655    23892778\n",
       "4656    23892778\n",
       "4657    27806376\n",
       "Name: PMID, Length: 4658, dtype: object"
      ]
     },
     "execution_count": 59,
     "metadata": {},
     "output_type": "execute_result"
    }
   ],
   "source": [
    "cell_markers_df.PMID"
   ]
  },
  {
   "cell_type": "code",
   "execution_count": 62,
   "metadata": {},
   "outputs": [
    {
     "data": {
      "text/plain": [
       "ebioscience           77\n",
       "miltenyibiotec        60\n",
       "abcam                 53\n",
       "biolegend             52\n",
       "bio-rad-antibodies    47\n",
       "rndsystems            35\n",
       "labome                16\n",
       "bdbiosciences         15\n",
       "Name: Company, dtype: int64"
      ]
     },
     "execution_count": 62,
     "metadata": {},
     "output_type": "execute_result"
    }
   ],
   "source": [
    "cell_markers_df.Company.value_counts()"
   ]
  },
  {
   "cell_type": "markdown",
   "metadata": {},
   "source": [
    "## Constribute meaning understanding\n",
    "- **speciesType**: the species from which the data originates\n",
    "    - there are only two data type, either `Human` or `Mouse`\n",
    "- **tissueType**: the type of tissues from which data originates\n",
    "    - in total 181 different kinds of cells\n",
    "    - a lot of them are undefined\n",
    "- **UberonOntologyID**: The universal unique identifier of the anatomy structure found in animals \n",
    "    - needs to confirm with the team\n",
    "    - contain missing value\n",
    "- **cancerType**: the association of the cell marker with the cancer name\n",
    "    - no cancer cell are named as `Normal`\n",
    "- **cellName**: the English name of the cell that marker belong to\n",
    "- **CellOntologyID**: The universal unique identifier of the cell that marker belong to\n",
    "    - contain missing value\n",
    "- **cellMarker**: a marker molecule of the cell\n",
    "    - in string list, can be convert to list\n",
    "- **geneSymbol**: gene expression of the cell marker\n",
    "- **geneID**: The universal unique identifier of the gene\n",
    "    - contain missing value\n",
    "- **proteinName**: name of the protein\n",
    "    - contain missing value\n",
    "- **proteinID**: The universal unique identifier of the protein\n",
    "- **markerResource**: the type of resouce or methologoy used to identify the marker\n",
    "    - there are only four data type, either `Experiment` or `Single-cell sequencing` or `Company` or `Review`\n",
    "- **PMID**: The PudMed ID for the publication or study where the marker data was reported\n",
    "    - abnormal value contain `company`\n",
    "- **Company**: the company associated with the resouces"
   ]
  },
  {
   "cell_type": "code",
   "execution_count": 34,
   "metadata": {},
   "outputs": [
    {
     "data": {
      "text/plain": [
       "Index(['speciesType', 'tissueType', 'UberonOntologyID', 'cancerType',\n",
       "       'cellType', 'cellName', 'CellOntologyID', 'cellMarker', 'geneSymbol',\n",
       "       'geneID', 'proteinName', 'proteinID', 'markerResource', 'PMID',\n",
       "       'Company'],\n",
       "      dtype='object')"
      ]
     },
     "execution_count": 34,
     "metadata": {},
     "output_type": "execute_result"
    }
   ],
   "source": [
    "all_cell_markers_df.columns"
   ]
  },
  {
   "cell_type": "markdown",
   "metadata": {},
   "source": [
    "## Data distribition"
   ]
  },
  {
   "cell_type": "code",
   "execution_count": 36,
   "metadata": {},
   "outputs": [
    {
     "data": {
      "text/plain": [
       "Human    2868\n",
       "Mouse    1255\n",
       "Name: speciesType, dtype: int64"
      ]
     },
     "execution_count": 36,
     "metadata": {},
     "output_type": "execute_result"
    }
   ],
   "source": [
    "all_cell_markers_df.speciesType.value_counts()"
   ]
  },
  {
   "cell_type": "code",
   "execution_count": null,
   "metadata": {},
   "outputs": [
    {
     "data": {
      "text/plain": [
       "Undefined           695\n",
       "Brain               254\n",
       "Bone marrow         254\n",
       "Lung                249\n",
       "Liver               240\n",
       "                   ... \n",
       "Fetal brain           1\n",
       "Vocal fold            1\n",
       "Nerve                 1\n",
       "Primitive streak      1\n",
       "Premolar              1\n",
       "Name: tissueType, Length: 181, dtype: int64"
      ]
     },
     "execution_count": 40,
     "metadata": {},
     "output_type": "execute_result"
    }
   ],
   "source": [
    "all_cell_markers_df.tissueType.value_counts()"
   ]
  },
  {
   "cell_type": "code",
   "execution_count": 46,
   "metadata": {},
   "outputs": [
    {
     "data": {
      "text/plain": [
       "UBERON_0000955    254\n",
       "UBERON_0002371    254\n",
       "UBERON_0002048    249\n",
       "UBERON_0002107    240\n",
       "UBERON_0005408    215\n",
       "                 ... \n",
       "UBERON_0003215      1\n",
       "UBERON_0006530      1\n",
       "UBERON_0001052      1\n",
       "UBERON_0003922      1\n",
       "UBERON_0005384      1\n",
       "Name: UberonOntologyID, Length: 172, dtype: int64"
      ]
     },
     "execution_count": 46,
     "metadata": {},
     "output_type": "execute_result"
    }
   ],
   "source": [
    "all_cell_markers_df.UberonOntologyID.value_counts()"
   ]
  },
  {
   "cell_type": "code",
   "execution_count": 47,
   "metadata": {},
   "outputs": [
    {
     "data": {
      "text/plain": [
       "Normal                                      3315\n",
       "Breast Cancer                                100\n",
       "Colorectum Cancer                             36\n",
       "Prostate Cancer                               35\n",
       "Colon Cancer                                  34\n",
       "                                            ... \n",
       "Non-Hodgkin's Lymphoma                         1\n",
       "Non-small Cell Lung Cancer (circulating)       1\n",
       "Gonadoblastoma                                 1\n",
       "Vascular Tumour                                1\n",
       "oligodendroglioma                              1\n",
       "Name: cancerType, Length: 133, dtype: int64"
      ]
     },
     "execution_count": 47,
     "metadata": {},
     "output_type": "execute_result"
    }
   ],
   "source": [
    "all_cell_markers_df.cancerType.value_counts()"
   ]
  },
  {
   "cell_type": "code",
   "execution_count": 48,
   "metadata": {},
   "outputs": [
    {
     "data": {
      "text/plain": [
       "Normal cell    3315\n",
       "Cancer cell     808\n",
       "Name: cellType, dtype: int64"
      ]
     },
     "execution_count": 48,
     "metadata": {},
     "output_type": "execute_result"
    }
   ],
   "source": [
    "all_cell_markers_df.cellType.value_counts()"
   ]
  },
  {
   "cell_type": "code",
   "execution_count": 49,
   "metadata": {},
   "outputs": [
    {
     "data": {
      "text/plain": [
       "Cancer stem cell                                             593\n",
       "Stem cell                                                    186\n",
       "Endothelial cell                                             157\n",
       "Macrophage                                                   139\n",
       "Mesenchymal stem cell                                        137\n",
       "                                                            ... \n",
       "Neuron-restricted precursor                                    1\n",
       "Limbal mesenchymal cell                                        1\n",
       "Quiescent small intestinal stem cell                           1\n",
       "Adipose multilineage-differentiating stress-enduring cell      1\n",
       "CD4+ T follicular helper cell                                  1\n",
       "Name: cellName, Length: 681, dtype: int64"
      ]
     },
     "execution_count": 49,
     "metadata": {},
     "output_type": "execute_result"
    }
   ],
   "source": [
    "all_cell_markers_df.cellName.value_counts()"
   ]
  },
  {
   "cell_type": "code",
   "execution_count": 50,
   "metadata": {},
   "outputs": [
    {
     "data": {
      "text/plain": [
       "CL_0000034    308\n",
       "CL_0000134    181\n",
       "CL_0000115    168\n",
       "CL_0000235    141\n",
       "CL_0000084    132\n",
       "             ... \n",
       "CL_0000166      1\n",
       "CL_0008020      1\n",
       "CL_0000058      1\n",
       "CL_0000210      1\n",
       "CL_0000850      1\n",
       "Name: CellOntologyID, Length: 281, dtype: int64"
      ]
     },
     "execution_count": 50,
     "metadata": {},
     "output_type": "execute_result"
    }
   ],
   "source": [
    "all_cell_markers_df.CellOntologyID.value_counts()"
   ]
  },
  {
   "cell_type": "code",
   "execution_count": 51,
   "metadata": {},
   "outputs": [
    {
     "data": {
      "text/plain": [
       "CD133                                                                 109\n",
       "CD44                                                                   58\n",
       "CD31                                                                   50\n",
       "CD68                                                                   47\n",
       "CD3                                                                    39\n",
       "                                                                     ... \n",
       "BDCA1, CD11c                                                            1\n",
       "BDCA2, CD123                                                            1\n",
       "CLEC9A                                                                  1\n",
       "TAGLN2                                                                  1\n",
       "ASCL1, BOC, CCND2, CD24, CHD7, EGFR, NFIB, SOX11, SOX2, SOX4, TCF4      1\n",
       "Name: cellMarker, Length: 2517, dtype: int64"
      ]
     },
     "execution_count": 51,
     "metadata": {},
     "output_type": "execute_result"
    }
   ],
   "source": [
    "all_cell_markers_df.cellMarker.value_counts()"
   ]
  },
  {
   "cell_type": "code",
   "execution_count": 52,
   "metadata": {},
   "outputs": [
    {
     "data": {
      "text/plain": [
       "PROM1                                                                 109\n",
       "CD44                                                                   54\n",
       "PECAM1                                                                 45\n",
       "CD68                                                                   39\n",
       "CD34                                                                   30\n",
       "                                                                     ... \n",
       "KRT18, KRT19                                                            1\n",
       "LIN28A                                                                  1\n",
       "PROM1, NCAM1                                                            1\n",
       "CLEC4F, VSIG4                                                           1\n",
       "ASCL1, BOC, CCND2, CD24, CHD7, EGFR, NFIB, SOX11, SOX2, SOX4, TCF4      1\n",
       "Name: geneSymbol, Length: 2485, dtype: int64"
      ]
     },
     "execution_count": 52,
     "metadata": {},
     "output_type": "execute_result"
    }
   ],
   "source": [
    "all_cell_markers_df.geneSymbol.value_counts()"
   ]
  },
  {
   "cell_type": "code",
   "execution_count": 53,
   "metadata": {},
   "outputs": [
    {
     "data": {
      "text/plain": [
       "8842                                                                     109\n",
       "960                                                                       54\n",
       "5175                                                                      45\n",
       "968                                                                       39\n",
       "947                                                                       30\n",
       "                                                                        ... \n",
       "8842, 4684                                                                 1\n",
       "165530, 11326                                                              1\n",
       "59, 2670                                                                   1\n",
       "Albumin family, 4311, 3875, 3856                                           1\n",
       "429, 91653, 894, 100133941, 55636, 1956, 4781, 6664, 6657, 6659, 6925      1\n",
       "Name: geneID, Length: 2487, dtype: int64"
      ]
     },
     "execution_count": 53,
     "metadata": {},
     "output_type": "execute_result"
    }
   ],
   "source": [
    "all_cell_markers_df.geneID.value_counts()"
   ]
  },
  {
   "cell_type": "code",
   "execution_count": 54,
   "metadata": {},
   "outputs": [
    {
     "data": {
      "text/plain": [
       "PROM1                                                                 115\n",
       "CD44                                                                   61\n",
       "PECA1                                                                  57\n",
       "CD68                                                                   47\n",
       "[CD3D, CD3E, CD3G]                                                     39\n",
       "                                                                     ... \n",
       "Albumin family, NEP, K1C18, K2C8                                        1\n",
       "Albumin family, K2C8                                                    1\n",
       "Albumin family, K1C18                                                   1\n",
       "FETA, FBF1, HNF4A                                                       1\n",
       "ASCL1, BOC, CCND2, CD24, CHD7, EGFR, NFIB, SOX11, SOX2, SOX4, ITF2      1\n",
       "Name: proteinName, Length: 2350, dtype: int64"
      ]
     },
     "execution_count": 54,
     "metadata": {},
     "output_type": "execute_result"
    }
   ],
   "source": [
    "all_cell_markers_df.proteinName.value_counts()"
   ]
  },
  {
   "cell_type": "code",
   "execution_count": 55,
   "metadata": {},
   "outputs": [
    {
     "data": {
      "text/plain": [
       "O43490                                                                                    109\n",
       "P16070                                                                                     54\n",
       "P16284                                                                                     45\n",
       "P34810                                                                                     39\n",
       "P28906                                                                                     30\n",
       "                                                                                         ... \n",
       "Q8N1N0, Q9Y279                                                                              1\n",
       "P62736, P14136                                                                              1\n",
       "Albumin family, P08473, P05783, P05787                                                      1\n",
       "Albumin family, P05787                                                                      1\n",
       "P50553, Q9BWV1, P30279, P25063, Q9P2D1, P00533, O00712, P35716, P48431, Q06945, P15884      1\n",
       "Name: proteinID, Length: 2481, dtype: int64"
      ]
     },
     "execution_count": 55,
     "metadata": {},
     "output_type": "execute_result"
    }
   ],
   "source": [
    "all_cell_markers_df.proteinID.value_counts()"
   ]
  },
  {
   "cell_type": "code",
   "execution_count": 56,
   "metadata": {},
   "outputs": [
    {
     "data": {
      "text/plain": [
       "Experiment                3064\n",
       "Single-cell sequencing     535\n",
       "Company                    355\n",
       "Review                     169\n",
       "Name: markerResource, dtype: int64"
      ]
     },
     "execution_count": 56,
     "metadata": {},
     "output_type": "execute_result"
    }
   ],
   "source": [
    "all_cell_markers_df.markerResource.value_counts()"
   ]
  },
  {
   "cell_type": "code",
   "execution_count": 57,
   "metadata": {},
   "outputs": [
    {
     "data": {
      "text/plain": [
       "Company     355\n",
       "30018341     41\n",
       "30093597     37\n",
       "29802404     27\n",
       "29545511     21\n",
       "           ... \n",
       "28869524      1\n",
       "17714779      1\n",
       "18701045      1\n",
       "20060164      1\n",
       "16849681      1\n",
       "Name: PMID, Length: 2379, dtype: int64"
      ]
     },
     "execution_count": 57,
     "metadata": {},
     "output_type": "execute_result"
    }
   ],
   "source": [
    "all_cell_markers_df.PMID.value_counts()"
   ]
  },
  {
   "cell_type": "code",
   "execution_count": 58,
   "metadata": {},
   "outputs": [
    {
     "data": {
      "text/plain": [
       "ebioscience           77\n",
       "miltenyibiotec        60\n",
       "abcam                 53\n",
       "biolegend             52\n",
       "bio-rad-antibodies    47\n",
       "rndsystems            35\n",
       "labome                16\n",
       "bdbiosciences         15\n",
       "Name: Company, dtype: int64"
      ]
     },
     "execution_count": 58,
     "metadata": {},
     "output_type": "execute_result"
    }
   ],
   "source": [
    "all_cell_markers_df.Company.value_counts()"
   ]
  },
  {
   "cell_type": "markdown",
   "metadata": {},
   "source": [
    "## Missing value"
   ]
  },
  {
   "cell_type": "code",
   "execution_count": 61,
   "metadata": {},
   "outputs": [
    {
     "data": {
      "text/plain": [
       "Company             0.913898\n",
       "CellOntologyID      0.210526\n",
       "UberonOntologyID    0.180936\n",
       "proteinName         0.013582\n",
       "proteinID           0.013582\n",
       "geneSymbol          0.012127\n",
       "geneID              0.012127\n",
       "speciesType         0.000000\n",
       "tissueType          0.000000\n",
       "cancerType          0.000000\n",
       "cellType            0.000000\n",
       "cellName            0.000000\n",
       "cellMarker          0.000000\n",
       "markerResource      0.000000\n",
       "PMID                0.000000\n",
       "dtype: float64"
      ]
     },
     "execution_count": 61,
     "metadata": {},
     "output_type": "execute_result"
    }
   ],
   "source": [
    "all_cell_markers_df.isna().mean().sort_values(ascending=False)"
   ]
  },
  {
   "cell_type": "code",
   "execution_count": 132,
   "metadata": {},
   "outputs": [],
   "source": [
    "test = all_cell_markers_df.copy().dropna(subset=['geneSymbol', 'proteinID'])    #[['cellMarker', 'geneSymbol', 'geneID']]\n",
    "test['cellMarker'] = test['cellMarker'].apply(lambda x: x.split(', '))\n",
    "test['geneSymbol'] = test['geneSymbol'].apply(lambda x: x.split(', '))\n",
    "test['geneID'] = test['geneID'].apply(lambda x: x.split(', '))\n",
    "test['proteinID'] = test['proteinID'].apply(lambda x: x.split(', '))\n",
    "\n",
    "test['len_cellMarker'] = test['cellMarker'].apply(len)\n",
    "test['len_geneSymbol'] = test['geneSymbol'].apply(len)\n",
    "test['len_geneID'] = test['geneID'].apply(len)\n",
    "test['len_proteinID'] = test['proteinID'].apply(len)"
   ]
  },
  {
   "cell_type": "code",
   "execution_count": 115,
   "metadata": {},
   "outputs": [],
   "source": [
    "x = test[~((test['len_cellMarker'] == test['len_geneSymbol']) & (test['len_geneSymbol'] == test['len_geneID']))]"
   ]
  },
  {
   "cell_type": "code",
   "execution_count": 122,
   "metadata": {},
   "outputs": [
    {
     "data": {
      "text/plain": [
       "['ITGAM', 'CD14', 'ITGB2', '[FCGR2A', 'FCGR2B', 'FCGR2C]', 'CD68']"
      ]
     },
     "execution_count": 122,
     "metadata": {},
     "output_type": "execute_result"
    }
   ],
   "source": [
    "x.iloc[0]['geneSymbol']"
   ]
  },
  {
   "cell_type": "code",
   "execution_count": 123,
   "metadata": {},
   "outputs": [
    {
     "data": {
      "text/plain": [
       "['CD11b', 'CD14', 'CD18', 'CD32', 'CD68']"
      ]
     },
     "execution_count": 123,
     "metadata": {},
     "output_type": "execute_result"
    }
   ],
   "source": [
    "x.iloc[0]['cellMarker']"
   ]
  },
  {
   "cell_type": "code",
   "execution_count": 124,
   "metadata": {},
   "outputs": [
    {
     "data": {
      "text/plain": [
       "['3684', '929', '3689', '[2212', '2213', '9103]', '968']"
      ]
     },
     "execution_count": 124,
     "metadata": {},
     "output_type": "execute_result"
    }
   ],
   "source": [
    "x.iloc[0]['geneID']"
   ]
  },
  {
   "cell_type": "code",
   "execution_count": 129,
   "metadata": {},
   "outputs": [],
   "source": [
    "# the problem of spliting for the cell maker"
   ]
  },
  {
   "cell_type": "code",
   "execution_count": 130,
   "metadata": {},
   "outputs": [
    {
     "data": {
      "text/html": [
       "<div>\n",
       "<style scoped>\n",
       "    .dataframe tbody tr th:only-of-type {\n",
       "        vertical-align: middle;\n",
       "    }\n",
       "\n",
       "    .dataframe tbody tr th {\n",
       "        vertical-align: top;\n",
       "    }\n",
       "\n",
       "    .dataframe thead th {\n",
       "        text-align: right;\n",
       "    }\n",
       "</style>\n",
       "<table border=\"1\" class=\"dataframe\">\n",
       "  <thead>\n",
       "    <tr style=\"text-align: right;\">\n",
       "      <th></th>\n",
       "      <th>speciesType</th>\n",
       "      <th>tissueType</th>\n",
       "      <th>UberonOntologyID</th>\n",
       "      <th>cancerType</th>\n",
       "      <th>cellType</th>\n",
       "      <th>cellName</th>\n",
       "      <th>CellOntologyID</th>\n",
       "      <th>cellMarker</th>\n",
       "      <th>geneSymbol</th>\n",
       "      <th>geneID</th>\n",
       "      <th>proteinName</th>\n",
       "      <th>proteinID</th>\n",
       "      <th>markerResource</th>\n",
       "      <th>PMID</th>\n",
       "      <th>Company</th>\n",
       "      <th>len_cellMarker</th>\n",
       "      <th>len_geneSymbol</th>\n",
       "      <th>len_geneID</th>\n",
       "    </tr>\n",
       "  </thead>\n",
       "  <tbody>\n",
       "    <tr>\n",
       "      <th>0</th>\n",
       "      <td>Human</td>\n",
       "      <td>Kidney</td>\n",
       "      <td>UBERON_0002113</td>\n",
       "      <td>Normal</td>\n",
       "      <td>Normal cell</td>\n",
       "      <td>Proximal tubular cell</td>\n",
       "      <td>NaN</td>\n",
       "      <td>[Intestinal Alkaline Phosphatase]</td>\n",
       "      <td>[ALPI]</td>\n",
       "      <td>[248]</td>\n",
       "      <td>PPBI</td>\n",
       "      <td>P09923</td>\n",
       "      <td>Experiment</td>\n",
       "      <td>9263997</td>\n",
       "      <td>NaN</td>\n",
       "      <td>1</td>\n",
       "      <td>1</td>\n",
       "      <td>1</td>\n",
       "    </tr>\n",
       "    <tr>\n",
       "      <th>1</th>\n",
       "      <td>Human</td>\n",
       "      <td>Liver</td>\n",
       "      <td>UBERON_0002107</td>\n",
       "      <td>Normal</td>\n",
       "      <td>Normal cell</td>\n",
       "      <td>Ito cell (hepatic stellate cell)</td>\n",
       "      <td>CL_0000632</td>\n",
       "      <td>[Synaptophysin]</td>\n",
       "      <td>[SYP]</td>\n",
       "      <td>[6855]</td>\n",
       "      <td>SYPH</td>\n",
       "      <td>P08247</td>\n",
       "      <td>Experiment</td>\n",
       "      <td>10595912</td>\n",
       "      <td>NaN</td>\n",
       "      <td>1</td>\n",
       "      <td>1</td>\n",
       "      <td>1</td>\n",
       "    </tr>\n",
       "    <tr>\n",
       "      <th>2</th>\n",
       "      <td>Human</td>\n",
       "      <td>Endometrium</td>\n",
       "      <td>UBERON_0001295</td>\n",
       "      <td>Normal</td>\n",
       "      <td>Normal cell</td>\n",
       "      <td>Trophoblast cell</td>\n",
       "      <td>CL_0000351</td>\n",
       "      <td>[CEACAM1]</td>\n",
       "      <td>[CEACAM1]</td>\n",
       "      <td>[634]</td>\n",
       "      <td>CEAM1</td>\n",
       "      <td>P13688</td>\n",
       "      <td>Experiment</td>\n",
       "      <td>10751340</td>\n",
       "      <td>NaN</td>\n",
       "      <td>1</td>\n",
       "      <td>1</td>\n",
       "      <td>1</td>\n",
       "    </tr>\n",
       "    <tr>\n",
       "      <th>3</th>\n",
       "      <td>Human</td>\n",
       "      <td>Germ</td>\n",
       "      <td>UBERON_0000923</td>\n",
       "      <td>Normal</td>\n",
       "      <td>Normal cell</td>\n",
       "      <td>Primordial germ cell</td>\n",
       "      <td>CL_0000670</td>\n",
       "      <td>[VASA]</td>\n",
       "      <td>[DDX4]</td>\n",
       "      <td>[54514]</td>\n",
       "      <td>DDX4</td>\n",
       "      <td>Q9NQI0</td>\n",
       "      <td>Experiment</td>\n",
       "      <td>10920202</td>\n",
       "      <td>NaN</td>\n",
       "      <td>1</td>\n",
       "      <td>1</td>\n",
       "      <td>1</td>\n",
       "    </tr>\n",
       "    <tr>\n",
       "      <th>4</th>\n",
       "      <td>Human</td>\n",
       "      <td>Corneal epithelium</td>\n",
       "      <td>UBERON_0001772</td>\n",
       "      <td>Normal</td>\n",
       "      <td>Normal cell</td>\n",
       "      <td>Epithelial cell</td>\n",
       "      <td>CL_0000066</td>\n",
       "      <td>[KLF6]</td>\n",
       "      <td>[KLF6]</td>\n",
       "      <td>[1316]</td>\n",
       "      <td>KLF6</td>\n",
       "      <td>Q99612</td>\n",
       "      <td>Experiment</td>\n",
       "      <td>12407152</td>\n",
       "      <td>NaN</td>\n",
       "      <td>1</td>\n",
       "      <td>1</td>\n",
       "      <td>1</td>\n",
       "    </tr>\n",
       "    <tr>\n",
       "      <th>...</th>\n",
       "      <td>...</td>\n",
       "      <td>...</td>\n",
       "      <td>...</td>\n",
       "      <td>...</td>\n",
       "      <td>...</td>\n",
       "      <td>...</td>\n",
       "      <td>...</td>\n",
       "      <td>...</td>\n",
       "      <td>...</td>\n",
       "      <td>...</td>\n",
       "      <td>...</td>\n",
       "      <td>...</td>\n",
       "      <td>...</td>\n",
       "      <td>...</td>\n",
       "      <td>...</td>\n",
       "      <td>...</td>\n",
       "      <td>...</td>\n",
       "      <td>...</td>\n",
       "    </tr>\n",
       "    <tr>\n",
       "      <th>4118</th>\n",
       "      <td>Human</td>\n",
       "      <td>Embryo</td>\n",
       "      <td>UBERON_0000922</td>\n",
       "      <td>Normal</td>\n",
       "      <td>Normal cell</td>\n",
       "      <td>8-cell stage cell (Blastomere)</td>\n",
       "      <td>CL_0000353</td>\n",
       "      <td>[C11orf48, C19orf53, DHX9, DIABLO, EIF1AD, EIF...</td>\n",
       "      <td>[LBHD1, C19orf53, DHX9, DIABLO, EIF1AD, EIF4G1...</td>\n",
       "      <td>[79081, 28974, 1660, 56616, 84285, 1981, 26017...</td>\n",
       "      <td>LBHD1, L10K, DHX9, DBLOH, EIF1A, IF4G1, FA32A,...</td>\n",
       "      <td>Q9BQE6, Q9UNZ5, Q08211, Q9NR28, Q8N9N8, Q04637...</td>\n",
       "      <td>Single-cell sequencing</td>\n",
       "      <td>23892778</td>\n",
       "      <td>NaN</td>\n",
       "      <td>19</td>\n",
       "      <td>19</td>\n",
       "      <td>19</td>\n",
       "    </tr>\n",
       "    <tr>\n",
       "      <th>4119</th>\n",
       "      <td>Mouse</td>\n",
       "      <td>Embryo</td>\n",
       "      <td>UBERON_0000922</td>\n",
       "      <td>Normal</td>\n",
       "      <td>Normal cell</td>\n",
       "      <td>8-cell stage cell (Blastomere)</td>\n",
       "      <td>CL_0000353</td>\n",
       "      <td>[Abcf1, Cdc37, Diablo, Eif1ad, Eif4g1, Fam32a,...</td>\n",
       "      <td>[Abcf1, Cdc37, Diablo, Eif1ad, Eif4g1, Fam32a,...</td>\n",
       "      <td>[224742, 12539, 66593, 69860, 208643, 67922, 7...</td>\n",
       "      <td>ABCF1, CDC37, DBLOH, EIF1A, IF4G1, FA32A, KDM5...</td>\n",
       "      <td>Q6P542, Q61081, Q9JIQ3, Q3THJ3, Q6NZJ6, Q9CR80...</td>\n",
       "      <td>Single-cell sequencing</td>\n",
       "      <td>23892778</td>\n",
       "      <td>NaN</td>\n",
       "      <td>12</td>\n",
       "      <td>12</td>\n",
       "      <td>12</td>\n",
       "    </tr>\n",
       "    <tr>\n",
       "      <th>4120</th>\n",
       "      <td>Human</td>\n",
       "      <td>Embryo</td>\n",
       "      <td>UBERON_0000922</td>\n",
       "      <td>Normal</td>\n",
       "      <td>Normal cell</td>\n",
       "      <td>Morula cell (Blastomere)</td>\n",
       "      <td>CL_0000360</td>\n",
       "      <td>[ADCK1, AGL, AIMP1, AKAP12, ARPC3, ATP1B3, ATP...</td>\n",
       "      <td>[ADCK1, AGL, AIMP1, AKAP12, ARPC3, ATP1B3, NA,...</td>\n",
       "      <td>[57143, 178, 9255, 9590, 10094, 483, NA, 586, ...</td>\n",
       "      <td>ADCK1, GDE, AIMP1, AKA12, ARPC3, AT1B3, AT5F1,...</td>\n",
       "      <td>Q86TW2, P35573, Q12904, Q02952, O15145, P54709...</td>\n",
       "      <td>Single-cell sequencing</td>\n",
       "      <td>23892778</td>\n",
       "      <td>NaN</td>\n",
       "      <td>112</td>\n",
       "      <td>112</td>\n",
       "      <td>112</td>\n",
       "    </tr>\n",
       "    <tr>\n",
       "      <th>4121</th>\n",
       "      <td>Mouse</td>\n",
       "      <td>Embryo</td>\n",
       "      <td>UBERON_0000922</td>\n",
       "      <td>Normal</td>\n",
       "      <td>Normal cell</td>\n",
       "      <td>Morula cell (Blastomere)</td>\n",
       "      <td>CL_0000360</td>\n",
       "      <td>[Aimp1, Atp5f1, Atp5h, Bcat1, Bin1, Ccbl2, Cct...</td>\n",
       "      <td>[Aimp1, Atp5f1, Atp5h, Bcat1, Bin1, Kyat3, Cct...</td>\n",
       "      <td>[13722, 11950, 71679, 12035, 30948, 229905, 12...</td>\n",
       "      <td>AIMP1, AT5F1, ATP5H, BCAT1, BIN1, KAT3, TCPE, ...</td>\n",
       "      <td>P31230, Q9CQQ7, Q9DCX2, P24288, O08539, Q71RI9...</td>\n",
       "      <td>Single-cell sequencing</td>\n",
       "      <td>23892778</td>\n",
       "      <td>NaN</td>\n",
       "      <td>37</td>\n",
       "      <td>37</td>\n",
       "      <td>37</td>\n",
       "    </tr>\n",
       "    <tr>\n",
       "      <th>4122</th>\n",
       "      <td>Human</td>\n",
       "      <td>Brain</td>\n",
       "      <td>UBERON_0000955</td>\n",
       "      <td>oligodendroglioma</td>\n",
       "      <td>Cancer cell</td>\n",
       "      <td>Cancer stem cell</td>\n",
       "      <td>NaN</td>\n",
       "      <td>[ASCL1, BOC, CCND2, CD24, CHD7, EGFR, NFIB, SO...</td>\n",
       "      <td>[ASCL1, BOC, CCND2, CD24, CHD7, EGFR, NFIB, SO...</td>\n",
       "      <td>[429, 91653, 894, 100133941, 55636, 1956, 4781...</td>\n",
       "      <td>ASCL1, BOC, CCND2, CD24, CHD7, EGFR, NFIB, SOX...</td>\n",
       "      <td>P50553, Q9BWV1, P30279, P25063, Q9P2D1, P00533...</td>\n",
       "      <td>Single-cell sequencing</td>\n",
       "      <td>27806376</td>\n",
       "      <td>NaN</td>\n",
       "      <td>11</td>\n",
       "      <td>11</td>\n",
       "      <td>11</td>\n",
       "    </tr>\n",
       "  </tbody>\n",
       "</table>\n",
       "<p>4073 rows × 18 columns</p>\n",
       "</div>"
      ],
      "text/plain": [
       "     speciesType          tissueType UberonOntologyID         cancerType  \\\n",
       "0          Human              Kidney   UBERON_0002113             Normal   \n",
       "1          Human               Liver   UBERON_0002107             Normal   \n",
       "2          Human         Endometrium   UBERON_0001295             Normal   \n",
       "3          Human                Germ   UBERON_0000923             Normal   \n",
       "4          Human  Corneal epithelium   UBERON_0001772             Normal   \n",
       "...          ...                 ...              ...                ...   \n",
       "4118       Human              Embryo   UBERON_0000922             Normal   \n",
       "4119       Mouse              Embryo   UBERON_0000922             Normal   \n",
       "4120       Human              Embryo   UBERON_0000922             Normal   \n",
       "4121       Mouse              Embryo   UBERON_0000922             Normal   \n",
       "4122       Human               Brain   UBERON_0000955  oligodendroglioma   \n",
       "\n",
       "         cellType                          cellName CellOntologyID  \\\n",
       "0     Normal cell             Proximal tubular cell            NaN   \n",
       "1     Normal cell  Ito cell (hepatic stellate cell)     CL_0000632   \n",
       "2     Normal cell                  Trophoblast cell     CL_0000351   \n",
       "3     Normal cell              Primordial germ cell     CL_0000670   \n",
       "4     Normal cell                   Epithelial cell     CL_0000066   \n",
       "...           ...                               ...            ...   \n",
       "4118  Normal cell    8-cell stage cell (Blastomere)     CL_0000353   \n",
       "4119  Normal cell    8-cell stage cell (Blastomere)     CL_0000353   \n",
       "4120  Normal cell          Morula cell (Blastomere)     CL_0000360   \n",
       "4121  Normal cell          Morula cell (Blastomere)     CL_0000360   \n",
       "4122  Cancer cell                  Cancer stem cell            NaN   \n",
       "\n",
       "                                             cellMarker  \\\n",
       "0                     [Intestinal Alkaline Phosphatase]   \n",
       "1                                       [Synaptophysin]   \n",
       "2                                             [CEACAM1]   \n",
       "3                                                [VASA]   \n",
       "4                                                [KLF6]   \n",
       "...                                                 ...   \n",
       "4118  [C11orf48, C19orf53, DHX9, DIABLO, EIF1AD, EIF...   \n",
       "4119  [Abcf1, Cdc37, Diablo, Eif1ad, Eif4g1, Fam32a,...   \n",
       "4120  [ADCK1, AGL, AIMP1, AKAP12, ARPC3, ATP1B3, ATP...   \n",
       "4121  [Aimp1, Atp5f1, Atp5h, Bcat1, Bin1, Ccbl2, Cct...   \n",
       "4122  [ASCL1, BOC, CCND2, CD24, CHD7, EGFR, NFIB, SO...   \n",
       "\n",
       "                                             geneSymbol  \\\n",
       "0                                                [ALPI]   \n",
       "1                                                 [SYP]   \n",
       "2                                             [CEACAM1]   \n",
       "3                                                [DDX4]   \n",
       "4                                                [KLF6]   \n",
       "...                                                 ...   \n",
       "4118  [LBHD1, C19orf53, DHX9, DIABLO, EIF1AD, EIF4G1...   \n",
       "4119  [Abcf1, Cdc37, Diablo, Eif1ad, Eif4g1, Fam32a,...   \n",
       "4120  [ADCK1, AGL, AIMP1, AKAP12, ARPC3, ATP1B3, NA,...   \n",
       "4121  [Aimp1, Atp5f1, Atp5h, Bcat1, Bin1, Kyat3, Cct...   \n",
       "4122  [ASCL1, BOC, CCND2, CD24, CHD7, EGFR, NFIB, SO...   \n",
       "\n",
       "                                                 geneID  \\\n",
       "0                                                 [248]   \n",
       "1                                                [6855]   \n",
       "2                                                 [634]   \n",
       "3                                               [54514]   \n",
       "4                                                [1316]   \n",
       "...                                                 ...   \n",
       "4118  [79081, 28974, 1660, 56616, 84285, 1981, 26017...   \n",
       "4119  [224742, 12539, 66593, 69860, 208643, 67922, 7...   \n",
       "4120  [57143, 178, 9255, 9590, 10094, 483, NA, 586, ...   \n",
       "4121  [13722, 11950, 71679, 12035, 30948, 229905, 12...   \n",
       "4122  [429, 91653, 894, 100133941, 55636, 1956, 4781...   \n",
       "\n",
       "                                            proteinName  \\\n",
       "0                                                  PPBI   \n",
       "1                                                  SYPH   \n",
       "2                                                 CEAM1   \n",
       "3                                                  DDX4   \n",
       "4                                                  KLF6   \n",
       "...                                                 ...   \n",
       "4118  LBHD1, L10K, DHX9, DBLOH, EIF1A, IF4G1, FA32A,...   \n",
       "4119  ABCF1, CDC37, DBLOH, EIF1A, IF4G1, FA32A, KDM5...   \n",
       "4120  ADCK1, GDE, AIMP1, AKA12, ARPC3, AT1B3, AT5F1,...   \n",
       "4121  AIMP1, AT5F1, ATP5H, BCAT1, BIN1, KAT3, TCPE, ...   \n",
       "4122  ASCL1, BOC, CCND2, CD24, CHD7, EGFR, NFIB, SOX...   \n",
       "\n",
       "                                              proteinID  \\\n",
       "0                                                P09923   \n",
       "1                                                P08247   \n",
       "2                                                P13688   \n",
       "3                                                Q9NQI0   \n",
       "4                                                Q99612   \n",
       "...                                                 ...   \n",
       "4118  Q9BQE6, Q9UNZ5, Q08211, Q9NR28, Q8N9N8, Q04637...   \n",
       "4119  Q6P542, Q61081, Q9JIQ3, Q3THJ3, Q6NZJ6, Q9CR80...   \n",
       "4120  Q86TW2, P35573, Q12904, Q02952, O15145, P54709...   \n",
       "4121  P31230, Q9CQQ7, Q9DCX2, P24288, O08539, Q71RI9...   \n",
       "4122  P50553, Q9BWV1, P30279, P25063, Q9P2D1, P00533...   \n",
       "\n",
       "              markerResource      PMID Company  len_cellMarker  \\\n",
       "0                 Experiment   9263997     NaN               1   \n",
       "1                 Experiment  10595912     NaN               1   \n",
       "2                 Experiment  10751340     NaN               1   \n",
       "3                 Experiment  10920202     NaN               1   \n",
       "4                 Experiment  12407152     NaN               1   \n",
       "...                      ...       ...     ...             ...   \n",
       "4118  Single-cell sequencing  23892778     NaN              19   \n",
       "4119  Single-cell sequencing  23892778     NaN              12   \n",
       "4120  Single-cell sequencing  23892778     NaN             112   \n",
       "4121  Single-cell sequencing  23892778     NaN              37   \n",
       "4122  Single-cell sequencing  27806376     NaN              11   \n",
       "\n",
       "      len_geneSymbol  len_geneID  \n",
       "0                  1           1  \n",
       "1                  1           1  \n",
       "2                  1           1  \n",
       "3                  1           1  \n",
       "4                  1           1  \n",
       "...              ...         ...  \n",
       "4118              19          19  \n",
       "4119              12          12  \n",
       "4120             112         112  \n",
       "4121              37          37  \n",
       "4122              11          11  \n",
       "\n",
       "[4073 rows x 18 columns]"
      ]
     },
     "execution_count": 130,
     "metadata": {},
     "output_type": "execute_result"
    }
   ],
   "source": [
    "test"
   ]
  },
  {
   "cell_type": "code",
   "execution_count": null,
   "metadata": {},
   "outputs": [],
   "source": [
    "_id : geneid\n",
    "\n",
    "\n",
    "elastic_search: (integer field) number of participants"
   ]
  }
 ],
 "metadata": {
  "kernelspec": {
   "display_name": "scripps_microbiome",
   "language": "python",
   "name": "python3"
  },
  "language_info": {
   "codemirror_mode": {
    "name": "ipython",
    "version": 3
   },
   "file_extension": ".py",
   "mimetype": "text/x-python",
   "name": "python",
   "nbconvert_exporter": "python",
   "pygments_lexer": "ipython3",
   "version": "3.8.19"
  }
 },
 "nbformat": 4,
 "nbformat_minor": 2
}
